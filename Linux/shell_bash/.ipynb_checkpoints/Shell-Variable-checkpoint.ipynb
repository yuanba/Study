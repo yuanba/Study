{
 "cells": [
  {
   "cell_type": "markdown",
   "metadata": {},
   "source": [
    "## Shell Variable的分类\n",
    "* 本地变量：\n",
    "    本地变量的作用域只在我们的本地变量中，只存在我们的当前的shell进程中，子进程无法使用我们的本地变量\n",
    "    * 这里介绍一个小的要点:\n",
    "        我们可以使用我们的ps命令查看当前的shell的进程PID然后使用我们的pstree查看我们的shell进程中的程序的运行情况\n",
    "    * 分类\n",
    "        * 局部本地变量：\n",
    "            只存在于我们的函数中,我们使用local关键字定义的变量是局部变量   \n",
    "            局部变量在函数体外不存在作用域\n",
    "        * 全局本地变量：\n",
    "            这里主要准队的是在脚本中的时候，我们编写的全局的本地变量可以在我们的函数体中使用\n",
    "        如果函数体中不存在我们的和全局变量相同的局部变量，我们使用的变量应该是全局变量  \n",
    "        如果我们的函数体存在一个和一个全局变量名称相同的变量，我们使用的时候默认使用的是局部变量\n",
    "* 环境变量:\n",
    "    环境变量使我们的当前进程和我们的紫禁城都可以使用的变量我们称之为是我们的环境变量  \n",
    "    我们需要知道我们的环境变量只能存在是可以被我们的子shell集成的就可以了\n",
    "    ```\n",
    "    export var1=\"something\"    #声明一个环境变量\n",
    "    ------------------------------------------\n",
    "    var2=\"anything\"\n",
    "    export var2\n",
    "    ```\n",
    "    需要注意我们的环境变量在unset之前一直都是环境变量\n",
    "* 只读变量:\n",
    "    * readonly变量 **不可以 unset，修改** ，想要终结只读变量，只能退出当前的shell\n",
    "    * 只读便令不可以继承给子shell，继承给子shell需要我们使用export\n",
    "    ```\n",
    "    readonly var1=\"something\"\n",
    "    #---------------------------------\n",
    "    var2=\"anything\"\n",
    "    readonly var2\n",
    "    #---------------------------------\n",
    "    export readonly var3=\"nothing\"     #可以继承给子shell的只读变量\n",
    "    ```\n",
    "* 特殊变量:\n",
    "    * \\$?:上一条命令的执行结果，0表示成功执行，1-255表示错误执行（1,2,127是系统预留的错误码）\n",
    "    * \\$n:\n",
    "    * shift -n:可以移动我们的命令行参数，默认是往前平移1，可以用来扩展我们的用户的使用的命令行参数的个数(${num}可以实现我们获取不存在的命命令行参数)\n",
    "    \n",
    "* 如何在我们的脚本中使用本地变量\n",
    "    * export将本地变量到环境变量转化\n",
    "    * 改变我们的运行脚本的方式\n",
    "        * 正常情况下采用的启动脚本的方式实在我们的当前的shell中开了一个子shell并运行\n",
    "        * source / .：可以做到我们在本地运行我们的程序，而不是再开一个子shell"
   ]
  }
 ],
 "metadata": {
  "kernelspec": {
   "display_name": "Python 3",
   "language": "python",
   "name": "python3"
  },
  "language_info": {
   "codemirror_mode": {
    "name": "ipython",
    "version": 3
   },
   "file_extension": ".py",
   "mimetype": "text/x-python",
   "name": "python",
   "nbconvert_exporter": "python",
   "pygments_lexer": "ipython3",
   "version": "3.5.2"
  }
 },
 "nbformat": 4,
 "nbformat_minor": 2
}
