{
 "cells": [
  {
   "cell_type": "markdown",
   "metadata": {},
   "source": [
    "## Shell的算数运算\n",
    "* Shell本身的所有的数据类型我们都可以理解成是一种字符串，我们的所有的额操作都是针对字符串的\n",
    "* 使用外部程序对我们的Shell的算数运算进行扩展\n",
    "    * let:只支持整数运算\n",
    "    ```\n",
    "    let a=1+2\n",
    "    ```\n",
    "    * expr:只支持整数运算，运算符和我们的数据要空格分开，对乘号要进行转义\n",
    "    ```\n",
    "    a=`expr 1 + 2`\n",
    "    ```\n",
    "    * bc:最强大的算数运算程序\n",
    "    ```\n",
    "    echo \"xxxx\" | bc\n",
    "    bc <<< \"xxx\"\n",
    "    bc < file\n",
    "    ```\n",
    "        * scale=n:制定精度\n",
    "        * bc:不足1的0不显示\n",
    "        * 每个语句都要用分号结尾\n",
    "    * \\$()  ||  \\$(())都只支持整数运算"
   ]
  },
  {
   "cell_type": "markdown",
   "metadata": {},
   "source": [
    "### 待续。。。。（for bc）"
   ]
  },
  {
   "cell_type": "markdown",
   "metadata": {},
   "source": [
    "## Shell逻辑运算\n",
    "\n",
    "* ! , -a , -o\n",
    "* && , ||\n",
    "```\n",
    "[ ... -a ... ] && [ ... -o ... ] || [ ! ... ]\n",
    "[[ ... && / || ... ]]\n",
    "```\n",
    "* &&是-a的短路版本，||是-o的短路版本\n",
    "* && ， || 的使用方法和我们的-a，-o不太一样\n",
    "* 利用组合性质，我们可以实现选择命令执行语句\n",
    "    ```\n",
    "    cmd1 && cmd2 : cmd1执行成功则执行cmd2，否则不执行cmd2\n",
    "    cmd1 || cmd2 ： cmd1成功不执行cmd2，cmd1失败执行cmd2\n",
    "    cmd1 && cmd2 || cmd3 ： cmd1和cmd2有一个执行不成功就执行cmd3，否则不执行\n",
    "    cmd1 || cmd2 && cmd3 ： cmd1和cmd2有一个成功执行cmd3，否则不执行cmd3\n",
    "    ```"
   ]
  },
  {
   "cell_type": "markdown",
   "metadata": {},
   "source": [
    "## (),{}代码块\n",
    "* ()内的代码相当于是开了一个子shell病在其中运行代码,整体输出结果\n",
    "* {}内的代码在当前的shell本地运行，并输出结果，并且注意我们的{}要求每一个语句结束都需要；还有{}前后都需要用空格和代码块本身隔开"
   ]
  }
 ],
 "metadata": {
  "kernelspec": {
   "display_name": "Python 3",
   "language": "python",
   "name": "python3"
  },
  "language_info": {
   "codemirror_mode": {
    "name": "ipython",
    "version": 3
   },
   "file_extension": ".py",
   "mimetype": "text/x-python",
   "name": "python",
   "nbconvert_exporter": "python",
   "pygments_lexer": "ipython3",
   "version": "3.5.2"
  }
 },
 "nbformat": 4,
 "nbformat_minor": 2
}
