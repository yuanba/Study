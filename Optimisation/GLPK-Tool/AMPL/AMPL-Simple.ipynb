{
 "cells": [
  {
   "cell_type": "markdown",
   "metadata": {},
   "source": [
    "### 集合\n",
    "* dimen x 定义集合的维数\n",
    "* within 定义子集关系\n",
    "* := 初始化集合\n",
    "* default 为集合设定默认值\n",
    "* ordered 设定有序集合  \n",
    "  ```\n",
    "  #数据文件中定义\n",
    "  #定义有序集合\n",
    "  set P[1]=x;\n",
    "  set P[2]=y;\n",
    "  #set P:=(1,x)(2,y)\n",
    "  ```"
   ]
  },
  {
   "cell_type": "markdown",
   "metadata": {},
   "source": [
    "### 参数\n",
    "* binary 设定数据是二进制\n",
    "* integer 定义数据是整形\n",
    "* symbolic 定义数据是符号类型\n",
    "* <,<=,=,!=,>=,> 定义参数的初始化约束\n",
    "* default 定义参数的默认值\n",
    "* 数据类型\n",
    "    * 标量:\n",
    "    ```\n",
    "    param v:=100\n",
    "    ```\n",
    "    * 向量\n",
    "    ```\n",
    "    param v:=1 10 2 100  #定义向量V(v1=10,v2=100)\n",
    "    ```\n",
    "    * 矩阵\n",
    "    ```\n",
    "    param A(tr):1 2 3:=\n",
    "    1 10 100 1000\n",
    "    2 1000 100 10\n",
    "    #定义矩阵，tr表示转置矩阵\n",
    "    #如果上述的A没有制定的话，我们相当于是行（1 2 3）索引在列（1,2）上的参数表示，有1,2,3都在1,2,上的索引的简要写法\n",
    "    ```"
   ]
  },
  {
   "cell_type": "markdown",
   "metadata": {},
   "source": [
    "### 变量\n",
    "* binary 变量是二进制\n",
    "* integer 变量设置成整形\n",
    "* := 变量的初始化\n",
    "* \\>,>=,=,<=,< 变量的初始化约束\n",
    "* 复合约束：\n",
    "```\n",
    "var x >=0,<=10;   # 0=< x <=10\n",
    "```"
   ]
  },
  {
   "cell_type": "markdown",
   "metadata": {},
   "source": [
    "### 运算\n",
    "* +,-,*,/,^,less,mod - less是非负差，mod是取余\n",
    "* sum,prod,三角函数,反三角函数，floor，log，log10，abs - sum求和，prod求积，abs绝对值\n",
    "* Uniform01(),Uniform(0,1) - 返回一个0-1之间的伪随机数\n",
    "* card 求集合的元素的个数 ， cross 集合的笛卡尔积 , diff 集合差 , inter 集合交 , union 集合并 , first 取集合首元素 , last 去集合末元素"
   ]
  }
 ],
 "metadata": {
  "kernelspec": {
   "display_name": "Python 3",
   "language": "python",
   "name": "python3"
  },
  "language_info": {
   "codemirror_mode": {
    "name": "ipython",
    "version": 3
   },
   "file_extension": ".py",
   "mimetype": "text/x-python",
   "name": "python",
   "nbconvert_exporter": "python",
   "pygments_lexer": "ipython3",
   "version": "3.5.2"
  }
 },
 "nbformat": 4,
 "nbformat_minor": 2
}
