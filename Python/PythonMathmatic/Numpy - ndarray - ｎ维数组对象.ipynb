{
 "cells": [
  {
   "cell_type": "markdown",
   "metadata": {},
   "source": [
    "## Python - Numpy - ndarrays \n",
    "在Python中我们利用ndarray对我们的数据进行存储，本质上ndarray是一种多维数组，并且我们的numpy的到多数的操作都是针对于我们的ndarray对象进行的，所以说，我们先来学习numpy的ndarray对象的相关的要点，**并不断补充**\n",
    "\n",
    "**这里需要提前说明，之后我提到的多维数组都代表ｎｄａｒｒａｙ多维数组对象**\n",
    "\n",
    "1. python-numpy的核心对象就是ndarrays对象，他是整个库的核心对象，所有的函数围绕着该对象进行，并且该对象为其他的科学计算模块提供广泛的接口优点如下\n",
    "    * 高效存储大量的元素\n",
    "    * 提高计算速度\n",
    "    * 扩展其他科学计算模块\n",
    "    \n",
    "2. 创建：\n",
    "numpy可以利用array对象对任何python的内置的可迭代对象进行构建，重组成对应的多维数组"
   ]
  },
  {
   "cell_type": "code",
   "execution_count": 10,
   "metadata": {
    "collapsed": false
   },
   "outputs": [
    {
     "name": "stdout",
     "output_type": "stream",
     "text": [
      "a:  6\n",
      "b:  [1 2 3 4]\n",
      "c:  [[1 2]\n",
      " [3 4]]\n",
      "d:  [0 1 2 3 4 5 6 7 8 9]\n"
     ]
    }
   ],
   "source": [
    "from numpy import *\n",
    "a = array(6)\n",
    "b = array([1,2,3,4])\n",
    "c = array([[1,2,],[3,4,]])\n",
    "d = array(range(10))\n",
    "print('a: ',a)\n",
    "print('b: ',b)\n",
    "print('c: ',c)\n",
    "print('d: ',d)"
   ]
  },
  {
   "cell_type": "markdown",
   "metadata": {},
   "source": [
    "    * shape属性，我们的所有的array数组都存在一个shape属性(元组)，准确的描述我们的当前的额ndarray对象的规模\n",
    "    我们可以对shape进行显示的修改，但是要确保我们修改后的结果保持规模不变\n",
    "        并且当摸一个ｓｈａｐｅ元组的规模元组中有－１的时候我们会自动的计算我们的元组的规模\n",
    "    * reshape（tuple）：ｒｅｓｈａｐｅ函数通过指定参数ｔｕｐｌｅ修正我们的当前的额多维数组对象，但是我们需要记住\n",
    "    * 上述的两种方法修改之后的结构和我们的原数组空间内容共享"
   ]
  },
  {
   "cell_type": "code",
   "execution_count": 2,
   "metadata": {
    "collapsed": false
   },
   "outputs": [
    {
     "name": "stdout",
     "output_type": "stream",
     "text": [
      "[0 1 2 3 4 5 6 7 8 9]\n",
      "[[0 1 2 3 4]\n",
      " [5 6 7 8 9]]\n",
      "[[0 1 2 3 4]\n",
      " [5 6 7 8 9]]\n",
      "[[100   1   2   3   4]\n",
      " [  5   6   7   8   9]]\n"
     ]
    }
   ],
   "source": [
    "from numpy import *\n",
    "a = array(range(10))\n",
    "print(a)\n",
    "a.shape = 2,5\n",
    "print(a)\n",
    "b = a.reshape(2,5)\n",
    "print(b)\n",
    "a[0][0] = 100\n",
    "print(b)"
   ]
  },
  {
   "cell_type": "markdown",
   "metadata": {},
   "source": [
    "3.元素类型：\n",
    "元素的类在创建或者创建之后可以修改成对应的类型，这里我们对应的属性是dtype属性，默认的数据类型是根据我们的机器的标准来的  \n",
    "我们的所有的字符串和对应的数据类型的键值关系保存在我们的typeDict元组中，存在很多的键都表示相同的一种数据类型\n",
    "    * int / uint：前者是有符号，后者是无符号\n",
    "    * 元素类型也可以构建对应的数据，不过是单个的构建了，这和我们的ｎｄａｒｒａｙ队形就没有什么太大的关系\n",
    "    * astype（）函数通过制定对应的数据类型，将我们的已经存在的多维数组进行转化变成其他的数据类型的多维数组,**这里我们需要记住，此时生成的的多维数组对象是新生成的，不和我们的原来的数组对象保持内存的共享**\n",
    "    * 制定对应的数据类型的时候，我么需要小心数据溢出的可能性\n",
    "        * int32 : 2**31-1\n",
    "        * uint32 : 2**32 - 1\n",
    "    * 单个的数据运算上,numpy可能不如我们的内置的数据类型，但是我们的需要知道，在大数量方面，我们的计算速度和资源消耗将会很小"
   ]
  },
  {
   "cell_type": "code",
   "execution_count": 30,
   "metadata": {
    "collapsed": false
   },
   "outputs": [
    {
     "name": "stdout",
     "output_type": "stream",
     "text": [
      "['d', 12, 'double', 'float64', 'float_', 'f8', 'Float64', 'float']\n",
      "int64\n",
      "float64\n",
      "[ 0.  1.  2.  3.  4.  5.  6.  7.  8.  9.]\n"
     ]
    }
   ],
   "source": [
    "print([k for k,v in typeDict.items() if v == float64])\n",
    "a = array(range(10))\n",
    "print(a.dtype)\n",
    "b = a.astype(float64)\n",
    "print(b.dtype)\n",
    "a[0] = 100\n",
    "print(b)    # No relationship with the a"
   ]
  },
  {
   "cell_type": "markdown",
   "metadata": {},
   "source": [
    "4.自动生成多维数组 , 序列自动创建  \n",
    "内置的ａｒｒａｙ的构造函数的效率不是很高，我们采用批量的序列化的构造函数实现我们的大数据量的快速构建\n",
    "**注意一下的函数都可以通过ｄｔｙｐｅ属性指定我们的对应的数据的类型**\n",
    "    * arange()：begin,end,step三个参数构造等差数列，不同于range函数，我们的这三个参数可以是有理数 - [)\n",
    "    * linspace():begin,end,number三个参数构造number个数据点，从ｂｅｇｉｎ开始，ｅｎｄｐｏｉｎｔ属性制定是否包含ｅｎｄ点\n",
    "    * logspace():begin,end,number,base，同上，制定基数表示ｌｉｎｓｐａｃｅ的基数指数化\n",
    "    * empty()：只分配空间，不进行初始化操作，内部全是随机数，参数是规模元组\n",
    "    * zeros():分配空间并全部　进行初始话操作０\n",
    "    * ones():分配空间病全部进行初始化操作１\n",
    "    * full():分配空间全部按照制定的数据进行初始化，参数１是规模元组，参数２是指定的数据\n",
    "    * zero_like():参数是一个数组，创建新的同类型的数组（同规模，同数据类型，）\n",
    "    * ones_like():同上\n",
    "    * full_like():同上\n",
    "    * empty_like():同上\n",
    "    * fromstring():从字符串进行数据读取，参数１是字符串，参数２只能是int8，按照ASCII对字符数据进行转化，复制构建\n",
    "    * frombuffer():同上，不过是和原字符串共享内存，所以是只读型函数，因为字符串不可修改\n",
    "    * fromfunction():利用下表生成计算对应的多维数组,参数１是函数名，该函数必须返回一个数字才有效，参数２是对应的规模元组"
   ]
  },
  {
   "cell_type": "code",
   "execution_count": 28,
   "metadata": {
    "collapsed": false
   },
   "outputs": [
    {
     "name": "stdout",
     "output_type": "stream",
     "text": [
      "[ 1.20000005  1.39999998  1.5999999   1.79999983  1.99999976  2.19999981\n",
      "  2.39999962  2.59999943  2.79999948  2.99999952  3.19999933  3.39999938\n",
      "  3.59999919  3.799999    3.99999905]\n",
      "[  1.   2.   3.   4.   5.   6.   7.   8.   9.  10.]\n",
      "[  1.00000000e+01   1.00000000e+02   1.00000000e+03   1.00000000e+04\n",
      "   1.00000000e+05   1.00000000e+06   1.00000000e+07   1.00000000e+08\n",
      "   1.00000000e+09   1.00000000e+10]\n",
      "[[1 1 1]\n",
      " [1 1 1]]\n",
      "[[ 0.  0.  0.]\n",
      " [ 0.  0.  0.]]\n",
      "[[1 1 1]\n",
      " [1 1 1]]\n",
      "[[ 3.14159265  3.14159265  3.14159265]\n",
      " [ 3.14159265  3.14159265  3.14159265]]\n",
      "[[ 0.  0.  0.]\n",
      " [ 0.  0.  0.]]\n",
      "[ 97  97 110 116 105  97 110]\n",
      "[  0.   1.   4.   9.  16.  25.  36.  49.  64.  81.]\n",
      "[[  1.   2.   3.   4.   5.   6.   7.   8.   9.]\n",
      " [  2.   4.   6.   8.  10.  12.  14.  16.  18.]\n",
      " [  3.   6.   9.  12.  15.  18.  21.  24.  27.]\n",
      " [  4.   8.  12.  16.  20.  24.  28.  32.  36.]\n",
      " [  5.  10.  15.  20.  25.  30.  35.  40.  45.]\n",
      " [  6.  12.  18.  24.  30.  36.  42.  48.  54.]\n",
      " [  7.  14.  21.  28.  35.  42.  49.  56.  63.]\n",
      " [  8.  16.  24.  32.  40.  48.  56.  64.  72.]\n",
      " [  9.  18.  27.  36.  45.  54.  63.  72.  81.]]\n"
     ]
    }
   ],
   "source": [
    "a = arange(1.2,4.1,0.2,dtype=float32)\n",
    "print(a)\n",
    "a = linspace(1,10,10,endpoint=True)\n",
    "print(a)\n",
    "a = logspace(1,10,10,endpoint=True,base = 10)\n",
    "print(a)\n",
    "a = empty((2,3),dtype=int32)\n",
    "print(a)\n",
    "a = zeros((2,3),dtype=float32)\n",
    "print(a)\n",
    "a = ones((2,3),dtype=int32)\n",
    "print(a)\n",
    "a = full((2,3),pi)\n",
    "print(a)\n",
    "b = zeros_like(a)\n",
    "print(b)    # No relationship with a\n",
    "b = \"Lantian\"\n",
    "c = fromstring(b,int8)\n",
    "c[0] = 97\n",
    "print(c)    # We can change because it doesn't share the space with b\n",
    "c = fromfunction(lambda x:x**2 , (10,))\n",
    "print(c)\n",
    "\n",
    "d = fromfunction(lambda x,y:(x+1)*(y+1) , (9,9))\n",
    "print(d)"
   ]
  },
  {
   "cell_type": "markdown",
   "metadata": {},
   "source": [
    "5.存取操作：\n",
    "这里我先强调一个概念 - 视图和拷贝\n",
    "    * 视图：在后面我们将会了解到，我们的视图其实使我们的多维数组的另一种呈现形式，多维数组原始的内存不变，但是呈献给我们的接口变化，共享内存\n",
    "    * 拷贝：对原多维数组的整体复制，生成新的多维数组对象，内存不共享\n",
    "之后我们会从原理层次上讲解为什么.\n",
    "    * 我们需要注意，虽然拷贝是内存不共享的，但是在没有拷贝完成之前利用下标的操作对原数组进行修改是可以影响原数组的\n",
    "\n",
    "\n",
    "        * 可以使用和ｐｙｔｈｏｎ内置的列表一样**切片操作**，但是生成一个原多维数组的**视图**\n",
    "        * 整数列表存取：将整数列表中的每一个元素都当成是一个下表按顺序进行索引，生成**拷贝**，**允许重复的索引**\n",
    "        * 整数一维数组存取和整数列表一样\n",
    "        * 整数多维数组生成整数多维数组，按照多维数组的形式生成**拷贝**，可以理解为我们将多维数组展平然后ｓｈａｐｅ成下标数组的规模\n",
    "        * 布尔数组 / 布尔列表按照true / false的元组存取元素，生成**拷贝**,布尔数组不够的时候，后面的默认都是False\n",
    "            布尔数组一般利用ufunc生成\n",
    "            \n",
    "    *　利用下表进行修改和存取的方面：\n",
    "        * 切片可以连续的修改和存取\n",
    "        * 数组和列表可以跨越式的修改和存取"
   ]
  },
  {
   "cell_type": "code",
   "execution_count": 3,
   "metadata": {
    "collapsed": false
   },
   "outputs": [
    {
     "name": "stdout",
     "output_type": "stream",
     "text": [
      "[10  0  8  7  6  5  4  3  2]\n",
      "[6 5 4 3 2]\n",
      "[ 10   0   8   7 111   5   4   3   2]\n",
      "[7 7 7 7]\n",
      "[ 10   0   8   7 111   5   4   3   2]\n",
      "[[  0   8]\n",
      " [  7 111]]\n",
      "[10  8  2]\n"
     ]
    }
   ],
   "source": [
    "from numpy import *\n",
    "a = arange(10,1,-1)\n",
    "a[1:2] = 0\n",
    "print(a)\n",
    "b = a[4:9]\n",
    "print(b)\n",
    "b[0] = 111\n",
    "print(a)   # CHange the array a.\n",
    "c = a[[3,3,3,3]]\n",
    "print(c)\n",
    "c[0] = -111\n",
    "print(a)   # Do not change array a.\n",
    "d = a[array([[1,2],[3,4]])]   #　只能使用整数一维列表或者多维数组\n",
    "print(d)\n",
    "c = a[array([True,False,True,False,False,False,False,False,True])]\n",
    "print(c)\n",
    "\n",
    "#  每一个维度里面的索引都可以是多维数组，但是我们需要注意，每一个维度的多维数组的索引操作实际上相当于我们先在这个维度上将多维数组展平，然后对该维度上的索引\n",
    "#  ｒｅｓｈａｐｅ成对应的索引的多维数组的形状，然后再对其他的维度一次处理，所以说，按照这个思路，我们的索引之后的结果数组的维度可能要比我们的原数组的维度要大，这取决于是否一个维度上的索引是多维数组"
   ]
  },
  {
   "cell_type": "markdown",
   "metadata": {},
   "source": [
    "6.多维数组  \n",
    "**每一个维度里面的索引都可以是多维数组，但是我们需要注意，每一个维度的多维数组的索引操作实际上相当于我们先在这个维度上将多维数组展平，然后对该维度上的索引\n",
    "ｒｅｓｈａｐｅ成对应的索引的多维数组的形状，然后再对其他的维度依次处理，所以说，按照这个思路，我们的索引之后的结果数组的维度可能要比我们的原数组的维度要大，这取决于是否一个维度上的索引是否是多维数组**\n",
    "    * 使用元组表示下表\n",
    "    * 切片对象\n",
    "        切片操作实际上调用\\_\\_getitem\\_\\_特殊方法\n",
    "        * slice(1,2,3) - 1:2:3\n",
    "        * numpy.s_[1:2:3] - 1:2；３\n",
    "    * 每个切片，整数，数组都只能代表一个维度上的索引\n",
    "    * 同４中的观点，如果下表元组中只有整数或者切片，是共享的方式，否则都是拷贝\n",
    "    * 布尔列表当成布尔数组,布尔数组按照布尔数组的规则去索引，其他的按照其他的规则去索引\n",
    "    * 当下表的长度圆圆的不够数组的维数的时候，剩余的部分默认全部索引到"
   ]
  },
  {
   "cell_type": "markdown",
   "metadata": {},
   "source": [
    "７．结构数组    \n",
    "    * 我们的python的numpy允许我们想ｃ语言一样制定结构体\n",
    "    * 字典的names选项制定我们的名称   \n",
    "    * 字典的ｆｏｒｍａｔｓ选项制定我们的对应的数据的类型\n",
    "    * align指定c原因的内存对齐方式，不足的补齐对应的字节30-32\n",
    "    * 可以指定|,<,>字节模式,<表示低位字节在前端，>高位字节在前端，在ｔｏｓｔｒｉｎｇ和ｔｏｆｉｌｅ函数才有效果\n",
    "    * tostring(),tofile(‘filename’)二进制形式写入字符串或者文件"
   ]
  },
  {
   "cell_type": "code",
   "execution_count": 11,
   "metadata": {
    "collapsed": false
   },
   "outputs": [
    {
     "name": "stdout",
     "output_type": "stream",
     "text": [
      "[(b'lantian', 19,  75.5       ) (b'wanggeyuan', 23,  80.88800049)]\n",
      "b'lantian\\x00\\x00\\x00\\x00\\x00\\x00\\x00\\x00\\x00\\x00\\x00\\x00\\x00\\x00\\x00\\x00\\x00\\x00\\x00\\x00\\x00\\x00\\x00\\x00\\x00\\x13\\x00\\x00\\x00\\x00\\x00\\x97Bwanggeyuan\\x00\\x00\\x00\\x00\\x00\\x00\\x00\\x00\\x00\\x00\\x00\\x00\\x00\\x00\\x00\\x00\\x00\\x00\\x00\\x00\\x00\\x00\\x17\\x00\\x00\\x00\\xa8\\xc6\\xa1B'\n",
      "[ (b'lantian', 19,  200., [[  6.25523507e+09,   4.57874273e-41,   5.82114359e-37], [  0.00000000e+00,   1.86661971e-12,   4.57874273e-41]])\n",
      " (b'wanggeyuan', 20,  100., [[  3.14159274e+00,   3.14159274e+00,   3.14159274e+00], [  3.14159274e+00,   3.14159274e+00,   3.14159274e+00]])]\n",
      "[[[ ([[1337617320, 1337617320, 1337617320], [1337617320, 1337617320, 1337617320]],)\n",
      "   ([[     32675,      32675,      32675], [     32675,      32675,      32675]],)\n",
      "   ([[  54924624,   54924624,   54924624], [  54924624,   54924624,   54924624]],)]\n",
      "  [ ([[         0,          0,          0], [         0,          0,          0]],)\n",
      "   ([[ 738417160,  738417160,  738417160], [ 738417160,  738417160,  738417160]],)\n",
      "   ([[     32675,      32675,      32675], [     32675,      32675,      32675]],)]]]\n"
     ]
    }
   ],
   "source": [
    "from numpy import *\n",
    "persontype = dtype({'names':['name','age','weight'],'formats':['S30','|int32','float32']},align=True)\n",
    "data = array([('lantian','19',75.5),('wanggeyuan',23,80.888)],dtype=persontype)\n",
    "print(data)\n",
    "p = data.tostring()\n",
    "print(p)\n",
    "\n",
    "w = dtype([('name','S30'),('age','int32'),('weight','float32'),('grade','float32',(2,3))])\n",
    "a = array([('lantian',19,200,empty((2,3),dtype=float32)),('wanggeyuan',20,100,full((2,3),pi,dtype=float32))],dtype=w)\n",
    "print(a)\n",
    "a = dtype([('name','int32',(2,3))])\n",
    "data = array([empty((2,3),dtype=int32)],dtype=a)\n",
    "print(data)"
   ]
  },
  {
   "cell_type": "markdown",
   "metadata": {},
   "source": [
    "8．内存结构  \n",
    "每一个ｎｄａｒｒａｙ对象在内存中的结构如下：\n",
    "* dtype :　单位数据类型\n",
    "* dim count :　维数\n",
    "* dimensions () :　规模元组\n",
    "* strides : 各维度的单位间距，保存每个轴上的相邻的元素的地址差，以**字节**为单位，（注意这里很容易出现错误，ｉｎｔ６４表示的是８字节的６４ｂｉｔｓ的ｉｎｔ类型变量）\n",
    "* data : 数据二进制，有dtype决定存取显示的方式(这点很重要，我们的内存的数据保存不变，只用对ｄｔｙｐｅ转化就可以将数据变成不同的形态)\n",
    "* 默认采用Ｃ语言的数组排列方式，０号轴是最高的维度，ｓｔｒｉｄｅｓ跨越的单位距离也是最大的\n",
    "* 在我们的切片和整数的操作的时候，我们只需要改变我们的ｄｉｍ　ｃｏｕｎｔ等属性生成一个新的视图就可以了，所以是共享内存的方式，但是要是使用数组的话，不能保证是等距离的索引，所以只能采用我们的拷贝的方式\n",
    "* flags属性保存多维数组的特性\n",
    "    * OWN_DATA:是视图还是原数组\n",
    "    * C_CONTINUS:ｃ的连续方式\n",
    "    * .T：转置是生成视图\n",
    "    * base:视图的ｂａｓｅ可以查看到原数组,实际上返回我们的原数组本身，我们的ｉｓ运算符识别出来就是原数组\n",
    "* view（ｔｙｐｅ）函数可以切换我们的数据类型，生成视图\n",
    "* numpy.lib.stride_tricks / as_strided(１，２，３)：１，多维数组２，ｓｈａｐｅ３，新的ｓｔｒｉｄｅｓ，生成视图，随意的设置我们的表现形式,将以块内存随意的分割和重复使用构成新的表现形式"
   ]
  },
  {
   "cell_type": "code",
   "execution_count": 28,
   "metadata": {
    "collapsed": false
   },
   "outputs": [
    {
     "name": "stdout",
     "output_type": "stream",
     "text": [
      "  C_CONTIGUOUS : True\n",
      "  F_CONTIGUOUS : False\n",
      "  OWNDATA : True\n",
      "  WRITEABLE : True\n",
      "  ALIGNED : True\n",
      "  UPDATEIFCOPY : False\n",
      "[[  1   6  11  16  21  27  32  37  42  47]\n",
      " [ 53  58  63  68  73  79  84  89  94 100]]\n",
      "[[ 393217 1048587 1769493 2424864 3080234]\n",
      " [3801141 4456511 5177417 5832788 6553694]]\n",
      "[[  1   0   6   0  11   0  16   0  21   0  27   0  32   0  37   0  42   0\n",
      "   47   0]\n",
      " [ 53   0  58   0  63   0  68   0  73   0  79   0  84   0  89   0  94   0\n",
      "  100   0]]\n",
      "[[  1  53]\n",
      " [  6  58]\n",
      " [ 11  63]\n",
      " [ 16  68]\n",
      " [ 21  73]\n",
      " [ 27  79]\n",
      " [ 32  84]\n",
      " [ 37  89]\n",
      " [ 42  94]\n",
      " [ 47 100]]\n",
      "  C_CONTIGUOUS : False\n",
      "  F_CONTIGUOUS : True\n",
      "  OWNDATA : False\n",
      "  WRITEABLE : True\n",
      "  ALIGNED : True\n",
      "  UPDATEIFCOPY : False\n",
      "[  1   6  11  16  21  27  32  37  42  47  53  58  63  68  73  79  84  89\n",
      "  94 100]\n",
      "int64\n",
      "--------------------\n",
      "[[              1              32              63              94\n",
      "          5815968]\n",
      " [             32              63              94         5815968\n",
      "  140339290118320]\n",
      " [             63              94         5815968 140339290118320\n",
      "  140339289978000]\n",
      " [             94         5815968 140339290118320 140339289978000\n",
      "                0]]\n"
     ]
    }
   ],
   "source": [
    "a = linspace(1,100,20,dtype=int16)\n",
    "a.shape = 2,10\n",
    "print(a.flags)\n",
    "print(a)\n",
    "b = a.view(int32)\n",
    "print(b)\n",
    "c = a.view(int8)\n",
    "print(c)\n",
    "v = a.T\n",
    "print(v)\n",
    "print(v.flags)\n",
    "from numpy.lib.stride_tricks import as_strided\n",
    "a = linspace(1,100,20,dtype=int)\n",
    "print(a)\n",
    "print(a.dtype)\n",
    "print('-'*20)\n",
    "k = as_strided(a , shape=(4,5) , strides=(48,48))\n",
    "print(k)\n",
    "\n",
    "# int64 - 8字节　/ strids是按照字节走的"
   ]
  }
 ],
 "metadata": {
  "kernelspec": {
   "display_name": "Python 3",
   "language": "python",
   "name": "python3"
  },
  "language_info": {
   "codemirror_mode": {
    "name": "ipython",
    "version": 3
   },
   "file_extension": ".py",
   "mimetype": "text/x-python",
   "name": "python",
   "nbconvert_exporter": "python",
   "pygments_lexer": "ipython3",
   "version": "3.5.2"
  }
 },
 "nbformat": 4,
 "nbformat_minor": 2
}
