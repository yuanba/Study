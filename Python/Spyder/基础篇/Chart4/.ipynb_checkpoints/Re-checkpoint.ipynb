{
 "cells": [
  {
   "cell_type": "markdown",
   "metadata": {},
   "source": [
    "### 4.time模块\n",
    "time模块可以帮助我们获取当前的时间，操作的时间和日期，帮助我们从字符串读取时间以及格式化时间  \n",
    "其中有一个重要的概念叫做时间元组(年，月，日，时，分，秒，周，...，...，)  \n",
    "\n",
    "asctime:时间元组转化成字符串,格式输出  \n",
    "localtime:将秒数转化成时间元组,同gmtime  \n",
    "mktime:将时间元组转化成浮点数表示的时间戳，包含从新世纪以来的所有的秒数  \n",
    "gmtime:将浮点数转化成时间元组  \n",
    "sleep:程序休眠，按秒计时  \n",
    "time:当前的时间，从1970年开始按秒计时 \n",
    "\n",
    "时间元组（time()获得或者自己输入）->mktime->新世纪秒数->gmtime->时间元组->asctime->格式化时间字符串"
   ]
  },
  {
   "cell_type": "code",
   "execution_count": 1,
   "metadata": {
    "collapsed": false
   },
   "outputs": [
    {
     "name": "stdout",
     "output_type": "stream",
     "text": [
      "1200888176.0\n",
      "time.struct_time(tm_year=2008, tm_mon=1, tm_mday=21, tm_hour=12, tm_min=2, tm_sec=56, tm_wday=0, tm_yday=21, tm_isdst=0)\n",
      "time.struct_time(tm_year=1970, tm_mon=1, tm_mday=1, tm_hour=0, tm_min=0, tm_sec=1, tm_wday=3, tm_yday=1, tm_isdst=0) <class 'time.struct_time'>\n",
      "1493217366.0405266\n",
      "time.struct_time(tm_year=2017, tm_mon=4, tm_mday=26, tm_hour=14, tm_min=36, tm_sec=6, tm_wday=2, tm_yday=116, tm_isdst=0)\n",
      "Wed Apr 26 14:36:06 2017\n"
     ]
    }
   ],
   "source": [
    "import time\n",
    "print(time.mktime((2008,1,21,12,2,56,0,21,0)))\n",
    "print(time.localtime(time.mktime((2008,1,21,12,2,56,0,21,0))))\n",
    "print(time.gmtime(1) , type(time.gmtime(1)))\n",
    "print(time.time())\n",
    "print(time.gmtime(time.time()))\n",
    "print(time.asctime(time.gmtime(time.time())))"
   ]
  },
  {
   "cell_type": "markdown",
   "metadata": {},
   "source": [
    "### 5.shelve模块存储数据\n",
    "我们都知道，要在电脑中存储数据的话，大数据量我们会使用数据库，小数据量我们可以直接村文本存储，在这里我们介绍一种新的数据存储方案  \n",
    "shelve模块可以辅助我们实现文件的存储，我们只需要给shelve进行open创建返还一个shelf对象，该对象我们只需要项简单的字典一样存储就好，最后调用close方法结束我们的存储工作   \n",
    "\n",
    "另外，如果我们想要获取全部的数据，可以将shelve当做一个字典，使用key,value,items方法获取相应的全部的数据\n"
   ]
  },
  {
   "cell_type": "code",
   "execution_count": 5,
   "metadata": {
    "collapsed": false
   },
   "outputs": [
    {
     "name": "stdout",
     "output_type": "stream",
     "text": [
      "Help on function open in module shelve:\n",
      "\n",
      "open(filename, flag='c', protocol=None, writeback=False)\n",
      "    Open a persistent dictionary for reading and writing.\n",
      "    \n",
      "    The filename parameter is the base filename for the underlying\n",
      "    database.  As a side-effect, an extension may be added to the\n",
      "    filename and more than one file may be created.  The optional flag\n",
      "    parameter has the same interpretation as the flag parameter of\n",
      "    dbm.open(). The optional protocol parameter specifies the\n",
      "    version of the pickle protocol (0, 1, or 2).\n",
      "    \n",
      "    See the module's __doc__ string for an overview of the interface.\n",
      "\n",
      "['a', 'b', 'c']\n",
      "['a', 'b', 'c', 'd']\n"
     ]
    }
   ],
   "source": [
    "import shelve\n",
    "help(shelve.open)\n",
    "s = shelve.open(\"test.dat\",writeback=True)   #这里不加writeback的话，我们是不会成功的写入的，只有writeack参数为true才会同步的写入内存\n",
    "s['x'] = ['a','b','c']\n",
    "print(s['x'])\n",
    "s['x'].append('d')\n",
    "print(s['x'])"
   ]
  },
  {
   "cell_type": "markdown",
   "metadata": {},
   "source": [
    "## 6.re正则模块\n",
    "_________________________________________________________________________________________________________________________\n",
    "### 1\n",
    "**该部分为补充内容，补充内容的例子在最下一个cell中，并进行了标注**\n",
    "1. 什么是正则表达式：\n",
    "    正则表达式是由普通字符和特殊字符构成的文字模式   \n",
    "2. 元字符\n",
    "    * \\b : 代表单词的开头和结尾\n",
    "    * .  : 除了换行符的任意字符\n",
    "    * \\* : 重复任意次\n",
    "    * \\d : 匹配数字\n",
    "    * \\w : 匹配字母，数字，下划线，**汉字**\n",
    "    * \\s : 匹配任意空白符号\n",
    "    * ^  : 匹配字符串的开始\n",
    "    * \\$ : 匹配字符串的结尾  \n",
    "3. 字符转义  \n",
    "    \\\\. , \\\\\\ , \\\\*\n",
    "4. 重复\n",
    "    * \\* : 0 ~\n",
    "    * \\+  : 1 ~\n",
    "    * ?  : 0 ~ 1\n",
    "    * {n}: n\n",
    "    * {n,} : n ~\n",
    "    * {n,m} : n ~ m\n",
    "5. 自定义字符集合：\n",
    "    [a-z] , [A-Z] , [.?!] , [0-9]\n",
    "6. 分支条件  \n",
    "    使用运算符　‘｜’ ,我们可以**或**的构建我们的正则表达式，但是我们还需要知道，这样的或是短路的\n",
    "7. 分组匹配  　　\n",
    "    使用运算符()我们可以对墨一部分分组，分组的视为一个整体统一使用\\*,\\+,等其他的上述提到的重复符号\n",
    "8. 反义　　\n",
    "    * [^a] , [^abd] , [^(123 | abc)]\n",
    "    * \\W , \\B , \\D , \\S - 反义\n",
    "9. 后向引用　　\n",
    "    前面提到了，我们使用分组的策略可以帮助我们将某一段表达式化成单独的一个整体　　　\n",
    "    按照规定约束分组的编号，从左到有看左括号的个数，从1开始计数　　  \n",
    "    1. \\n(n为我们的分组的编号)可以引用我们的之前的分组  \n",
    "    2. (?\\<name\\>exp)之后使用语法\\k\\<name\\>进行引用，对分组起名字name  \n",
    "10. 零宽断言　　\n",
    "    也就是说它们像\\b,^,$那样用于指定一个位置，这个位置应该满足一定的条件(即断言)，因此它们也被称为零宽断言　　　\n",
    "    * (?=exp) : 匹配的字串后面一定存在有exp,（不包含）\n",
    "    * (?<=exp) :　匹配的字串前面一定存在exp,(不包含)\n",
    "    * (?!exp) : 匹配的字串的后面一定不存在exp\n",
    "    * (?<!exp) : 匹配的字串前面一定不存在exp\n",
    "11. 注释　　\n",
    "    (?#document) - 表示注释\n",
    "12. 贪婪懒惰　　\n",
    "    ?可以对重复符号进行修饰为懒惰的形式，\\*?,+?,??,{n,m}?,{n,}?\n",
    "    \n",
    "Python正则:\n",
    "1. 匹配模式\n",
    "    * re.I : 忽略大小写\n",
    "    * re.U : 使用预定义的字符类(\\w \\W \\b \\B \\s \\S \\d \\D)\n",
    "    ### **在python中使用这些预定义的字符就必须使用r''原始字符串模式，否则就要考虑转义的问题，但是也可以使用escape函数进行处理**\n",
    "----------------------------------------------\n",
    "### 2\n",
    "1.'.'称之为是通配符，一次必须匹配一个1个字符（不包含换行符），字符随意  \n",
    "2.字符转义：建议使用原始字符串r'\\'其中的转义的反斜杠只需要一个  \n",
    "3.字符集：[a-z],[123456789],[a-zA-Z0-9]注意字符集也只能匹配一个字符，但是限定了匹配的范围，[^xxx]反转字符集  \n",
    "4.选择符和子模式：子模式适用于单个字符k(axxx|bxxx)->kaxxx , kbxxx两种匹配的方式  \n",
    "5.可选项和重复子模式：子模式(pattern)*重复>=0,(pattern)+重复>=1,(pattern){m,n}重复[m,n]，（pattern）?重复0,1次  \n",
    "6.开头和结尾匹配：^表示值匹配我们的字符串额开头的符合条件的子模式，中间和末尾不算，$匹配末尾一个意思   \n",
    "7.非贪婪匹配，我们在重复匹配的通配符后加上？可以将其转化成非贪婪版本\n",
    "\n",
    "#### 接口：  \n",
    "1.compile： 将字符串装花城正则表达式对象实现更高效的模式匹配，实际上之后的一些函数都是讲我们的字符串抓花城正则表达式对象之后在进行模式匹配的，并且我们的额正则表达式对象都有相应的模式配函数->静态函数转换成成员函数的调用  \n",
    "2.search： 参数1pattern子串，参数2待查找字符串（内部compile），找到第一个匹配的子串后返回Mathobject（true），否则返回None，所以根据特性可以用在if语句中表示查找的结果  \n",
    "3.match: 只匹配字符串的开头，开头不匹配之后的匹配都不算，返回值和上面的额search一样  \n",
    "4.split: 根据模式的匹配项来字符串进行分割，加强版的str的split方法,我们需要注意，在我们的模式中如果存在子模式的话，我们的子模式分割之后如果有匹配项，子模式会插在我们的最后的结果中间（位置是匹配的中间的位置）,maxsplit参数控制最大分割次数  \n",
    "5.findall: 列表的形式返回所有的匹配项  / finditer :　同findall,只不过是迭代器的形式返回 \n",
    "6.sub(pat,repl,string): 将所有的pat的匹配项用repl替换,我们还需要知道，repl不仅仅只是字符串，我们从帮助文档中可以查阅到\n",
    "```\n",
    "Help on function sub in module re:\n",
    "\n",
    "sub(pattern, repl, string, count=0, flags=0)\n",
    "    Return the string obtained by replacing the leftmost\n",
    "    non-overlapping occurrences of the pattern in string by the\n",
    "    replacement repl.  repl can be either a string or a callable;\n",
    "    if a string, backslash escapes in it are processed.  If it is\n",
    "    a callable, it's passed the match object and must return\n",
    "    a replacement string to be used.\n",
    "\n",
    "明确说明了，repl还可以作为一个函数，但是该函数必须要返回一个替代的字符串，我们在最后演示一下  \n",
    "我们的每一个匹配项过来的时候将一个MathObject对象传递给我们的函数，由函数选择执行返回的字符串  \n",
    "```\n",
    "7.escape: 将目标字符串中可能被转义的字符全部都正确的转义，非常实用  \n",
    "\n",
    "\n",
    "#### Mathobject对象的信息： - 提取匹配的核心信息\n",
    "* 待匹配的对象\n",
    "* 组 - 对子模式进行编号,0号组是我们的模式串本身\n",
    "* Mathobject的內建方法\n",
    "    * group:按照给定的组好返回匹配的字符串，提取字符串的信息(1,2,) , groups()\n",
    "    * start:返回给定的组在原字符串中的匹配的首位置\n",
    "    * end:......................末位置**的后一个位置**\n",
    "    * span:.....................首末位置元组\n",
    "* Mathobject的属性\n",
    "    * string : 要匹配的字符串\n",
    "    * re : 匹配模板表达式\n",
    "    \n",
    "主要的功能我们可以和FileInput以及file一起使用，用来匹配文件的内容\n",
    "\n",
    "\n",
    "```\n",
    "#这里我总结一个正则表达式匹配科学计数法的一个原始字符串\n",
    "'^([+-]?[0-9]+(.[0-9]+)?)?([+-]?[Ee][+-]?[0-9]+)?$'\n",
    "```"
   ]
  },
  {
   "cell_type": "code",
   "execution_count": 6,
   "metadata": {
    "collapsed": false
   },
   "outputs": [
    {
     "name": "stdout",
     "output_type": "stream",
     "text": [
      "['3', '4', '8', '9', '2', '7', '2', '3', '9', '2', '4']\n",
      "----------------------------------------------------------------------------------\n",
      "<class 'NoneType'> None\n",
      "<class 'NoneType'> None\n",
      "['alpha', 'beta', 'gamma', 'delta']\n",
      "['alpha', 'beta,,,gamma delta']\n",
      "['hm', 'err', 'are', 'you', 'sur', 'he', 'sai', 'sou', 'ndi', 'ng', 'ins', 'ecu', 're']\n",
      "----------------------------------------------------------------------------------\n",
      "sdfdfulove yeqidjfsdj love yeqi sahfsuif sdfdfuthedjfsdj the sahfsuif\n",
      "----------------------------------------------------------------------------------\n",
      "----------------------------------------------------------------------------------\n",
      "group的属性\n",
      "www.python.org\n",
      "re.compile('www\\\\.(.*)\\\\..{3}')\n",
      "('python',)\n",
      "----------------------------------------------------------------------------------\n",
      "<_sre.SRE_Match object; span=(0, 14), match='www.python.org'> <class '_sre.SRE_Match'>\n",
      "www.python.org python\n",
      "4 10 (4, 10)\n"
     ]
    }
   ],
   "source": [
    "import re\n",
    "w = re.compile('[0-9]')              #compile可以内部加快我们的匹配的速度\n",
    "ans = w.findall('fdshskdfhds34892723924fddsfsd')\n",
    "print(ans)\n",
    "print(\"----------------------------------------------------------------------------------\")\n",
    "p = re.search(r'^the','ltheanthdsjthds')\n",
    "print(type(p) , p)\n",
    "p = re.match('p','kpsdfsfs')\n",
    "print(type(p) , p)\n",
    "p = re.split('[, ]+','alpha,beta,,,gamma delta')\n",
    "k = re.split('[, ]+','alpha,beta,,,gamma delta',maxsplit=1)\n",
    "print(p)\n",
    "print(k)\n",
    "w = re.findall('[a-zA-Z0-9]{2,3}','\"hm,,err -- are you sure ?\"he said,sounding insecure!')\n",
    "print(w)\n",
    "print('----------------------------------------------------------------------------------')\n",
    "\n",
    "w = 'sdfdfuthedjfsdj the sahfsuif'\n",
    "k = re.sub('the','love yeqi',w)\n",
    "print(k , w)   #w不变，字符串变量不可变变量，只是生成副本\n",
    "\n",
    "print(\"----------------------------------------------------------------------------------\")\n",
    "\n",
    "m = re.match(r'www\\.(.*)\\..{3}','www.python.org')\n",
    "print('----------------------------------------------------------------------------------')\n",
    "print(\"group的属性\")\n",
    "print(m.string)\n",
    "print(m.re)\n",
    "print(m.groups())\n",
    "print('----------------------------------------------------------------------------------')\n",
    "print(m , type(m))\n",
    "print(m.group(0) , m.group(1))\n",
    "print(m.start(1) , m.end(1) , m.span(1) )"
   ]
  },
  {
   "cell_type": "code",
   "execution_count": 63,
   "metadata": {
    "collapsed": false
   },
   "outputs": [
    {
     "name": "stdout",
     "output_type": "stream",
     "text": [
      "1 :  ['go']\n",
      "2.1 :  ['walk', 'danc']\n",
      "2.2 :  ['happy', 'beautiful']\n",
      "2.3 :  ['123', '456', '789']\n",
      "3.1 :  ['walk', 'me', 'and', 'dancing', 'you', 'ng']\n",
      "3.3 :  ['70106324']\n"
     ]
    }
   ],
   "source": [
    "# 上面的补充的实例  http://www.cnblogs.com/linux-wangkun/p/5978462.html\n",
    "\n",
    "# 后向引用\n",
    "str = 'hello go go hello'\n",
    "pattern = re.compile(r'\\b(\\w+)\\b\\s+\\b\\1\\b')\n",
    "ans = pattern.findall(str)\n",
    "print('1'+' : ',ans)\n",
    "\n",
    "# 正零宽断言 \n",
    "str = 'i am walking while you are dancing.'\n",
    "pattern = re.compile(r'\\b(\\w+)(?=ing)')\n",
    "ans = pattern.findall(str)\n",
    "print('2.1'+\" : \",ans)\n",
    "\n",
    "str = 'i am unhappy and you are unbeautiful'\n",
    "pattern = re.compile(r'(?<=\\bun)(\\w+)\\b')\n",
    "ans = pattern.findall(str)\n",
    "print('2.2' + ' : ',ans)\n",
    "\n",
    "str = '123,456,789'\n",
    "pattern = re.compile(r'(?<=,)?\\d+(?=,)?')\n",
    "ans = pattern.findall(str)\n",
    "print('2.3' + ' : ',ans)\n",
    "\n",
    "# 负零宽断言 \n",
    "# 但是在python中这样做会报 look-behind requires fixed-width pattern 的错误，以也就是在负向零宽断言中不能有不确定长度的表达式：\n",
    "str = 'walk me and dancing you ing'\n",
    "pattern = re.compile(r'(?!ing)(\\w+)')    # 意思是这个位置之后不会出现ing,ing的i位置之后出现了ing,但是ng后面不会出现ing，这也是为什么最后会有ng这个子串的原因\n",
    "ans = pattern.findall(str)\n",
    "print('3.1' + ' : ',ans)\n",
    "\n",
    "# 3.2 如何提取出后缀不是ing的单词 ??????????????\n",
    "\n",
    "str = 'lt970106324'\n",
    "pattern = re.compile(r'(?<![a-z]{2})(?#这是注释)(\\d+)')    # 开头不是两个小写字母的数字的串７０１０６３２４对了\n",
    "ans = pattern.findall(str)\n",
    "print('3.3' + ' : ',ans)"
   ]
  },
  {
   "cell_type": "code",
   "execution_count": 8,
   "metadata": {
    "collapsed": false
   },
   "outputs": [
    {
     "name": "stdout",
     "output_type": "stream",
     "text": [
      "{}\n",
      "100\n"
     ]
    }
   ],
   "source": [
    "#一个使用eval和exec的小技巧，eval和exce函数可以附带一个字典对象，将我们的每一次的额计算结果保存在我们的字典中构成键值对\n",
    "#这样的字典我们还可以叫做作用域\n",
    "p = {}\n",
    "print(p)\n",
    "exec(\"x = 10\",p)\n",
    "#print(p)    #转化成了一个作用域对象，记录我们的exec的表达式的结果，按照键值对存储\n",
    "print(eval(\"x**2\",p))"
   ]
  },
  {
   "cell_type": "code",
   "execution_count": 17,
   "metadata": {
    "collapsed": false
   },
   "outputs": [
    {
     "name": "stdout",
     "output_type": "stream",
     "text": [
      "Please input the template string![x=2][y=3]The sum of the [x] and [y] is [x+y]\n",
      "The sum of the 2 and 3 is 5\n"
     ]
    }
   ],
   "source": [
    "#演示一下re包的使用，以及sub函数的repl函数替代，还有exec和eval的技巧的应用\n",
    "#模板系统\n",
    "import fileinput , re\n",
    "pattern = re.compile(r'\\[(.+?)\\]')   #这里明确使用非贪婪匹配，只匹配一组括号\n",
    "\n",
    "scope = {}   #作用域字典\n",
    "\n",
    "def replacement(math):\n",
    "    code = math.group(1)\n",
    "    try:\n",
    "        return str(eval(code,scope))\n",
    "    except:     #此时执行赋值操作，代表我们不需要返回一个具体的字符串，按照语法要求返回一个空字符串进行替换就好（消除该模板）\n",
    "        exec(code,scope)\n",
    "        return ''  \n",
    "line = input(\"Please input the template string!\")\n",
    "\n",
    "print(pattern.sub(replacement,line))\n",
    "#对于该模板py脚本，我们其实可以生成对应额py文件，然后在命令行下执行，我们甚至可以多文本操作将前面的文本读作模板，将后一个文版当做处理文件\n"
   ]
  },
  {
   "cell_type": "markdown",
   "metadata": {},
   "source": [
    "### 扩展阅读：\n",
    "为了实现上面的模板的方法，我们在string模块中有一个叫做Template的方法，该方法支持我们的字符串的末班替换，替换可以采用字典（键必须是字符串）或者是参数列表  \n",
    "Template类中有两个主要的方法  \n",
    "* subtitute - 严格替换，如果出现了匹配数目不匹配的情况，会报错（宁多勿少）\n",
    "* safe_subtitute - 费严格匹配，参数不够的话，我们会返回一个未完全匹配的结果字符串"
   ]
  },
  {
   "cell_type": "code",
   "execution_count": 2,
   "metadata": {
    "collapsed": false
   },
   "outputs": [
    {
     "name": "stdout",
     "output_type": "stream",
     "text": [
      "there are some apple and banana !\n",
      "there are some apple and banana !\n",
      "there are some apple and $b !\n"
     ]
    }
   ],
   "source": [
    "from string import Template\n",
    "\n",
    "p = {'a':'apple','b':'banana','c':'cabbage'}\n",
    "s = Template('there are some $a and $b !')\n",
    "print(s.substitute(a='apple',b='banana'))\n",
    "print(s.substitute(p))\n",
    "#print(s.substitute(a='apple'))\n",
    "print(s.safe_substitute(a='apple'))"
   ]
  }
 ],
 "metadata": {
  "kernelspec": {
   "display_name": "Python 3",
   "language": "python",
   "name": "python3"
  },
  "language_info": {
   "codemirror_mode": {
    "name": "ipython",
    "version": 3
   },
   "file_extension": ".py",
   "mimetype": "text/x-python",
   "name": "python",
   "nbconvert_exporter": "python",
   "pygments_lexer": "ipython3",
   "version": "3.5.2"
  }
 },
 "nbformat": 4,
 "nbformat_minor": 2
}
