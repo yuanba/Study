{
 "cells": [
  {
   "cell_type": "markdown",
   "metadata": {},
   "source": [
    "### 什么是bs4\n",
    "1. beautifulsoup４(以下简称bs4)是一个可以从html , xml文档中抽取数据的python库，他可以支持很多的转换器实现文档的导航和查找检索功能，也可以实现修改功能\n",
    "2. beautiful soup可以使用很多的文档解析器，主要的解析器有html.parser / lxml / html5lib,在这里lxml备受推崇，因为lxml是以C语言为基础速度快，文档容错力强，基本上可以满足我们的所有的需求"
   ]
  },
  {
   "cell_type": "markdown",
   "metadata": {},
   "source": [
    "## bs4基本使用\n",
    "### 快速开始\n",
    "1. 库导入 / 例子导入"
   ]
  },
  {
   "cell_type": "code",
   "execution_count": 36,
   "metadata": {
    "collapsed": true
   },
   "outputs": [],
   "source": [
    "from bs4 import BeautifulSoup\n",
    "import lxml    #　导入解析器\n",
    "html_str = '''\n",
    "<html><head><title>The Dormouse's story</title></head>\n",
    "<body>\n",
    "<p class=\"title\"><b>The Dormouse's story</b></p>\n",
    "<p class=\"story\">Once upon a time there were three little sisters; and their names were\n",
    "<a href=\"http://example.com/elsie\" class=\"sister\" id=\"link1\"><!--Elsie--></a>,<a href=\"http://example.com/lacie\" class=\"sister\" id=\"link2\"><!--Lacie--></a> and <a href=\"http://example.com/tillie\" class=\"sister\" id=\"link3\">Tillie</a>;\n",
    "and they livedat the bottom of a well.</p>\n",
    "<p class=\"story\">...</p>\n",
    "</body>\n",
    "</html>'''"
   ]
  },
  {
   "cell_type": "markdown",
   "metadata": {},
   "source": [
    "2.创建BeautifulSoup对象  \n",
    "    * 字符串创建  \n",
    "    * 文件创建  \n",
    "     \n",
    "   我们需要知道，bs4会默认选择最合适的解析器来解释这段文本，但是也可以手动的定制解析器'lxml'"
   ]
  },
  {
   "cell_type": "code",
   "execution_count": 37,
   "metadata": {
    "collapsed": false
   },
   "outputs": [
    {
     "name": "stdout",
     "output_type": "stream",
     "text": [
      "<html>\n",
      " <head>\n",
      "  <title>\n",
      "   The Dormouse's story\n",
      "  </title>\n",
      " </head>\n",
      " <body>\n",
      "  <p class=\"title\">\n",
      "   <b>\n",
      "    The Dormouse's story\n",
      "   </b>\n",
      "  </p>\n",
      "  <p class=\"story\">\n",
      "   Once upon a time there were three little sisters; and their names were\n",
      "   <a class=\"sister\" href=\"http://example.com/elsie\" id=\"link1\">\n",
      "    <!--Elsie-->\n",
      "   </a>\n",
      "   ,\n",
      "   <a class=\"sister\" href=\"http://example.com/lacie\" id=\"link2\">\n",
      "    <!--Lacie-->\n",
      "   </a>\n",
      "   and\n",
      "   <a class=\"sister\" href=\"http://example.com/tillie\" id=\"link3\">\n",
      "    Tillie\n",
      "   </a>\n",
      "   ;\n",
      "and they livedat the bottom of a well.\n",
      "  </p>\n",
      "  <p class=\"story\">\n",
      "   ...\n",
      "  </p>\n",
      " </body>\n",
      "</html>\n"
     ]
    }
   ],
   "source": [
    "# 字符串创建\n",
    "soup = BeautifulSoup(html_str , 'lxml' , from_encoding='utf8')    # 导入例子\n",
    "# 文件创建\n",
    "# soup = BeautifulSoup(open('html_str.html') , 'lxml' , from_encoding='utf8')\n",
    "\n",
    "#　字符串格式化\n",
    "print(soup.prettify())    # prettify函数生成格式化的字符串以便阅读打印\n"
   ]
  },
  {
   "cell_type": "markdown",
   "metadata": {},
   "source": [
    "3.bs4主要对象\n",
    "   * Tag  \n",
    "        **BeautifulSoup对象比较特殊，我们可以理解为是一个document标记**  \n",
    "        tag通俗说就是我们的文档中的标记对象，包括标记本身和标记内的子对象(合称为一个Tag对象)  \n",
    "        Tag对象的两个重要属性\n",
    "        * name : 标记的名称,并且支持实时修改（影响当前的html_str）\n",
    "        * attrs : 标记的属性,支持实时修改\n",
    "            * 直接字典方式获取属性\n",
    "            * .attrs属性获取所有的属性的字典\n",
    "   * NavigableString  \n",
    "       **Tag内部的标记属于NavigableString对象，可以使用str方法将NavigableString对象还原到str字符串的形式**  \n",
    "       .string方法可以获取Tag对象的NavigableString文档内容对象，string属性的特点是\n",
    "       * 标记里面没有标记，直接获取标记的文档内容\n",
    "       * 如果标记里面只有一个唯一的标记string会继续深入查找文档，并遵循第１点找到最里面的内容\n",
    "       * 但是如果标机里面有很多的子标记，那么string返回None\n",
    "   * BeautifulSoup  \n",
    "       bs对象表示的是文档整个内容，可以理解为是文档树的根，大部分的时候我们都把他当做是特殊的Tag对象，虽然没有name,attrs属性但是为了接口同意，bs对象还是有这些属性存在的\n",
    "   * Comment  \n",
    "       注释对象是特立独行的，上述的对象基本上涵盖了文档的所有的数据处除了注释部分  \n",
    "       .string可以引用到注释的内容，但是他不是NavigableString对象而是Comment对象，我们在数据提取的时候对这一点需要明确注意\n",
    "    "
   ]
  },
  {
   "cell_type": "code",
   "execution_count": 41,
   "metadata": {
    "collapsed": false
   },
   "outputs": [
    {
     "name": "stdout",
     "output_type": "stream",
     "text": [
      "1. [<title>The Dormouse's story</title>, <a class=\"sister\" href=\"http://example.com/elsie\" id=\"link1\"><!--Elsie--></a>]\n",
      "2. [document] title\n",
      "4. {'class': ['title']} ['title'] ['title']\n",
      "6.1 The Dormouse's story <class 'bs4.element.NavigableString'>\n",
      "6.2 The Dormouse's story <class 'str'>\n",
      "6.3 None\n",
      "7. [document] {}\n",
      "8. Elsie <class 'bs4.element.Comment'>\n"
     ]
    }
   ],
   "source": [
    "# 抽取Tag对象\n",
    "print('1.' , [soup.title , soup.a])    # 但是这种方式抽取的对象只是文档中的第一出现的Tag对象\n",
    "print('2.' ,soup.name , soup.title.name)     #　Tag对象的name属性\n",
    "# soup.title.name = \"mytitle\"\n",
    "# print('3.' , soup.title , soup.mytitle)     # 支持实时修改\n",
    "# soup.mytitle.name = \"title\"    # 修正回来\n",
    "print('4.' , soup.p.attrs , soup.p['class'] , soup.p.get('class'))    #　获取Tag的属性\n",
    "# soup.p['class'] = 'myclass'\n",
    "# print('5.' , soup.p.attrs)\n",
    "# soup.p['myclass'] = 'class'\n",
    "\n",
    "# 从Tag中抽取NavigableString对象\n",
    "print('6.1' , soup.p.string , type(soup.p.string))\n",
    "print('6.2' , str(soup.p.string) , type(str(soup.p.string)))\n",
    "print('6.3' , soup.p.next_sibling.next_sibling.string)    # 第２个ｐ满足上面的分析的string的特点，返回None\n",
    "\n",
    "# bs对象的特殊和接口统一化\n",
    "print('7.' , soup.name , soup.attrs)\n",
    "\n",
    "# Comment对象的注意\n",
    "print('8.' , soup.a.string , type(soup.a.string))"
   ]
  },
  {
   "cell_type": "markdown",
   "metadata": {},
   "source": [
    "4.文档树的遍历(**当前节点中包含下层节点**)  \n",
    "**bs4会将HTML文档转化成文档书来进行搜索，对于属性结构我们引入节点的概念**  \n"
   ]
  },
  {
   "cell_type": "code",
   "execution_count": null,
   "metadata": {
    "collapsed": true
   },
   "outputs": [],
   "source": []
  }
 ],
 "metadata": {
  "kernelspec": {
   "display_name": "Python 3",
   "language": "python",
   "name": "python3"
  },
  "language_info": {
   "codemirror_mode": {
    "name": "ipython",
    "version": 3
   },
   "file_extension": ".py",
   "mimetype": "text/x-python",
   "name": "python",
   "nbconvert_exporter": "python",
   "pygments_lexer": "ipython3",
   "version": "3.5.2"
  }
 },
 "nbformat": 4,
 "nbformat_minor": 2
}
