{
 "cells": [
  {
   "cell_type": "markdown",
   "metadata": {},
   "source": [
    "### 分布式进程的描述\n",
    "1.分布式进程指的是我们将Process进程福撒到多台机器上，让多个机器去执行多个进程任务提高效率，但是线程不支持这样的操作，只有进程可以　　\n",
    "2.python的multiprocessing模块d的子模块managers对这一点的封装做的非常好,一个服务进程可以作为调度者（任务分配者）将进程任务分不到其他多个计算机中，使用网络通信即可实现(ping通 + ifconfig即可获取地址)   \n",
    "3.我们可以使用标准库的queue,但是我们之前了解过queue是线程安全的，这里我们要对queue做一些手脚，我们把queue撒到网络中，依靠验证码和开放端口的机器，我们从别的机器上获取虚拟的queue镜像到各自的本地计算机上，即可实现对queue的分布式进程安全　　"
   ]
  },
  {
   "cell_type": "code",
   "execution_count": 5,
   "metadata": {
    "collapsed": false
   },
   "outputs": [
    {
     "name": "stderr",
     "output_type": "stream",
     "text": [
      "Process QueueManager-5:\n",
      "Traceback (most recent call last):\n",
      "  File \"/usr/lib/python3.5/multiprocessing/process.py\", line 249, in _bootstrap\n",
      "    self.run()\n",
      "  File \"/usr/lib/python3.5/multiprocessing/process.py\", line 93, in run\n",
      "    self._target(*self._args, **self._kwargs)\n",
      "  File \"/usr/lib/python3.5/multiprocessing/managers.py\", line 505, in _run_server\n",
      "    server = cls._Server(registry, address, authkey, serializer)\n",
      "  File \"/usr/lib/python3.5/multiprocessing/managers.py\", line 140, in __init__\n",
      "    self.listener = Listener(address=address, backlog=16)\n",
      "  File \"/usr/lib/python3.5/multiprocessing/connection.py\", line 438, in __init__\n",
      "    self._listener = SocketListener(address, family, backlog)\n",
      "  File \"/usr/lib/python3.5/multiprocessing/connection.py\", line 576, in __init__\n",
      "    self._socket.bind(address)\n",
      "OSError: [Errno 98] Address already in use\n"
     ]
    },
    {
     "ename": "EOFError",
     "evalue": "",
     "output_type": "error",
     "traceback": [
      "\u001b[0;31m---------------------------------------------------------------------------\u001b[0m",
      "\u001b[0;31mEOFError\u001b[0m                                  Traceback (most recent call last)",
      "\u001b[0;32m<ipython-input-5-33bc95614406>\u001b[0m in \u001b[0;36m<module>\u001b[0;34m()\u001b[0m\n\u001b[1;32m     20\u001b[0m \u001b[0;34m\u001b[0m\u001b[0m\n\u001b[1;32m     21\u001b[0m \u001b[0;31m# 开启监听信息的通道和服务\u001b[0m\u001b[0;34m\u001b[0m\u001b[0;34m\u001b[0m\u001b[0m\n\u001b[0;32m---> 22\u001b[0;31m \u001b[0mmanager\u001b[0m\u001b[0;34m.\u001b[0m\u001b[0mstart\u001b[0m\u001b[0;34m(\u001b[0m\u001b[0;34m)\u001b[0m\u001b[0;34m\u001b[0m\u001b[0m\n\u001b[0m\u001b[1;32m     23\u001b[0m \u001b[0;34m\u001b[0m\u001b[0m\n\u001b[1;32m     24\u001b[0m \u001b[0;31m# 获得注册在网络上的两个队列的本地镜像，不要直接使用已经存在的本地的task_queue,因为task_queue没有暴露到网络上，添加的结果网络上的队列是不会添加的\u001b[0m\u001b[0;34m\u001b[0m\u001b[0;34m\u001b[0m\u001b[0m\n",
      "\u001b[0;32m/usr/lib/python3.5/multiprocessing/managers.py\u001b[0m in \u001b[0;36mstart\u001b[0;34m(self, initializer, initargs)\u001b[0m\n\u001b[1;32m    481\u001b[0m         \u001b[0;31m# get address of server\u001b[0m\u001b[0;34m\u001b[0m\u001b[0;34m\u001b[0m\u001b[0m\n\u001b[1;32m    482\u001b[0m         \u001b[0mwriter\u001b[0m\u001b[0;34m.\u001b[0m\u001b[0mclose\u001b[0m\u001b[0;34m(\u001b[0m\u001b[0;34m)\u001b[0m\u001b[0;34m\u001b[0m\u001b[0m\n\u001b[0;32m--> 483\u001b[0;31m         \u001b[0mself\u001b[0m\u001b[0;34m.\u001b[0m\u001b[0m_address\u001b[0m \u001b[0;34m=\u001b[0m \u001b[0mreader\u001b[0m\u001b[0;34m.\u001b[0m\u001b[0mrecv\u001b[0m\u001b[0;34m(\u001b[0m\u001b[0;34m)\u001b[0m\u001b[0;34m\u001b[0m\u001b[0m\n\u001b[0m\u001b[1;32m    484\u001b[0m         \u001b[0mreader\u001b[0m\u001b[0;34m.\u001b[0m\u001b[0mclose\u001b[0m\u001b[0;34m(\u001b[0m\u001b[0;34m)\u001b[0m\u001b[0;34m\u001b[0m\u001b[0m\n\u001b[1;32m    485\u001b[0m \u001b[0;34m\u001b[0m\u001b[0m\n",
      "\u001b[0;32m/usr/lib/python3.5/multiprocessing/connection.py\u001b[0m in \u001b[0;36mrecv\u001b[0;34m(self)\u001b[0m\n\u001b[1;32m    248\u001b[0m         \u001b[0mself\u001b[0m\u001b[0;34m.\u001b[0m\u001b[0m_check_closed\u001b[0m\u001b[0;34m(\u001b[0m\u001b[0;34m)\u001b[0m\u001b[0;34m\u001b[0m\u001b[0m\n\u001b[1;32m    249\u001b[0m         \u001b[0mself\u001b[0m\u001b[0;34m.\u001b[0m\u001b[0m_check_readable\u001b[0m\u001b[0;34m(\u001b[0m\u001b[0;34m)\u001b[0m\u001b[0;34m\u001b[0m\u001b[0m\n\u001b[0;32m--> 250\u001b[0;31m         \u001b[0mbuf\u001b[0m \u001b[0;34m=\u001b[0m \u001b[0mself\u001b[0m\u001b[0;34m.\u001b[0m\u001b[0m_recv_bytes\u001b[0m\u001b[0;34m(\u001b[0m\u001b[0;34m)\u001b[0m\u001b[0;34m\u001b[0m\u001b[0m\n\u001b[0m\u001b[1;32m    251\u001b[0m         \u001b[0;32mreturn\u001b[0m \u001b[0mForkingPickler\u001b[0m\u001b[0;34m.\u001b[0m\u001b[0mloads\u001b[0m\u001b[0;34m(\u001b[0m\u001b[0mbuf\u001b[0m\u001b[0;34m.\u001b[0m\u001b[0mgetbuffer\u001b[0m\u001b[0;34m(\u001b[0m\u001b[0;34m)\u001b[0m\u001b[0;34m)\u001b[0m\u001b[0;34m\u001b[0m\u001b[0m\n\u001b[1;32m    252\u001b[0m \u001b[0;34m\u001b[0m\u001b[0m\n",
      "\u001b[0;32m/usr/lib/python3.5/multiprocessing/connection.py\u001b[0m in \u001b[0;36m_recv_bytes\u001b[0;34m(self, maxsize)\u001b[0m\n\u001b[1;32m    405\u001b[0m \u001b[0;34m\u001b[0m\u001b[0m\n\u001b[1;32m    406\u001b[0m     \u001b[0;32mdef\u001b[0m \u001b[0m_recv_bytes\u001b[0m\u001b[0;34m(\u001b[0m\u001b[0mself\u001b[0m\u001b[0;34m,\u001b[0m \u001b[0mmaxsize\u001b[0m\u001b[0;34m=\u001b[0m\u001b[0;32mNone\u001b[0m\u001b[0;34m)\u001b[0m\u001b[0;34m:\u001b[0m\u001b[0;34m\u001b[0m\u001b[0m\n\u001b[0;32m--> 407\u001b[0;31m         \u001b[0mbuf\u001b[0m \u001b[0;34m=\u001b[0m \u001b[0mself\u001b[0m\u001b[0;34m.\u001b[0m\u001b[0m_recv\u001b[0m\u001b[0;34m(\u001b[0m\u001b[0;36m4\u001b[0m\u001b[0;34m)\u001b[0m\u001b[0;34m\u001b[0m\u001b[0m\n\u001b[0m\u001b[1;32m    408\u001b[0m         \u001b[0msize\u001b[0m\u001b[0;34m,\u001b[0m \u001b[0;34m=\u001b[0m \u001b[0mstruct\u001b[0m\u001b[0;34m.\u001b[0m\u001b[0munpack\u001b[0m\u001b[0;34m(\u001b[0m\u001b[0;34m\"!i\"\u001b[0m\u001b[0;34m,\u001b[0m \u001b[0mbuf\u001b[0m\u001b[0;34m.\u001b[0m\u001b[0mgetvalue\u001b[0m\u001b[0;34m(\u001b[0m\u001b[0;34m)\u001b[0m\u001b[0;34m)\u001b[0m\u001b[0;34m\u001b[0m\u001b[0m\n\u001b[1;32m    409\u001b[0m         \u001b[0;32mif\u001b[0m \u001b[0mmaxsize\u001b[0m \u001b[0;32mis\u001b[0m \u001b[0;32mnot\u001b[0m \u001b[0;32mNone\u001b[0m \u001b[0;32mand\u001b[0m \u001b[0msize\u001b[0m \u001b[0;34m>\u001b[0m \u001b[0mmaxsize\u001b[0m\u001b[0;34m:\u001b[0m\u001b[0;34m\u001b[0m\u001b[0m\n",
      "\u001b[0;32m/usr/lib/python3.5/multiprocessing/connection.py\u001b[0m in \u001b[0;36m_recv\u001b[0;34m(self, size, read)\u001b[0m\n\u001b[1;32m    381\u001b[0m             \u001b[0;32mif\u001b[0m \u001b[0mn\u001b[0m \u001b[0;34m==\u001b[0m \u001b[0;36m0\u001b[0m\u001b[0;34m:\u001b[0m\u001b[0;34m\u001b[0m\u001b[0m\n\u001b[1;32m    382\u001b[0m                 \u001b[0;32mif\u001b[0m \u001b[0mremaining\u001b[0m \u001b[0;34m==\u001b[0m \u001b[0msize\u001b[0m\u001b[0;34m:\u001b[0m\u001b[0;34m\u001b[0m\u001b[0m\n\u001b[0;32m--> 383\u001b[0;31m                     \u001b[0;32mraise\u001b[0m \u001b[0mEOFError\u001b[0m\u001b[0;34m\u001b[0m\u001b[0m\n\u001b[0m\u001b[1;32m    384\u001b[0m                 \u001b[0;32melse\u001b[0m\u001b[0;34m:\u001b[0m\u001b[0;34m\u001b[0m\u001b[0m\n\u001b[1;32m    385\u001b[0m                     \u001b[0;32mraise\u001b[0m \u001b[0mOSError\u001b[0m\u001b[0;34m(\u001b[0m\u001b[0;34m\"got end of file during message\"\u001b[0m\u001b[0;34m)\u001b[0m\u001b[0;34m\u001b[0m\u001b[0m\n",
      "\u001b[0;31mEOFError\u001b[0m: "
     ]
    }
   ],
   "source": [
    "import random , time , queue\n",
    "# 导入模块\n",
    "from multiprocessing.managers import BaseManager\n",
    "\n",
    "# 发送任务的队列\n",
    "task_queue = queue.Queue()\n",
    "# 接收结果的队列\n",
    "result_queue = queue.Queue()\n",
    "\n",
    "# 类继承\n",
    "class QueueManager(BaseManager):\n",
    "    pass\n",
    "\n",
    "#　将两个队列注册到网上，callable关联了本地的两个queue，将两个队列上传到网上\n",
    "QueueManager.register('get_task_queue' , callable = lambda : task_queue)\n",
    "QueueManager.register('get_result_queue' , callable = lambda : result_queue)\n",
    "\n",
    "#　绑定对应的端口８００１和地址(本机ｉｐ),验证码\n",
    "manager = QueueManager(address = ('' , 8001) , authkey = b'lantian')\n",
    "\n",
    "# 开启监听信息的通道和服务\n",
    "manager.start()\n",
    "\n",
    "# 获得注册在网络上的两个队列的本地镜像，不要直接使用已经存在的本地的task_queue,因为task_queue没有暴露到网络上，添加的结果网络上的队列是不会添加的\n",
    "task = manager.get_task_queue()\n",
    "result = manager.get_result_queue()\n",
    "\n",
    "# 加入任务仅队列\n",
    "for url in ['ImageUrl_' + str(i) for i in range(10)]:\n",
    "    print(\"put task %s ... into queue\" % url)\n",
    "    task.put(url)\n",
    "\n",
    "print(\"try to get the result ...\")\n",
    "\n",
    "# 获取结果队列\n",
    "for i in range(10):\n",
    "    print(\"result is %s\" % result.get(timeout = 5))\n",
    "\n",
    "manager.shutdown()"
   ]
  },
  {
   "cell_type": "markdown",
   "metadata": {},
   "source": [
    "条理分析：\n",
    "* 首先实例化家里队列，这里一个是任务队列一个是接收队列\n",
    "* 类继承并注册队列到网上并实例化管理者对象\n",
    "* 启动管理者对象开始监听\n",
    "* 从网络获取队列的镜像到本地并添加任务\n",
    "* 其他的机器通过网络获取任务列表中的任务运行结果并吧结果加入结果队列\n",
    "* 本地机器通过结果队列获取结果返回给操作者\n",
    "\n",
    "ps:QueueManager()实际上运行管理者很多的通信队列，我们必须给我们的要用的通信队列指定一个名字"
   ]
  },
  {
   "cell_type": "code",
   "execution_count": null,
   "metadata": {
    "collapsed": true
   },
   "outputs": [],
   "source": [
    "# 工作进程\n",
    "import os , time\n",
    "from multiprocessing.managers import BaseManager\n",
    "\n",
    "class QueueManager(BaseManager):\n",
    "    pass\n",
    "\n",
    "QueueManager.register(\"get_task_queue\")     # 因为是从网络上获取，不是上传，所以只用名字就好\n",
    "QueueManager.register(\"get_result_queue\")\n",
    "\n",
    "server_addr = '192.168.1.106'\n",
    "\n",
    "print('connect to server %s ...' % server_addr)\n",
    "\n",
    "m = QueueManager(address=(server_addr , 8001) , authkey = b'lantian')    # 密码最好是二进制字符串\n",
    "m.connect()    #　连接\n",
    "\n",
    "task = m.get_task_queue()\n",
    "result = m.get_result_queue()\n",
    "while not task.empty():\n",
    "    image_url = task.get(True , timeout = 5)   # 阻塞等待任务\n",
    "    print(\"running ...\")\n",
    "    time.sleep(1)\n",
    "    result.put('%s download successfully!'%image_url)\n",
    "\n",
    "print(\"work exit.\")"
   ]
  }
 ],
 "metadata": {
  "kernelspec": {
   "display_name": "Python 3",
   "language": "python",
   "name": "python3"
  },
  "language_info": {
   "codemirror_mode": {
    "name": "ipython",
    "version": 3
   },
   "file_extension": ".py",
   "mimetype": "text/x-python",
   "name": "python",
   "nbconvert_exporter": "python",
   "pygments_lexer": "ipython3",
   "version": "3.5.2"
  }
 },
 "nbformat": 4,
 "nbformat_minor": 2
}
