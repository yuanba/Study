{
 "cells": [
  {
   "cell_type": "markdown",
   "metadata": {},
   "source": [
    "### 分布式进程的描述\n",
    "* 分布式进程指的是我们将Process进程撒到多台机器上，让多个机器去执行多个进程任务提高效率，但是线程不支持这样的操作，只有进程可以  　　\n",
    "* python的multiprocessing模块的子模块managers对这一点的封装做的非常好,一个服务进程可以作为调度者（任务分配者）将进程任务分不到其他多个计算机中，使用网络通信即可实现(ping通 + ifconfig即可获取地址)  \n",
    "* 我们可以使用标准库的queue,但是我们之前了解过queue是线程安全的，这里我们要对queue做一些手脚，我们把queue撒到网络中，依靠验证码和开放端口的机器，我们从别的机器上获取虚拟的queue镜像到各自的本地计算机上，即可实现对queue的分布式进程安全  "
   ]
  },
  {
   "cell_type": "code",
   "execution_count": null,
   "metadata": {
    "collapsed": false
   },
   "outputs": [],
   "source": [
    "import random , time , queue\n",
    "# 导入模块\n",
    "from multiprocessing.managers import BaseManager\n",
    "\n",
    "# 发送任务的队列\n",
    "task_queue = queue.Queue()\n",
    "# 接收结果的队列\n",
    "result_queue = queue.Queue()\n",
    "\n",
    "# 类继承\n",
    "class QueueManager(BaseManager):\n",
    "    pass\n",
    "\n",
    "#　将两个队列注册到网上，callable关联了本地的两个queue，将两个队列上传到网上\n",
    "QueueManager.register('get_task_queue' , callable = lambda : task_queue)\n",
    "QueueManager.register('get_result_queue' , callable = lambda : result_queue)\n",
    "\n",
    "#　绑定对应的端口８００１和地址(本机ｉｐ),验证码\n",
    "manager = QueueManager(address = ('' , 8001) , authkey = b'lantian')\n",
    "\n",
    "# 开启监听信息的通道和服务\n",
    "manager.start()\n",
    "\n",
    "# 获得注册在网络上的两个队列的本地镜像，不要直接使用已经存在的本地的task_queue,因为task_queue没有暴露到网络上，添加的结果网络上的队列是不会添加的\n",
    "task = manager.get_task_queue()\n",
    "result = manager.get_result_queue()\n",
    "\n",
    "# 加入任务仅队列\n",
    "for url in ['ImageUrl_' + str(i) for i in range(10)]:\n",
    "    print(\"put task %s ... into queue\" % url)\n",
    "    task.put(url)\n",
    "\n",
    "print(\"try to get the result ...\")\n",
    "\n",
    "# 获取结果队列\n",
    "for i in range(10):\n",
    "    print(\"result is %s\" % result.get(timeout = 5))\n",
    "\n",
    "manager.shutdown()    #　关闭任务监听"
   ]
  },
  {
   "cell_type": "markdown",
   "metadata": {},
   "source": [
    "条理分析：\n",
    "* 首先实例化两个队列，这里一个是任务队列一个是接收队列\n",
    "* 类继承并注册队列到网上并实例化管理者(manager)对象\n",
    "* 启动管理者对象开始监听\n",
    "* 从网络获取队列的镜像到本地并添加任务\n",
    "* 其他的机器通过网络获取任务列表中的任务运行结果并把结果加入结果队列\n",
    "* 本地机器通过结果队列获取结果返回给操作者\n",
    "* 关闭manager对象的监听服务\n",
    "\n",
    "ps:QueueManager()实际上运行管理者很多的通信队列，我们必须给我们的要用的通信队列指定一个名字，就像上面的get_task_queue一样"
   ]
  },
  {
   "cell_type": "code",
   "execution_count": 4,
   "metadata": {
    "collapsed": false
   },
   "outputs": [
    {
     "name": "stdout",
     "output_type": "stream",
     "text": [
      "connect to server 192.168.1.106 ...\n",
      "work exit.\n"
     ]
    }
   ],
   "source": [
    "# 工作进程\n",
    "import os , time\n",
    "from multiprocessing.managers import BaseManager\n",
    "\n",
    "class QueueManager(BaseManager):\n",
    "    pass\n",
    "\n",
    "QueueManager.register(\"get_task_queue\")     # 因为是从网络上获取，不是上传，所以只用注册名字就好\n",
    "QueueManager.register(\"get_result_queue\")\n",
    "\n",
    "server_addr = 'xxx.xxx.xxx.xxx'    # 我的本地ip\n",
    "\n",
    "print('connect to server %s ...' % server_addr)\n",
    "\n",
    "m = QueueManager(address=(server_addr , 8001) , authkey = b'lantian')    # 密码最好是二进制字符串\n",
    "m.connect()    #　连接\n",
    "\n",
    "# 从网络上获取虚拟的队列对象，进行通信\n",
    "task = m.get_task_queue()\n",
    "result = m.get_result_queue()\n",
    "\n",
    "while not task.empty():\n",
    "    image_url = task.get(True , timeout = 5)   # 阻塞等待任务添加\n",
    "    print(\"running ...\")\n",
    "    time.sleep(1)\n",
    "    result.put('%s download successfully!'%image_url)\n",
    "\n",
    "print(\"work exit.\")"
   ]
  }
 ],
 "metadata": {
  "kernelspec": {
   "display_name": "Python 3",
   "language": "python",
   "name": "python3"
  },
  "language_info": {
   "codemirror_mode": {
    "name": "ipython",
    "version": 3
   },
   "file_extension": ".py",
   "mimetype": "text/x-python",
   "name": "python",
   "nbconvert_exporter": "python",
   "pygments_lexer": "ipython3",
   "version": "3.5.2"
  }
 },
 "nbformat": 4,
 "nbformat_minor": 2
}
