{
 "cells": [
  {
   "cell_type": "markdown",
   "metadata": {},
   "source": [
    "## 进程和线程\n",
    "对于操作系统来说，一个任务就是一个进程，有的进程存在至少一个线程，线程之间快速切换让我们有一种线程同步运行的错觉　　\n",
    "python支持多进程和多线程，但是最好优先选择多现实执行多任务的功能。　　\n",
    "\n",
    "## 多进程\n",
    "详见Chart1.md\n",
    "\n",
    "## 多进程\n",
    "我们通常使用threading该模块实现我们的多线程操作　　\n"
   ]
  },
  {
   "cell_type": "code",
   "execution_count": 2,
   "metadata": {
    "collapsed": false
   },
   "outputs": [
    {
     "name": "stdout",
     "output_type": "stream",
     "text": [
      "MainThread is running ...\n",
      "thread loopthread is running ...\n",
      "thread loopthread >>> 1 \n",
      "thread loopthread >>> 2 \n",
      "thread loopthread >>> 3 \n",
      "thread loopthread >>> 4 \n",
      "thread loopthread >>> 5 \n",
      "thread loopthread ended ...\n",
      "thread MainThread ended...\n"
     ]
    }
   ],
   "source": [
    "import time , threading\n",
    "\n",
    "def loop():\n",
    "    print(\"thread %s is running ...\" % threading.current_thread().name)\n",
    "    n = 0\n",
    "    while n<5:\n",
    "        n += 1\n",
    "        print(\"thread %s >>> %s \" % (threading.current_thread().name , n))\n",
    "        time.sleep(1)\n",
    "    print(\"thread %s ended ...\" % threading.current_thread().name)\n",
    "\n",
    "print(\"%s is running ...\" % threading.current_thread().name)\n",
    "t = threading.Thread(target = loop , name = 'loopthread')\n",
    "t.start()\n",
    "t.join()\n",
    "print(\"thread %s ended...\" % threading.current_thread().name)"
   ]
  },
  {
   "cell_type": "markdown",
   "metadata": {},
   "source": [
    "任何一个进程都会默认的启动一个线程，该线程是主线程，主线程可以分成其他的多个线程\n",
    "* threading.current_thread()范湖当前线程的实例\n",
    "\n",
    "### 线程锁\n",
    "在多进程中，每个进程的资源都是独立的不互相影响，但是线程不一样，线程质检室资源共享的，这就带来一个问题，如果多个线程读写同一个数据，那么很有可能会出现意料之外的结果  \n",
    "如下的情况既有可能的原因就是因为语句  \n",
    "balance += n / balance -= n　　\n",
    "这两个语句中都是寄到一个局部变量，**不同的线程有用自己的局部变量**，会出现读取脏数据的丢失更新的情况　　\n",
    "这时候，我们就必须给我们的工作函数加上一个锁，同一时刻只有一个线程可以持有该锁，有该锁的线程才有资格修改变量"
   ]
  },
  {
   "cell_type": "code",
   "execution_count": 8,
   "metadata": {
    "collapsed": false
   },
   "outputs": [
    {
     "name": "stdout",
     "output_type": "stream",
     "text": [
      "3\n"
     ]
    }
   ],
   "source": [
    "import time , threading\n",
    "\n",
    "balance = 0\n",
    "\n",
    "def change(n):\n",
    "    global balance\n",
    "    balance += n\n",
    "    balance -= n\n",
    "\n",
    "def runthread(n):\n",
    "    for i in range(500000):\n",
    "        change(n)\n",
    "\n",
    "t1 = threading.Thread(target = runthread , args=(5,))\n",
    "t2 = threading.Thread(target = runthread , args=(8,))\n",
    "t1.start()\n",
    "t2.start()\n",
    "t1.join()\n",
    "t2.join()\n",
    "print(balance)"
   ]
  },
  {
   "cell_type": "code",
   "execution_count": 12,
   "metadata": {
    "collapsed": false
   },
   "outputs": [
    {
     "name": "stdout",
     "output_type": "stream",
     "text": [
      "0\n"
     ]
    }
   ],
   "source": [
    "# 有了锁，并发程度降低，但是线程安全\n",
    "import time , threading\n",
    "\n",
    "lock = threading.Lock()    # Add the lock\n",
    "\n",
    "balance = 0\n",
    "\n",
    "def change(n):\n",
    "    global balance\n",
    "    balance += n\n",
    "    balance -= n\n",
    "\n",
    "def runthread(n):\n",
    "    lock.acquire()    # 获取锁\n",
    "    try:\n",
    "        for i in range(1000000):\n",
    "            change(n)\n",
    "    finally:\n",
    "        lock.release()    # 释放锁\n",
    "\n",
    "t1 = threading.Thread(target = runthread , args=(5,))\n",
    "t2 = threading.Thread(target = runthread , args=(8,))\n",
    "t1.start()\n",
    "t2.start()\n",
    "t1.join()\n",
    "t2.join()\n",
    "print(balance)"
   ]
  },
  {
   "cell_type": "markdown",
   "metadata": {},
   "source": [
    "### threadlocal\n",
    "刚才说过了，每个线程都自己的局部变量，避免影响其他的线程，**全局变量修改必须加锁，局部不用**\n",
    "但是我们的线程内的局部变量传参太麻烦了，有两种解决方式　　\n",
    "1.全局字典\n",
    "     全局字典以threading.current_thread()作为键，以线程局部变量作为值，一遍之后都可以使用，但是如果有多个局部变量呢?使用threading.lock\n",
    "2.threading.local()对象：\n",
    "     threading.local()对象可以通过'.'作用域添加多个局部变量和访问，并且不同的进程之间是互不干扰的"
   ]
  }
 ],
 "metadata": {
  "kernelspec": {
   "display_name": "Python 3",
   "language": "python",
   "name": "python3"
  },
  "language_info": {
   "codemirror_mode": {
    "name": "ipython",
    "version": 3
   },
   "file_extension": ".py",
   "mimetype": "text/x-python",
   "name": "python",
   "nbconvert_exporter": "python",
   "pygments_lexer": "ipython3",
   "version": "3.5.2"
  }
 },
 "nbformat": 4,
 "nbformat_minor": 2
}
