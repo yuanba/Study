{
 "cells": [
  {
   "cell_type": "markdown",
   "metadata": {},
   "source": [
    "# Chart 1 - First Step\n",
    "## 1.开发工具安装  \n",
    "```\n",
    "sudo pip3 install python-nmap\n",
    "```"
   ]
  },
  {
   "cell_type": "markdown",
   "metadata": {},
   "source": [
    "## 2.语言概述：\n",
    "1.Variable  "
   ]
  },
  {
   "cell_type": "code",
   "execution_count": 6,
   "metadata": {
    "collapsed": false
   },
   "outputs": [
    {
     "name": "stdout",
     "output_type": "stream",
     "text": [
      "Checking for bannerFreeFloat FTP Server21\n",
      "----------------------------------------\n",
      "<class 'str'> <class 'int'> <class 'list'> <class 'bool'>\n"
     ]
    }
   ],
   "source": [
    "port = 21\n",
    "banner = \"FreeFloat FTP Server\"\n",
    "print(\"Checking for banner\" + banner + str(port))\n",
    "print(\"----------------------------------------\")\n",
    "portOpen = True\n",
    "print(type(banner) , type(port) , type([21,22,80,110]) , type(portOpen))"
   ]
  },
  {
   "cell_type": "markdown",
   "metadata": {},
   "source": [
    "2.String  \n",
    "展示String类型的几个常用的强大的內建函数  "
   ]
  },
  {
   "cell_type": "code",
   "execution_count": 10,
   "metadata": {
    "collapsed": false
   },
   "outputs": [
    {
     "name": "stdout",
     "output_type": "stream",
     "text": [
      "FREEFLOAT FTP SERVER\n",
      "freefloat ftp server\n",
      "Ability FTP Server\n",
      "10\n"
     ]
    }
   ],
   "source": [
    "print(banner.upper())\n",
    "print(banner.lower())\n",
    "print(banner.replace('FreeFloat' , 'Ability'))\n",
    "print(banner.find('FTP'))"
   ]
  },
  {
   "cell_type": "markdown",
   "metadata": {},
   "source": [
    "* str.find()函数三个参数，第一个待匹配子串，第二个参数是开始匹配的起点，第三个是开始匹配的终点，后两个参数明确我们的匹配的范围，没有找到子串，默认返回-1   \n",
    "* str.replace()函数的三个参数，前两个分贝时模式子串和匹配子串，第三个参数可选，代表替换操作执行的次数，负数和超过总的模式串的个数则全部替换，0不替换，剩下的按照前几个进行替换,返回的是原来字符串的修改副本\n",
    "* str.lower , str.upper 都返回拷贝后的字符串副本，大小写"
   ]
  },
  {
   "cell_type": "markdown",
   "metadata": {},
   "source": [
    "3.list   \n",
    "list对象数组的操作和內建函数   \n"
   ]
  },
  {
   "cell_type": "code",
   "execution_count": 14,
   "metadata": {
    "collapsed": false
   },
   "outputs": [
    {
     "name": "stdout",
     "output_type": "stream",
     "text": [
      "[9, 0, 3, 4, 1, 5, 8, 7, 6, 2]\n",
      "[80, 9, 0, 3, 4, 1, 5, 8, 7, 6, 2, 12]\n",
      "[9, 0, 3, 4, 1, 5, 8, 7, 6, 2, 12]\n",
      "12 [9, 0, 3, 4, 1, 5, 8, 7, 6, 2]\n",
      "9\n",
      "10 [9, 0, 3, 4, 1, 5, 8, 7, 6, 2]\n",
      "None\n",
      "[0, 1, 2, 3, 4, 5, 6, 7, 8, 9]\n",
      "[3, 5, 2, 0, 1, 8, 4, 6, 9, 7]\n",
      "[0, 1, 2, 3, 4, 5, 6, 7, 8, 9]\n",
      "[7, 9, 6, 4, 8, 1, 0, 2, 5, 3]\n"
     ]
    }
   ],
   "source": [
    "from random import shuffle\n",
    "port = []\n",
    "port = list(range(10))\n",
    "shuffle(port)\n",
    "print(port)\n",
    "port.append(12)\n",
    "port.insert(0,80)\n",
    "print(port)\n",
    "port.remove(80)\n",
    "print(port)\n",
    "port.append(80)\n",
    "del port[port.index(80)]\n",
    "print(port.pop() , port)\n",
    "print(port.index(2))\n",
    "print(len(port) , port)\n",
    "print(port.sort())\n",
    "print(port)\n",
    "shuffle(port)\n",
    "print(port)\n",
    "print(sorted(port))\n",
    "port.reverse()\n",
    "print(port)"
   ]
  },
  {
   "cell_type": "markdown",
   "metadata": {},
   "source": [
    "我们还需要注意一种列表的优秀的处理方法叫做分片操作，该操作可以实现我们的插入（多组），删除（多组），修改等非常优秀的操作  \n"
   ]
  },
  {
   "cell_type": "code",
   "execution_count": 23,
   "metadata": {
    "collapsed": false
   },
   "outputs": [
    {
     "name": "stdout",
     "output_type": "stream",
     "text": [
      "[111, 0, 1, 2, 3, 4, 5, 6, 7, 8, 9]\n",
      "[222, 333, 111, 0, 1, 2, 3, 4, 5, 6, 7, 8, 9]\n",
      "[0, 1, 2, 3, 4, 5, 6, 7, 8, 9]\n",
      "[0, 333, 2, 3, 4, 5, 6, 7, 8, 9]\n",
      "[0, 12, 3, 4, 5, 6, 7, 8, 9]\n"
     ]
    }
   ],
   "source": [
    "p = list(range(10))\n",
    "p[0:0] = [111]    #单个插入\n",
    "print(p)\n",
    "p[0:0] = [222,333]     #多组插入\n",
    "print(p)\n",
    "p[0:3] = []     #多组或者单个删除\n",
    "print(p)\n",
    "p[1:2] = [333]    #单个修改\n",
    "print(p)\n",
    "p[1:3] = [12]    #多个修改\n",
    "print(p)"
   ]
  },
  {
   "cell_type": "markdown",
   "metadata": {},
   "source": [
    "4.字典 - 內建哈希表映射   \n",
    "理论上字典的容量是无限的,items,keys,values返回对应的列表  "
   ]
  },
  {
   "cell_type": "code",
   "execution_count": 27,
   "metadata": {
    "collapsed": false
   },
   "outputs": [
    {
     "name": "stdout",
     "output_type": "stream",
     "text": [
      "dict_keys(['ftp', 'ssh', 'smtp', 'http'])\n",
      "dict_values([21, 22, 25, 80])\n",
      "dict_items([('ftp', 21), ('ssh', 22), ('smtp', 25), ('http', 80)])\n"
     ]
    }
   ],
   "source": [
    "services = {'ftp':21,'ssh':22,'smtp':25,'http':80}\n",
    "print(services.keys())\n",
    "print(services.values())\n",
    "print(services.items())"
   ]
  },
  {
   "cell_type": "markdown",
   "metadata": {},
   "source": [
    "5.网络  \n",
    "socket模块支持我们利用python来进行网络连接，我们实例化我们的socket对象（主机+端口）之后通过connect之后就可以制定我们的连接  \n",
    "* connect:开始连接内置的是IP和端口\n",
    "* recv:设定数据，表示之后要对去多少字节的数据，1024代表1kb\n",
    "* socket:出事后构造一个socket对象\n",
    "* socket.setdefaulttimeout():设定接收的超市时间，防止获取数据时间过长导致时间浪费，可以在超时之后强行中断连接"
   ]
  },
  {
   "cell_type": "markdown",
   "metadata": {},
   "source": [
    "```\n",
    "import socket\n",
    "socket.setdefaulttimeout(2)\n",
    "s = socket.socket(socket.AF_INET,socket.SOCK_STREAM)\n",
    "s.connect(('192.168.95.148' , 21))\n",
    "#s.send() ....\n",
    "ans = s.recv(1024)\n",
    "print(ans)\n",
    "```"
   ]
  },
  {
   "cell_type": "markdown",
   "metadata": {},
   "source": [
    "6.os 模块   \n",
    "* os.access(path , mode) - mode:R_OK,W_OK,X_OK检查我们当前发出请求的用户是否具有对制定目录的三种权限\n",
    "* os.path.isfile / os.path.isdir :检查对应的路径的文件名是否是文件属性或者是目录\n",
    "* **os.system(\"\") - 以字符串的形式运行操作系统的命令(根据官方文档的说明，该字符串的命令是运行在子shell中)，在linux系统下这个函数可以涵盖绝大多数的os模块的功能**\n",
    "* os.name - 当前的额操作系统的名称\n",
    "* os.sep - 当前操作系统的分隔符"
   ]
  }
 ],
 "metadata": {
  "kernelspec": {
   "display_name": "Python 3",
   "language": "python",
   "name": "python3"
  },
  "language_info": {
   "codemirror_mode": {
    "name": "ipython",
    "version": 3
   },
   "file_extension": ".py",
   "mimetype": "text/x-python",
   "name": "python",
   "nbconvert_exporter": "python",
   "pygments_lexer": "ipython3",
   "version": "3.5.2"
  }
 },
 "nbformat": 4,
 "nbformat_minor": 2
}
