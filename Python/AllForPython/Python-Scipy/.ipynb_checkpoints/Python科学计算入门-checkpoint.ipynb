{
 "cells": [
  {
   "cell_type": "markdown",
   "metadata": {},
   "source": [
    "## 科学计算的目的\n",
    "* 收集数据\n",
    "* 处理数据\n",
    "* 可视化分析数据\n",
    "\n",
    "## Python科学计算的基础\n",
    "    Python本身不能很好的执行科学计算的任务，真正可以完成工作的是Python的科学计算扩展模块  \n",
    "* Numpy\n",
    "* Scipy\n",
    "* matplotlib\n",
    "* Python\n",
    "* IPython / jupyter notebook / IPython notebook - 辅助工具\n",
    "* Mayavi\n",
    "* pandas & seaborn\n",
    "* sympy\n",
    "* scikit-learn\n",
    "* scikit-image\n",
    "\n",
    "## 交互式的开发环境\n",
    "IPython / juyter notebook 提供了强大的交互式的界面，基本的使用技巧如下"
   ]
  },
  {
   "cell_type": "code",
   "execution_count": 1,
   "metadata": {
    "collapsed": false
   },
   "outputs": [
    {
     "name": "stdout",
     "output_type": "stream",
     "text": [
      "something will be printed!\n"
     ]
    }
   ],
   "source": [
    "print(\"something will be printed!\")"
   ]
  },
  {
   "cell_type": "code",
   "execution_count": 3,
   "metadata": {
    "collapsed": true
   },
   "outputs": [],
   "source": [
    "print?    # print?查看介绍，print??可以查看源代码，这一点对于自己的包和模块也是有效的"
   ]
  },
  {
   "cell_type": "code",
   "execution_count": 1,
   "metadata": {
    "collapsed": false
   },
   "outputs": [],
   "source": [
    "%run ~/File/Study/Python/StudyPython/MyPythonWheel/mod2div.py"
   ]
  },
  {
   "cell_type": "code",
   "execution_count": 3,
   "metadata": {
    "collapsed": false
   },
   "outputs": [
    {
     "name": "stdout",
     "output_type": "stream",
     "text": [
      "Variable   Type    Data/Info\n",
      "----------------------------\n",
      "a          int     1\n"
     ]
    }
   ],
   "source": [
    "a = 1\n",
    "%whos"
   ]
  },
  {
   "cell_type": "markdown",
   "metadata": {},
   "source": [
    "IPython的基础使用技巧\n",
    "* !(Linux / Unix Shell Command)\n",
    "* timeit command 可以计算剪短的语句或者脚本的执行时间\n",
    "* debug 可以在异常中断之后执行debug程序\n",
    "\n",
    "## Python语言基础\n",
    "这里只讨论了开始使用Numpy和Scipy所需的最低要求\n",
    "以为本人接触Python很长的时间，在这里只记录我的遗漏知识点\n",
    "* 复数"
   ]
  },
  {
   "cell_type": "code",
   "execution_count": 7,
   "metadata": {
    "collapsed": false
   },
   "outputs": [
    {
     "name": "stdout",
     "output_type": "stream",
     "text": [
      "<class 'complex'> 1.5 2.0\n"
     ]
    }
   ],
   "source": [
    "a = 1.5 + 2j\n",
    "print(type(a) , a.real , a.imag)"
   ]
  },
  {
   "cell_type": "markdown",
   "metadata": {},
   "source": [
    "* 列表用来容纳数据，可以容纳不同的数据，但是实际上如果是容纳你数组，建议使用numpy中的array速度的更快\n",
    "* 字符串格式化"
   ]
  },
  {
   "cell_type": "code",
   "execution_count": 11,
   "metadata": {
    "collapsed": false
   },
   "outputs": [
    {
     "name": "stdout",
     "output_type": "stream",
     "text": [
      "one : 1 , two : 2 , three : 3\n"
     ]
    }
   ],
   "source": [
    "print(\"one : %d , two : %d , three : %s\" % (1,2,'3'))"
   ]
  },
  {
   "cell_type": "markdown",
   "metadata": {},
   "source": [
    "* python中的可变对象比如list如果是用切片的方式是原地的改变的"
   ]
  },
  {
   "cell_type": "code",
   "execution_count": 15,
   "metadata": {
    "collapsed": false
   },
   "outputs": [
    {
     "name": "stdout",
     "output_type": "stream",
     "text": [
      "140623386049864\n",
      "140623604718472\n",
      "140623604718472\n"
     ]
    }
   ],
   "source": [
    "a = [1,2,3]\n",
    "print(id(a))\n",
    "a = ['a','b','c']\n",
    "print(id(a))    # id 改变\n",
    "a[:] = [1,2,3]\n",
    "print(id(a))    # id 不变"
   ]
  },
  {
   "cell_type": "markdown",
   "metadata": {},
   "source": [
    "* 修改正在迭代的列表会发生意想不到的错误，强烈建议不要使用\n",
    "* 函数参数的默认值在函数定义的时候使用，之后改动是对函数没有影响的\n",
    "* reload : 对旧的模块修改的话，我们需要重新导入"
   ]
  },
  {
   "cell_type": "code",
   "execution_count": 17,
   "metadata": {
    "collapsed": false
   },
   "outputs": [
    {
     "data": {
      "text/plain": [
       "<module 'os' from '/usr/lib/python3.5/os.py'>"
      ]
     },
     "execution_count": 17,
     "metadata": {},
     "output_type": "execute_result"
    }
   ],
   "source": [
    "import os\n",
    "from imp import reload\n",
    "reload(os)"
   ]
  },
  {
   "cell_type": "markdown",
   "metadata": {},
   "source": [
    "* 包的信息描述"
   ]
  },
  {
   "cell_type": "code",
   "execution_count": 21,
   "metadata": {
    "collapsed": false
   },
   "outputs": [
    {
     "name": "stdout",
     "output_type": "stream",
     "text": [
      "/usr/lib/python3.5/os.py\n"
     ]
    }
   ],
   "source": [
    "import os\n",
    "print(os.__file__)"
   ]
  }
 ],
 "metadata": {
  "kernelspec": {
   "display_name": "Python 3",
   "language": "python",
   "name": "python3"
  },
  "language_info": {
   "codemirror_mode": {
    "name": "ipython",
    "version": 3
   },
   "file_extension": ".py",
   "mimetype": "text/x-python",
   "name": "python",
   "nbconvert_exporter": "python",
   "pygments_lexer": "ipython3",
   "version": "3.5.2"
  }
 },
 "nbformat": 4,
 "nbformat_minor": 2
}
