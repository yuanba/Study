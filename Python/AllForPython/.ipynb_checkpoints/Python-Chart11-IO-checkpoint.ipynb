{
 "cells": [
  {
   "cell_type": "markdown",
   "metadata": {},
   "source": [
    "#  文件流\n",
    "\n",
    "## 1.open\n",
    "open函数使用一个可以搜索到的文件名作为强制参数，返回一个打开的文件对象\n",
    "## 2.打开模式：\n",
    "\n",
    "| value | description |\n",
    "| ----- | ----------- | \n",
    "| 'r'   | read        |\n",
    "| 'w'   | write       |\n",
    "| 'a'   | append      |\n",
    "| 'b'   | 二进制模式   |\n",
    "| '+'   | 扩展模式，在该模式下读写同时使用 |\n",
    "\n",
    "对于如今只模式，我们通常默认的打开的都是文本文件，但是实际上，我们有时候也需要处理二进制文件，则我们需要使用b选项来正确的而处理二进制文件（声音或者图像），使用的原因就是我们的python在利用文本模式打开的时候，会将换行负在不同平台下的标准进行转化，但是在二进制下，我们经常会用到这种的字符串，所以说我们如果使用文本方式来打开我们的二进制文件的话，会将我们的二进制文件进行相应的破坏，所以要使用二进制模式打开二进制文件   \n",
    "\n",
    "我们还需要知道，在python中我们的打开文件的第三个默认参数是我们的缓冲区的大小，默认是存在缓冲区的,0无缓冲，1默认使用缓冲，大于1的数字设定缓冲区的大小，-1表示使用默认缓冲区大小\n",
    "\n",
    "## 3.基本读写方法\n",
    "write() - 将字符串写入文件\n",
    "read() - 提供参数，选择读取的内容的字节数,默认全部读取    \n",
    "\n",
    "随机访问：  \n",
    "1.seek（offset，whence）:offset偏移量字节数，whence ： 0文件头开始偏移（offset>=0），1当前位置偏移(offset随意),2文件末尾偏移(offset<=0)  \n",
    "2.tell:返回当前的位置，字节数\n",
    "\n",
    "按行读写：  \n",
    "readline - 读取之第一个换行符  \n",
    "readlines - 读取文件全部，每行按照一个列表元素插入列表并将列表返回\n",
    "writelines -  将一个字符串列表全体按照行写入文件，但是不添加换行符   "
   ]
  },
  {
   "cell_type": "code",
   "execution_count": 14,
   "metadata": {
    "collapsed": false
   },
   "outputs": [
    {
     "name": "stdout",
     "output_type": "stream",
     "text": [
      "Hello World!\n",
      " 13\n",
      "-----------------------------\n",
      "['somethinglantiansomehing']\n",
      "-----------------------------\n",
      "['something\\n', 'lantian\\n', 'somehing\\n']\n"
     ]
    }
   ],
   "source": [
    "f = open('a','w+')\n",
    "f.write(\"Hello World!\\n\")\n",
    "f.seek(0,0)\n",
    "print(f.read(100) , f.tell())\n",
    "print('-----------------------------')\n",
    "f.close()\n",
    "f = open('w','w+')\n",
    "k = ['something','lantian','somehing']\n",
    "f.writelines(k)\n",
    "f.seek(0,0)\n",
    "print(f.readlines())\n",
    "f.close()\n",
    "print('-----------------------------')\n",
    "f = open('w','w+')\n",
    "k = ['something\\n','lantian\\n','somehing\\n']\n",
    "f.writelines(k)\n",
    "f.seek(0,0)\n",
    "print(f.readlines())"
   ]
  },
  {
   "cell_type": "markdown",
   "metadata": {},
   "source": [
    "## 关闭文件：\n",
    "按照上面的描述，我们已经知道了，python是将读写的内容韩存在缓冲区中最后进行统一处理的，这也就意味着而一旦我们没有正确关闭文件的话，有可能会导致写入的内容丢失  \n",
    "1.手动close()  \n",
    "2.try，finaly语句强制的close  \n",
    "3.with open('','') as f:  \n",
    "      pass  \n",
    "  该语句块会在文件退出语句块的时候自动的执行关闭操作  \n",
    " "
   ]
  },
  {
   "cell_type": "markdown",
   "metadata": {},
   "source": [
    "with as语句块又称上下文管理器，任何一个定义了__enter__和__exit__方法的对象都会在进入语句块的时候自动的执行这两个方法，其中__enter__方法不带参数，进入with语句的时候被调用，返回值绑定在我们的as后的变量的引用上"
   ]
  },
  {
   "cell_type": "code",
   "execution_count": 20,
   "metadata": {
    "collapsed": false
   },
   "outputs": [
    {
     "name": "stdout",
     "output_type": "stream",
     "text": [
      "Into the with as coding cell: Hello World!\n",
      "Out the with as coding cell: Bye!\n"
     ]
    }
   ],
   "source": [
    "class test:\n",
    "    def __init__(self):\n",
    "        self.hello = \"Hello World!\"\n",
    "        self.bye = \"Bye!\"\n",
    "    def __enter__(self):\n",
    "        print(\"Into the with as coding cell:\" , self.hello)\n",
    "    def __exit__(self,a,b,c):\n",
    "        print(\"Out the with as coding cell:\" , self.bye)\n",
    "\n",
    "with test() as k:\n",
    "    pass"
   ]
  },
  {
   "cell_type": "markdown",
   "metadata": {},
   "source": [
    "### 文件迭代：\n",
    "不仅是open代开的文件对象，fileinput也是，我们完全可以对文件对象进行迭代，知道我们的所有的文件的数据都被读取完之后跳出迭代循环"
   ]
  },
  {
   "cell_type": "code",
   "execution_count": null,
   "metadata": {
    "collapsed": true
   },
   "outputs": [],
   "source": []
  }
 ],
 "metadata": {
  "kernelspec": {
   "display_name": "Python 3",
   "language": "python",
   "name": "python3"
  },
  "language_info": {
   "codemirror_mode": {
    "name": "ipython",
    "version": 3
   },
   "file_extension": ".py",
   "mimetype": "text/x-python",
   "name": "python",
   "nbconvert_exporter": "python",
   "pygments_lexer": "ipython3",
   "version": "3.5.2"
  }
 },
 "nbformat": 4,
 "nbformat_minor": 2
}
