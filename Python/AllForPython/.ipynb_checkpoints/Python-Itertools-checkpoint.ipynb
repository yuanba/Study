{
 "cells": [
  {
   "cell_type": "markdown",
   "metadata": {},
   "source": [
    "## Itertools模块\n",
    "Python引入了迭代器的概念来满足我们的可迭代的要求，既保障了数据的正确的生产还节约了内存  \n",
    "当我们要处理的**数据对象**非常的庞大的时候，迭代器不失为一个满足我们的优化要求的优秀的工具  \n",
    "\n",
    "首先我们需要先来了解一下迭代器的本质,先看下面的例子"
   ]
  },
  {
   "cell_type": "code",
   "execution_count": 12,
   "metadata": {
    "collapsed": false
   },
   "outputs": [
    {
     "name": "stdout",
     "output_type": "stream",
     "text": [
      "<class '__main__.test'>----------\n",
      "--iter-- function has been called!\n",
      "--next-- function has been called!\n",
      "--next-- function has been called!\n",
      "--next-- function has been called!\n",
      "--next-- function has been called!\n",
      "--next-- function has been called!\n",
      "--next-- function has been called!\n"
     ]
    }
   ],
   "source": [
    "import itertools\n",
    "class test:\n",
    "    def __init__(self):\n",
    "        pass\n",
    "    def __iter__(self):\n",
    "        print(\"--iter-- function has been called!\")\n",
    "        return self\n",
    "    def __next__(self):\n",
    "        print(\"--next-- function has been called!\")\n",
    "\n",
    "p = test()\n",
    "print(str(type(p))+'-'*10)\n",
    "n = 0\n",
    "for i in p:\n",
    "    #break\n",
    "    n += 1\n",
    "    if n > 5:break\n"
   ]
  },
  {
   "cell_type": "markdown",
   "metadata": {},
   "source": [
    "我们从上面的例子中不难发现，我们的迭代器（马上就区分）实际上在被迭代的时候首先调用*\\_\\_iter\\_\\_*方法,然后紧接着调用我们的*\\_\\_next\\_\\_*方法开始进行迭代（将上面的第一个break去掉可以更好的理解）  \n",
    "\n",
    "* 所以我们开始定义，存在着\\_\\_iter\\_\\_方法（并且返回自身）的对象我们称之为是**可迭代的对象**  \n",
    "* 我们再次定义**定义并且实现了\\_\\_next\\_\\_**方法的对象是迭代器  \n",
    "\n",
    "原因是这样的，我们的可迭代对象只是强调了我们对象是可以迭代的，但是如果我们没有实现next方法我们还不能称之为是迭代器，因为还不具备迭代的功能，只有我们iter的实现了next方法之后我们的迭代器才算是完成，但是在实际中我们的iter和next函数其实是共存的，缺一不可（可以注释掉任意一个函数运行就会发现）  \n",
    "\n",
    "我们想要终止地带的时候可以通过StopIteration异常的抛出来实现终止"
   ]
  },
  {
   "cell_type": "markdown",
   "metadata": {},
   "source": [
    "下面我们开始引入我们的Python內建模块itertools  \n",
    "\n",
    "我们的Python內建的itertools提供了很多的常用的迭代器函数或者类，他们的作用是帮助我们**返回一个迭代器**,我们可以使用for循环来对迭代器进行迭代（调用next函数）\n",
    "\n",
    "* 无穷迭代器\n",
    "* 有限迭代器\n",
    "* 组合生成器"
   ]
  },
  {
   "cell_type": "markdown",
   "metadata": {},
   "source": [
    "### 无穷迭代器\n",
    "itertools中提供了三个无穷迭代器的返回函数，这些函数如果使用默认值的话就会发挥一个无穷的的迭代器，但是我们可以通过增加参数来实现大迭代次数的控制  \n",
    "* count（f,s）:第一个参数是其实的整数，第二个参数是步长，返回一个无穷整数迭代器\n",
    "* cycle(iterable):参数是可迭代对象，返回一个迭代器，迭代器的功能是实现循环迭代\n",
    "* repeat（object,time）:第一个参数是对象，第二个参数是迭代的次数，反复的返回一个相同的迭代器\n",
    "    repeat函数比较特殊，实际上我们的该函数是不断的返回同一个object对象，下面的紧跟着的例子比较明显的看出来"
   ]
  },
  {
   "cell_type": "code",
   "execution_count": 20,
   "metadata": {
    "collapsed": false
   },
   "outputs": [
    {
     "name": "stdout",
     "output_type": "stream",
     "text": [
      "<__main__.test object at 0x7f8264380048> <__main__.test object at 0x7f8264380048>\n",
      "True\n"
     ]
    }
   ],
   "source": [
    "from itertools import *\n",
    "class test:\n",
    "    def __init__(self):\n",
    "        pass\n",
    "    pass\n",
    "\n",
    "a = test()\n",
    "data = repeat(a,2)\n",
    "x = data.__next__()\n",
    "y = data.__next__()\n",
    "print(x,y)\n",
    "if x is y:print('True')\n",
    "else:print('False')"
   ]
  },
  {
   "cell_type": "code",
   "execution_count": 25,
   "metadata": {
    "collapsed": false
   },
   "outputs": [
    {
     "name": "stdout",
     "output_type": "stream",
     "text": [
      "3\n",
      "7\n",
      "11\n",
      "1 2 3 4 1 2 3 "
     ]
    }
   ],
   "source": [
    "from itertools import *\n",
    "from sys import *\n",
    "x = count(3,4)\n",
    "for i in x:\n",
    "    if i > 12:break\n",
    "    else:print(i)\n",
    "\n",
    "y = cycle([1,2,3,4])\n",
    "k = 0\n",
    "for i in y:\n",
    "    stdout.write(str(i)+' ')\n",
    "    k += 1\n",
    "    if k > 6:break\n"
   ]
  },
  {
   "cell_type": "markdown",
   "metadata": {},
   "source": [
    "### 有限迭代器\n",
    "* chain(iterable1,iterable2, ..):将多个可迭代对象来接起来返回成一个新的迭代器,可迭代对象的类型不区分\n",
    "* compress(data,selectors):selectors必须是一个可迭代对象（只要是可迭代对象就可以）,只要是会被Python解释器翻译成False的对应的位置都会被忽略，但是我们需要注意，len(data) >= len(selectors)必须满足，如果前者长多余的部分会自动的省略\n",
    "* dropwhile(function,iterable):function将每个iterable的元素判断返回bool类型，作用是不断的吃掉true的开头元素知道第一个不满足的为止，后面全部保存\n",
    "* takewhile(function,iterable):同上，只不过，保留前面的满足（true）的元素知道遇到第一个不满足的位置后面全部丢弃\n",
    "* groupby(iterable,function):对iterable中的元素按照相应的函数进行分组，默认是按照是否相同来进行分组(是连续项进行分组)，\n",
    "将key函数作用于原循环器的各个元素。**根据key函数结果，将拥有相同函数结果的元素分到一个新的循环器。每个新的循环器以函数返回结果为标签。**\n",
    "这就好像一群人的身高作为循环器。我们可以使用这样一个key函数: 如果身高大于180，返回\"tall\"；如果身高底于160，返回\"short\";中间的返回\"middle\"。最终，所有身高将分为三个循环器，即\"tall\", \"short\", \"middle\"\n",
    "* fileter(function,seq):对函数中计算是True的元素返回，默认函数是None表示部位None的元素都会被返回\n",
    "* fileterfalse(function,seq):翻转上述的迭代器的功能\n",
    "* islice(iterable,[start],stop,[step]):切片函数，扩展的元组和列表的切片操作到可迭代对象上，start和step可选，但是终点必须指定，\n",
    "* map(function,iter1,iter2,iter3, ..):function接收的参数的个数和提供的可迭代对象的个数是相同的，我们每一次项function提供同一个位置的元素，知道最短的可迭代对象迭代结束,当只提供一个可迭代对象的时候，我们的map相当于对一个可迭代对象每个元素都执行了一遍同一个操作\n",
    "* tee(iterable,time):不同于repeat，我们的tee返回的是一个对象的不同的副本，用元组的形式返回，time表示返回的副本的个数，默认是2\n",
    "* zip(iter1,iter2, ..):将可迭代对象按照位置的元组形式返回，默认是短的结束为截止\n",
    "* zip_longest(iter1, ..,[默认]):同上，不过是默认是一长的解释截止，不足的用提供的默认值填充，没有默认值用None填充"
   ]
  },
  {
   "cell_type": "code",
   "execution_count": 106,
   "metadata": {
    "collapsed": false
   },
   "outputs": [
    {
     "name": "stdout",
     "output_type": "stream",
     "text": [
      "chain:--------------------\n",
      "0 1 2 3 4 5 6 7 8 9 3 4 \n",
      "compress:--------------------\n",
      "2 5 \n",
      "dropwhile/takewhile:--------------------\n",
      "2 2 3 5 1 \n",
      "--------------------\n",
      "1 \n",
      "groupby:--------------------\n",
      "a:['a', 'a', 'a']\n",
      "b:['b', 'b', 'b']\n",
      "a:['a', 'a']\n",
      "c:['c', 'c']\n",
      "d:['d']\n",
      "--------------------\n",
      "1:['a', 'b']\n",
      "2:['aa']\n",
      "1:['c']\n",
      "2:['dc']\n",
      "3:['abc']\n",
      "middle\n",
      "[165, 170, 177]\n",
      "short\n",
      "[158, 159]\n",
      "tall\n",
      "[191, 181, 182, 190]\n",
      "\n",
      "filter/fileterfalse:--------------------\n",
      "2\n",
      "3\n",
      "-1\n",
      "-2\n",
      "0\n",
      "\n",
      "islice:----------\n",
      "[2, 4, 6, 8]\n",
      "\n",
      "map:----------\n",
      "[4, 9, 16]\n",
      "\n",
      "tee:----------\n",
      "False\n",
      "\n",
      "zip/zip_longest:----------\n",
      "[(0, '\\x00'), (1, '\\x01'), (2, '\\x02'), (3, '\\x03'), (4, '\\x04')]\n",
      "[(0, 'b'), (1, 'c'), (2, 'd'), (3, 'e'), (4, 'f'), (5, 'g'), (6, 'h'), (7, 'i'), (8, 'j'), (9, 'k'), (10, '我是默认值'), (11, '我是默认值')]\n"
     ]
    }
   ],
   "source": [
    "from itertools import *\n",
    "from sys import *\n",
    "print('chain:' + '-'*20)\n",
    "for i in chain(range(10),tuple(range(3,5))):\n",
    "    stdout.write(str(i)+' ')\n",
    "print('\\ncompress:'+ '-'*20)\n",
    "for i in compress([1,2,1,2,1,1,2,1,5],tuple([range(3,1),1,None,[],(),{},0,0,1])):\n",
    "    stdout.write(str(i) + ' ')\n",
    "print('\\ndropwhile/takewhile:'+ '-'*20)\n",
    "def func(i):\n",
    "    if i == 1:return True\n",
    "    else:return False\n",
    "for i in dropwhile(func,[1,2,2,3,5,1]):\n",
    "    stdout.write(str(i)+' ')\n",
    "print('\\n'+'-'*20)\n",
    "for i in takewhile(func,[1,2,2,3,5,1]):\n",
    "    stdout.write(str(i)+' ')\n",
    "print('\\ngroupby:'+ '-'*20)\n",
    "for key , value in groupby('aaabbbaaccd'):\n",
    "    print(str(key) + ':' + str(list(value)))\n",
    "print('-'*20)\n",
    "data = ['a','b','aa','c','dc','abc']\n",
    "for key , value in groupby(data,len):\n",
    "    print(str(key) + ':' + str(list(value)))\n",
    "def height_class(h):\n",
    "    if h > 180:\n",
    "        return \"tall\"\n",
    "    elif h < 160:\n",
    "        return \"short\"\n",
    "    else:\n",
    "        return \"middle\"\n",
    "\n",
    "friends = [191, 158, 159, 165, 170, 177, 181, 182, 190]\n",
    "\n",
    "friends = sorted(friends, key = height_class)\n",
    "for m, n in groupby(friends, key = height_class):\n",
    "    print(m)\n",
    "    print(list(n))    \n",
    "\n",
    "print('\\nfilter/fileterfalse:' + '-'*20)\n",
    "p = filter(lambda x : x > 1,[-1,2,-2,3,0])\n",
    "print(p.__next__())\n",
    "print(p.__next__())\n",
    "p = filterfalse(lambda x : x > 1,[-1,2,-2,3,0])\n",
    "print(p.__next__())\n",
    "print(p.__next__())\n",
    "print(p.__next__())\n",
    "#p.__next__()\n",
    "print('\\nislice:'+'-'*10)\n",
    "print(list(islice(range(10),2,10,2)))\n",
    "print('\\nmap:'+'-'*10)\n",
    "print(list(map(pow,[2,3,4,5],[2,2,2])))\n",
    "print('\\ntee:'+'-'*10)\n",
    "x,y,z = tee([1,2,4],3)\n",
    "if x is y:print('True')\n",
    "else:print('False')\n",
    "print('\\nzip/zip_longest:'+'-'*10)\n",
    "print(list(zip(range(5),map(lambda x:chr(x),range(10)))))\n",
    "print(list(zip_longest( range(12) , map(lambda x:chr(98+x),range(10)) ,fillvalue='我是默认值')))"
   ]
  },
  {
   "cell_type": "markdown",
   "metadata": {},
   "source": [
    "### 组合生成器\n",
    "* product(iter1,iter2,iter3,...[repeat]):生成笛卡尔积，repeat制定重复生成的序列的次数\n",
    "* permutations（iter1,[r]）生成r排列,默认是全排列\n",
    "* combinations（iter,r)生成r组合，r参数不可省略"
   ]
  },
  {
   "cell_type": "code",
   "execution_count": 105,
   "metadata": {
    "collapsed": false
   },
   "outputs": [
    {
     "name": "stdout",
     "output_type": "stream",
     "text": [
      "[(1, 3, 1, 3), (1, 3, 1, 4), (1, 4, 1, 3), (1, 4, 1, 4)]\n",
      "[(0,), (1,), (2,), (3,), (4,), (5,)]\n",
      "[(0, 1), (0, 2), (0, 3), (0, 4), (0, 5), (1, 2), (1, 3), (1, 4), (1, 5), (2, 3), (2, 4), (2, 5), (3, 4), (3, 5), (4, 5)]\n"
     ]
    }
   ],
   "source": [
    "print(list(product([1],[3,4],repeat=2))) #repeat制定一上次的笛卡尔积的结果作为下一次笛卡尔积的输入（自己和自己的笛卡尔积）\n",
    "print(list(permutations(range(6),1)))\n",
    "print(list(combinations(range(6),2)))"
   ]
  }
 ],
 "metadata": {
  "kernelspec": {
   "display_name": "Python 3",
   "language": "python",
   "name": "python3"
  },
  "language_info": {
   "codemirror_mode": {
    "name": "ipython",
    "version": 3
   },
   "file_extension": ".py",
   "mimetype": "text/x-python",
   "name": "python",
   "nbconvert_exporter": "python",
   "pygments_lexer": "ipython3",
   "version": "3.5.2"
  }
 },
 "nbformat": 4,
 "nbformat_minor": 2
}
