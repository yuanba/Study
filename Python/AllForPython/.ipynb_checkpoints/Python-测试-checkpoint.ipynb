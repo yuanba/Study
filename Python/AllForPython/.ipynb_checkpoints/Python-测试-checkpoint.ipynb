{
 "cells": [
  {
   "cell_type": "markdown",
   "metadata": {
    "collapsed": false
   },
   "source": [
    "## 1.Doctest Module  \n"
   ]
  },
  {
   "cell_type": "markdown",
   "metadata": {},
   "source": [
    "-引言-   \n",
    "什么是doc文档，在我们的额python中，模块和函数之前的**最开头**我们可以为我们的函数和模块增加一段字符串，一般这样的字符串我们称之为是文档字符串，通常调用模块或者函数的\\_\\_doc\\_\\_属性就可以查看，但是爱这里我们就要揭示文档字符串的另一个用处——代码测试\n",
    "\n",
    "1. doctest模块是python的标准库模块，某地是为了便捷化我们在开发中对代码的测试用例的简化  \n",
    "我们都知道，我们编码完成之后都需要我们利用相应的测试用例来检测我们的编写的代码的正确性，所以说我们通常都需要手动的构造相应的测试用例  \n",
    "在这里，一般我们的测试用例都是固定的，但是我们有事后为了不断的优化和修改我们的代码的特性，有可能会对我们的代码的正确性造成相应的的影响  \n",
    "为了加快和清晰我们的代码的测试用例的显示，我们通常使用doctest模块来进行相应的测试   \n",
    "\n",
    "实际上，我们都是在命令行中调用python解释器执行我们的脚本，然后手动的输入用例  \n",
    "但是现在我们可以采用docstring的doctest的方法，在我们的脚本中，我们在docstring中输入我们的用例来自动的进行测试\n",
    "\n",
    "2. 语法\n",
    "doctest的语法就是在doctest中使用>>> 类似这样的额在交互式界面中才会使用的符号，然后秒数相应的输入输出就好\n",
    "\n",
    "3. 块测试：  \n",
    "一个模块中有很多的要测试函数，我们在模块的最开始可以添加很多的不同的测试不同的函数测使用例  \n",
    "对于模块测试，我们可以在命令行中使用python3 -m doctest -v xxx.py在外部添加doctest模块运行  \n",
    "也可以在\\_\\_name\\_\\_ == '\\_\\_main\\_\\_'中现实的调用doctest模块然后使用testmod(verbose=True)属性来知己使用python3 xxx.py直接的调用我们的模块测试  \n",
    "其中的-v参数表示我们的罗列测试的详细信息，这在我们查找测试的错误的时候非常的有用\n",
    "\n",
    "通过模块测试的一点我们可以得到启发：  \n",
    "在实际的编写函数中，我们通常都使用\n",
    "```\n",
    "if __name__ == '__main__'：\n",
    "```\n",
    "该语句来实现我们的测试驱动编程，我们将我们要实现的模块封装在我们的函数中，通过上面的语句我们在if语句内现实的import模块doctest我们在主测试的时候快速的到我们的模块测试的结果和错误的信息  "
   ]
  },
  {
   "cell_type": "code",
   "execution_count": 3,
   "metadata": {
    "collapsed": false
   },
   "outputs": [],
   "source": [
    "#---xxx.py---\n",
    "'''\n",
    ">>> a(2)\n",
    "3\n",
    ">>> b(1)\n",
    "0\n",
    "'''\n",
    "def a(x):\n",
    "    '''\n",
    "    这里也可以加\n",
    "    '''\n",
    "    return x+1\n",
    "def b(x):\n",
    "    return x-1"
   ]
  },
  {
   "cell_type": "markdown",
   "metadata": {},
   "source": [
    "4. 原理   \n",
    "我们的测试的文档字符串其实的含义就是，在调用我们的doctest之后，我们会在py文件中去查找那些看起来是交互式界面下使用的语句，然后自动的调用执行并测试返回结果\n",
    "\n",
    "5. 测试文件\n",
    "其实我们完全可以实现我们的测试文件和我们的运行文件的分离   \n",
    "只要我们的在文件中使用了了相同的交互式的语句结构（不使用引号）  \n",
    "\n",
    "6. doctest模块的主要使用函数：  \n",
    "    * testmod :测试模块，verbose参数表示详细列出，默认不列出\n",
    "    * testfile ：测试文件，将文件名的字符串作为参数，verbose同上，**主要用在交互式解释器中** "
   ]
  }
 ],
 "metadata": {
  "kernelspec": {
   "display_name": "Python 3",
   "language": "python",
   "name": "python3"
  },
  "language_info": {
   "codemirror_mode": {
    "name": "ipython",
    "version": 3
   },
   "file_extension": ".py",
   "mimetype": "text/x-python",
   "name": "python",
   "nbconvert_exporter": "python",
   "pygments_lexer": "ipython3",
   "version": "3.5.2"
  }
 },
 "nbformat": 4,
 "nbformat_minor": 2
}
