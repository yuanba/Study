{
 "cells": [
  {
   "cell_type": "code",
   "execution_count": null,
   "metadata": {
    "collapsed": true
   },
   "outputs": [],
   "source": [
    "１．将文本文件存储在我们的计算机中，我们需要使用我们的文件读写的模块\n",
    "２.我们如果想要将对象(内部对象或者自定义对象)存储在我们的文件中，可以使用　Pickle　模块"
   ]
  },
  {
   "cell_type": "code",
   "execution_count": 5,
   "metadata": {
    "collapsed": true
   },
   "outputs": [],
   "source": [
    "import pickle\n",
    "\n",
    "# Define my own classes.\n",
    "class a:\n",
    "    p = 1\n",
    "    def __init__(self):\n",
    "        p = 100\n",
    "    def print_p(self):\n",
    "        print(self.p)\n",
    "\n",
    "mine = a()\n",
    "with open(\"mine.pkl\" , 'wb') as f:\n",
    "    pickle.dump(mine , f)    # Write the classes into the file"
   ]
  },
  {
   "cell_type": "markdown",
   "metadata": {},
   "source": [
    "注意点:\n",
    "    * 1.读写必须使用二进制的形式\n",
    "    * ２．我们存储的是对象，不是类\n",
    "    * ３．存储的过程主要分为两个阶段 :    \n",
    "        * 1.对象序列化\n",
    "        * ２．序列化的文件流写入文件"
   ]
  },
  {
   "cell_type": "code",
   "execution_count": 9,
   "metadata": {
    "collapsed": false
   },
   "outputs": [
    {
     "name": "stdout",
     "output_type": "stream",
     "text": [
      "b'\\x80\\x03c__main__\\na\\nq\\x00)\\x81q\\x01.'\n"
     ]
    }
   ],
   "source": [
    "data_stream = pickle.dumps(mine)    # data stream createrd from the mine class\n",
    "print(data_stream)   #　All we need to do is to write the binary stream into the file , which is the same to the dumps functions"
   ]
  },
  {
   "cell_type": "markdown",
   "metadata": {},
   "source": [
    "载入对象，我们需要用到 pickle.load 函数"
   ]
  },
  {
   "cell_type": "code",
   "execution_count": 14,
   "metadata": {
    "collapsed": false
   },
   "outputs": [
    {
     "name": "stdout",
     "output_type": "stream",
     "text": [
      "1\n",
      "1\n"
     ]
    }
   ],
   "source": [
    "new = pickle.load(open(\"mine.pkl\" , 'rb'))\n",
    "#new??    # 查看我们的ｎｅｗ对象确实是属于我们的ａ类的\n",
    "print(new.p)\n",
    "new.print_p()"
   ]
  },
  {
   "cell_type": "markdown",
   "metadata": {},
   "source": [
    "注意点：\n",
    "    * １．和之前的dump函数是一直的我们的加载过程也是分两个阶段\n",
    "    * 2.自定义的对象提取之前必须要先定义我们的该对象从属的类，否则我们找不到对应的结果无法实现转化\n",
    "    \n",
    "    "
   ]
  },
  {
   "cell_type": "code",
   "execution_count": 3,
   "metadata": {
    "collapsed": false
   },
   "outputs": [
    {
     "name": "stdout",
     "output_type": "stream",
     "text": [
      "[0, 1, 2, 3, 4, 5, 6, 7, 8, 9] [0, 1, 2, 3, 4, 5, 6, 7, 8, 9]\n",
      "False\n"
     ]
    }
   ],
   "source": [
    "# Ｐｉｃｋｌｅ python的内部对象\n",
    "import pickle\n",
    "x = list(range(10))\n",
    "with open(\"list.pkl\" , 'wb') as f:\n",
    "    pickle.dump(x , f)\n",
    "    \n",
    "with open(\"list.pkl\" , 'rb') as f:\n",
    "    new_x = pickle.load(f)\n",
    "    \n",
    "print(x , new_x)\n",
    "print(x is new_x)"
   ]
  },
  {
   "cell_type": "code",
   "execution_count": null,
   "metadata": {
    "collapsed": true
   },
   "outputs": [],
   "source": []
  }
 ],
 "metadata": {
  "kernelspec": {
   "display_name": "Python 3",
   "language": "python",
   "name": "python3"
  },
  "language_info": {
   "codemirror_mode": {
    "name": "ipython",
    "version": 3
   },
   "file_extension": ".py",
   "mimetype": "text/x-python",
   "name": "python",
   "nbconvert_exporter": "python",
   "pygments_lexer": "ipython3",
   "version": "3.5.2"
  }
 },
 "nbformat": 4,
 "nbformat_minor": 2
}
