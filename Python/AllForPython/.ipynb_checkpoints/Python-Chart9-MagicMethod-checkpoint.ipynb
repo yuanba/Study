{
 "cells": [
  {
   "cell_type": "markdown",
   "metadata": {},
   "source": [
    "# Ｐｙｔｈｏｎ第九章 - 特殊方法，属性，迭代器  \n",
    "1.以下划线开始的函数的名字我们又称之为是魔法属性或者方法  \n",
    "2.类的构造方法"
   ]
  },
  {
   "cell_type": "code",
   "execution_count": 4,
   "metadata": {
    "collapsed": false
   },
   "outputs": [
    {
     "name": "stdout",
     "output_type": "stream",
     "text": [
      "Something has been constructed!\n"
     ]
    }
   ],
   "source": [
    "class a:\n",
    "    def __init__(self):\n",
    "        print \"Something has been constructed!\"\n",
    "p = a()\n",
    "#我们会在我们的对象被创建的额时候自动调用我们的__init__方法来对对象进行初始化"
   ]
  },
  {
   "cell_type": "markdown",
   "metadata": {},
   "source": [
    "ＯＯＰ编程中我们非常重视一类语法：重写，重载\n",
    "其中非常容易出错的就是我们的构造方法的重写，我们需要注意，一旦我们的构造方法被重写了，我们的父类的构造函数是不会被调用的  \n",
    "这也就带来一个问题，如果我们子类需要调用父类的对象属性的话，始终的是会失败的"
   ]
  },
  {
   "cell_type": "code",
   "execution_count": 7,
   "metadata": {
    "collapsed": false
   },
   "outputs": [],
   "source": [
    "class a:\n",
    "    def __init__(self):\n",
    "        self.name = 1\n",
    "    pass\n",
    "class b(a):\n",
    "    def __init__(self):\n",
    "        self.xing = 2\n",
    "    pass\n",
    "p = b()\n",
    "#p.name - Error"
   ]
  },
  {
   "cell_type": "markdown",
   "metadata": {},
   "source": [
    "解决方法１：  \n",
    "子类构造函数中加入语句:  \n",
    "[ClassName].__init__(self)  \n",
    "该语句帮助我们通过类调用构造函数，并将本身的self绑定到我们的构造函数上\n",
    "解决方法２：  \n",
    "python3中，我们的使用方法是super().xxxxxx\n",
    "python2中，我们的使用方法是super(ＳｕｂＣｌａｓｓＮａｍｅ，ｓｅｌｆ).xxxxx"
   ]
  },
  {
   "cell_type": "markdown",
   "metadata": {},
   "source": [
    "1.__len__(self)方法，我们的类在被函数len()调用的时候，应该要发回一个长度，这时候我们可以对我们的额长度在__len__（）函数注重进行定义，调用的时候会调用这个函数  \n",
    "2.__getitem__(self,key)方法，我们定义的对象使用下表运算符的时候会自动的调用这个函数  \n",
    "3.__setitem__(self,key,value)方法，大意同上  \n",
    "4.__delitem__(self,key)使用ｄｅｌ删除容器性对象的时候或者含有容器性对象的额累的实例的时候与的时候会调用"
   ]
  },
  {
   "cell_type": "code",
   "execution_count": 27,
   "metadata": {
    "collapsed": false
   },
   "outputs": [
    {
     "name": "stdout",
     "output_type": "stream",
     "text": [
      "Something Wrong!\n"
     ]
    },
    {
     "ename": "IndexError",
     "evalue": "",
     "output_type": "error",
     "traceback": [
      "\u001b[0;31m---------------------------------------------------------------------------\u001b[0m",
      "\u001b[0;31mIndexError\u001b[0m                                Traceback (most recent call last)",
      "\u001b[0;32m<ipython-input-27-afbb38a35701>\u001b[0m in \u001b[0;36m<module>\u001b[0;34m()\u001b[0m\n\u001b[1;32m     21\u001b[0m             \u001b[0;32mprint\u001b[0m \u001b[0me\u001b[0m\u001b[0;34m\u001b[0m\u001b[0m\n\u001b[1;32m     22\u001b[0m \u001b[0mp\u001b[0m \u001b[0;34m=\u001b[0m \u001b[0minfintelist\u001b[0m\u001b[0;34m(\u001b[0m\u001b[0;34m)\u001b[0m\u001b[0;34m\u001b[0m\u001b[0m\n\u001b[0;32m---> 23\u001b[0;31m \u001b[0mp\u001b[0m\u001b[0;34m[\u001b[0m\u001b[0;34m-\u001b[0m\u001b[0;36m1\u001b[0m\u001b[0;34m]\u001b[0m\u001b[0;34m\u001b[0m\u001b[0m\n\u001b[0m",
      "\u001b[0;32m<ipython-input-27-afbb38a35701>\u001b[0m in \u001b[0;36m__getitem__\u001b[0;34m(self, key)\u001b[0m\n\u001b[1;32m      8\u001b[0m         \u001b[0;32mif\u001b[0m \u001b[0mkey\u001b[0m \u001b[0;34m<\u001b[0m \u001b[0;36m0\u001b[0m \u001b[0;34m:\u001b[0m\u001b[0;34m\u001b[0m\u001b[0m\n\u001b[1;32m      9\u001b[0m             \u001b[0;32mprint\u001b[0m \u001b[0;34m\"Something Wrong!\"\u001b[0m\u001b[0;34m\u001b[0m\u001b[0m\n\u001b[0;32m---> 10\u001b[0;31m             \u001b[0;32mraise\u001b[0m \u001b[0mIndexError\u001b[0m\u001b[0;34m\u001b[0m\u001b[0m\n\u001b[0m\u001b[1;32m     11\u001b[0m         \u001b[0;32mtry\u001b[0m\u001b[0;34m:\u001b[0m\u001b[0;34m\u001b[0m\u001b[0m\n\u001b[1;32m     12\u001b[0m             \u001b[0;32mreturn\u001b[0m \u001b[0mself\u001b[0m\u001b[0;34m.\u001b[0m\u001b[0mchanged\u001b[0m\u001b[0;34m[\u001b[0m\u001b[0mkey\u001b[0m\u001b[0;34m]\u001b[0m\u001b[0;34m\u001b[0m\u001b[0m\n",
      "\u001b[0;31mIndexError\u001b[0m: "
     ]
    }
   ],
   "source": [
    "'''实现无限长整数'''\n",
    "class infintelist:\n",
    "    def __init__(self,start=0,step=1):\n",
    "        self.start = start\n",
    "        self.step = step\n",
    "        self.changed = {}    #ｕ用户改变的字典记录\n",
    "    def __getitem__(self,key):\n",
    "        if key < 0 :\n",
    "            print \"Something Wrong!\"\n",
    "            raise IndexError\n",
    "        try:\n",
    "            return self.changed[key]\n",
    "        except:\n",
    "            return self.start + key * self.step\n",
    "    def __setitem__(self,key,value):\n",
    "        try:\n",
    "            if not isinstance(value,(int,long)):raise TypeError\n",
    "            if key < 0:raise IndexError\n",
    "            self.changed[key] = value\n",
    "        except (TypeError,IndexError) , e:    #Only for Python2\n",
    "            print e\n",
    "p = infintelist()\n",
    "p[-1]"
   ]
  },
  {
   "cell_type": "markdown",
   "metadata": {},
   "source": [
    "我们如果要实现一个和内奸的列表或者其他的容器性对象相似的功能的时候，我们完全没必要从头开始进行编写这些上面的函数  \n",
    "想法的，我们完全可以通过ｓｕｐｅｒ集成的方式实现，有点类似我们的装饰器的功能  \n",
    "４．ｐｒｏｐｅｒｔｙ函数　－　http://python.jobbole.com/81967/"
   ]
  },
  {
   "cell_type": "markdown",
   "metadata": {},
   "source": [
    "首先我们需要了解使用ｐｒｏｐｅｒｔｙ的动机，首先，我们都需要了解，我们的软件开发的过程的过程中是需要不断地额增添新的功能和修改ｂｕｇ的  \n",
    "这样就不得不面对一个很严重的问题，一旦我们之前写好的一个类客户在其代码中使用的非常的频繁，我们的勒种的方法或者属性的名称是不能  \n",
    "随便的修改的，因为我们一旦修改就会对顾客造成大量的麻烦，所以我们也会说这样的修改是不向后兼容的  \n",
    "为了实现向后兼容，我们就需要对我们的自己的代码实现调整  \n",
    "在这里，为了**实现这一功能并简化我们的代码**我们就要引入一个语法叫做ｐｒｏｐｅｒｔｙ  \n",
    "\n",
    "对于ｐｒｏｐｅｒｔｙ，我们可以添加一个属性，将这个属性的赋值，调用，删除操作绑定到对应的已经实现的额函数上，从而实现我们上面要求的向后兼容  \n",
    "我们的ｐｒｏｐｅｒｔｙ其实是一个对象，这个对象提供有四个签名参数,fget,fset,fdel,doc最后一个是说明文档，我们暂时还用不到  \n",
    "实现方法大致有两种  \n",
    "１.类内生成ｐｒｏｐｅｒｔｙ对象  \n",
    "2.propery装饰器  \n",
    "\n",
    "这里我引出网上一个非常好的例子  \n",
    "假说我们写了一个温度转换类并在我们的顾客中获得好评，我们的顾客在大妈中大量的使用了我们的ｓｅｔｔ和ｇｅｔｔｅｒ方法，但是这时候突然出现一个ｂｕｇ我们不得不对我们的ｓｅｔｔｅｒ和ｇｅｔｔｅｒ方法的函数名进行修改，这样对顾客带来的修改是毁灭性的，所以说，为了顾客着想，我们需要对自己的类的代码进行重构，但是我们需要增么做呢，我们可以将我们的类的代码中增加一个ｐｒｏｐｅｒｔｙ对象庵后在我们的ｇｅｔｔｅｒ和ｓｅｔｔｅｒ中调用我们的ｐｒｏｐｅｒｔｙ对象，使得我们在类内或者类外都可以直接使用赋值(=)和调用语句直接调用绑定的方法  \n",
    "\n",
    "上面的额实现方式就是我们的１  \n",
    "还有一种实现方式就是我们可以讲我们的getter方法加上ｐｒｏｐｅｒｔｙ装饰，然后利用这个ｇｅｔｔｅｒ的名字装饰其他的ｓｅｔｔｅｒ和ｄｅｌｅｔｅｒ方法  \n",
    "注意，上述的这些只有在python3中有效  \n",
    "\n",
    "还有一种非常重要的使用方法就是，通过我们的ｐｒｏｐｅｒｔｙ的限制，我们可以设定我们的ｐｒｏｐｅｒｔｙ的属性成员为可读或者可写"
   ]
  },
  {
   "cell_type": "code",
   "execution_count": 1,
   "metadata": {
    "collapsed": true
   },
   "outputs": [],
   "source": [
    "#1\n",
    "class a:\n",
    "    def __init__(self):\n",
    "        self.birth = 1997\n",
    "    def setage(self,p):\n",
    "        self.birth = -1\n",
    "    def getage(self):\n",
    "        return 2017-self.birth\n",
    "    def delage(self):\n",
    "        del self.birth\n",
    "    age = property(fget=getage,fset=setage,fdel=delage)\n",
    "    \n",
    "#2\n",
    "class b:\n",
    "    def __init__(self):\n",
    "        self.birth = 1997\n",
    "    @property\n",
    "    def age(self):\n",
    "        return 2017-self.birth\n",
    "    @age.setter\n",
    "    def age(self,p):\n",
    "        self.birth = -1"
   ]
  },
  {
   "cell_type": "markdown",
   "metadata": {},
   "source": [
    "### 5.迭代器 - __iter__方法\n",
    "我们定义，任何一个实现了__iter__方法的对象都可以进行迭代，并且__iter__方法会返回一个迭代器  \n",
    "所谓的返回迭代器，需要我们再次实现一个next方法，该方法会每次迭代的时候返回一个状态，当没有状态返回的时候  \n",
    "我们会抛出一个ｓｔｏｐｉｔｅｒａｔｉｏｎ异常　　\n",
    "\n",
    "１．首先我们需要区分，我们的__iter__方法会返回一个我们的对象ｓｅｌｆ本身，但是有ｎｅｘｔ方法我们则认为是一个迭代器  \n",
    "２．ｉｔｅｒ內建对象会帮助我们讲一个序列迭代器化，字典比较特殊，字典的迭代器话值得时候将字典的键迭代器化，我们还需要知道，对于ｌｉｓｔ或者ｔｕｐｌｅ方法可以现实的将我们的迭代器转化成序列  \n",
    "3.另外我们的ｆｏｒ语句还自动的对迭代器进行迭代"
   ]
  },
  {
   "cell_type": "code",
   "execution_count": 4,
   "metadata": {
    "collapsed": false
   },
   "outputs": [
    {
     "name": "stdout",
     "output_type": "stream",
     "text": [
      "1\n",
      "1\n",
      "2\n",
      "3\n",
      "5\n",
      "8\n",
      "13\n",
      "21\n",
      "34\n",
      "55\n",
      "89\n",
      "144\n",
      "233\n",
      "377\n",
      "610\n",
      "987\n"
     ]
    }
   ],
   "source": [
    "class fib:\n",
    "    def __init__(self):\n",
    "        self.a = 0\n",
    "        self.b = 1\n",
    "    def next(self):\n",
    "        self.a , self.b = self.b , self.a + self.b\n",
    "        if self.a > 1000:raise StopIteration(\"The number is to large and the space is too small!\")\n",
    "        return self.a\n",
    "    def __iter__(self):\n",
    "        return self\n",
    "p = fib()\n",
    "for i in p:\n",
    "    print i"
   ]
  },
  {
   "cell_type": "markdown",
   "metadata": {},
   "source": [
    "### 6.生成器 - yield\n",
    "1.附加知识点  \n",
    "**列表推倒式**：一次产生大量的数据直接实例化我们的列表对象\n",
    "**元组推倒式（生成器推倒式）**：返回一个生成器，我们返回的生成器可以用__next__()函数单次迭代也可以用ｆｏｒ循环直接迭代,在数据量非常打算的时候，推荐使用元组推倒式  "
   ]
  },
  {
   "cell_type": "code",
   "execution_count": 6,
   "metadata": {
    "collapsed": false
   },
   "outputs": [
    {
     "name": "stdout",
     "output_type": "stream",
     "text": [
      "<generator object <genexpr> at 0x7f57a80f1f50> <type 'generator'>\n",
      "[0, 1, 4, 9, 16, 25, 36, 49, 64, 81] <type 'list'>\n",
      "285 285\n"
     ]
    }
   ],
   "source": [
    "k = [i**2 for i in range(10)]\n",
    "p = (i**2 for i in range(10))\n",
    "print p,type(p)\n",
    "print k,type(k)\n",
    "print sum(p),sum(k)"
   ]
  },
  {
   "cell_type": "markdown",
   "metadata": {},
   "source": []
  }
 ],
 "metadata": {
  "kernelspec": {
   "display_name": "Python 2",
   "language": "python",
   "name": "python2"
  },
  "language_info": {
   "codemirror_mode": {
    "name": "ipython",
    "version": 2
   },
   "file_extension": ".py",
   "mimetype": "text/x-python",
   "name": "python",
   "nbconvert_exporter": "python",
   "pygments_lexer": "ipython2",
   "version": "2.7.13"
  }
 },
 "nbformat": 4,
 "nbformat_minor": 2
}
