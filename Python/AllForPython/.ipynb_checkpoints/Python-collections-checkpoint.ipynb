{
 "cells": [
  {
   "cell_type": "code",
   "execution_count": 8,
   "metadata": {
    "collapsed": false
   },
   "outputs": [
    {
     "name": "stdout",
     "output_type": "stream",
     "text": [
      "1 2 <class 'type'> True\n",
      "---------------------------------------------\n",
      "lantian xxxxxxx\n",
      "yeqi ......\n"
     ]
    }
   ],
   "source": [
    "# 这里对于collections模块中的详细介绍的对象是namedtuple命名元组对象\n",
    "# namedtuple可以创建自定义tuple对象，可以对tuple针对的性的设定元素数目，并且支持索引访问，构成了一种单一的数据结构，是tuple的一个子类\n",
    "\n",
    "from collections import namedtuple\n",
    "\n",
    "Point = namedtuple(\"Point\" , ['x','y'])    #　创建名为Point的点类，属性是x,y\n",
    "p = Point(1 , 2)\n",
    "print(p.x , p.y , type(Point) , isinstance(p , tuple))\n",
    "\n",
    "print(\"---------------------------------------------\")\n",
    "\n",
    "heading = ['username' , 'userpassword']\n",
    "Row = namedtuple('Row' , heading)    # 创建一个username , userpassword为属性的类\n",
    "\n",
    "r = [['lantian','xxxxxxx'],['yeqi','......']]\n",
    "\n",
    "for i in r:\n",
    "    row = Row(*i)    # row对象是不断更改的\n",
    "    print(row.username , row.userpassword)"
   ]
  }
 ],
 "metadata": {
  "kernelspec": {
   "display_name": "Python 3",
   "language": "python",
   "name": "python3"
  },
  "language_info": {
   "codemirror_mode": {
    "name": "ipython",
    "version": 3
   },
   "file_extension": ".py",
   "mimetype": "text/x-python",
   "name": "python",
   "nbconvert_exporter": "python",
   "pygments_lexer": "ipython3",
   "version": "3.5.2"
  }
 },
 "nbformat": 4,
 "nbformat_minor": 2
}
