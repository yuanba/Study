{
 "cells": [
  {
   "cell_type": "markdown",
   "metadata": {},
   "source": [
    "### urllib.request核心模块\n",
    "\n",
    "urllib.request模块支持我们一某种方式访问互联网上的网页并进行相应的处理\n",
    "1. urllib.request.urlopen(url / Request , data = None, headers = {},timeout , ...)\n",
    "    * 该函数返回一个类文件对象\n",
    "        * geturl : 获取资源的url,支持跟踪重定向页面\n",
    "        * info : 相应的头信息\n",
    "        * getcode : 相应状态\n",
    "        * read / readlines : 读取获得的页面信息\n",
    "    * url / Request :   \n",
    "        urlopen函数利用一个指定的url字符串或者urllib.request.Request对象请求一个网络资源  \n",
    "        urllib.request.Request(url , data , headers , timeout)设置都可以添加，相当于是对urlopen参数的一次包装\n",
    "    * data :  \n",
    "        data是字节形式的字串，保存我们需要post的数据信息  \n",
    "        data的生成:\n",
    "            1. data_origin = {}\n",
    "            2. new1 = urllib.parse.urlencode(data)\n",
    "            3. new2 = new1.encode('编码')制定编码转化成字节包\n",
    "    * headers = {} :  \n",
    "        headers是我们相应的头文件包，是一个字典，保存我们的请求报头  \n",
    "        比如我们可以设置User-Agent的请求报头实现对自己浏览器的伪装  \n",
    "    * timeout : 设置相应时长限制\n",
    "2. post + data  \n",
    "    data = urllib.parse.urlencode(data).encode('...')\n",
    "    除了post的方式之外，我们还可以使用url + urllib.request.urlencode(data)的形式生成性的get形式的请求url\n",
    "3. 异常处理 \n",
    "    * urllib.error.URLError / urllib.error.HTTPError两个对象表示我们的错误的访问\n",
    "    * HTTPError是URLError的子类\n",
    "    * HTTPError和URLError均可以调用  \n",
    "        * geturl()\n",
    "        * info()\n",
    "        * getcode() / code属性\n",
    "        * read()\n",
    "        \n",
    "    来获取错误信息\n",
    "    * 对异常处理的判断可以这么实现 : \n",
    "        * HTTPError.code\n",
    "        * URLError.reason\n",
    "4. urllib.request.urlretrieve(url , filename = None, reporthook = None, data = None)  \n",
    "    * 该方法用来从网上的制定url资源上下载资源，url是制定的资源\n",
    "    * filename是本地保存的文件路径和文件名,绝对路径\n",
    "    * reporthook是回调函数，当urlretrieve函数执行完毕或者数据块下载完毕的时候会执行该函数以便用户可以打印下载的过程信息\n",
    "        * blocknum : 已经下载的数据块的数目\n",
    "        * readsize : １块数据块的大小\n",
    "        * totalsize : 总文件的大小\n",
    "    * data,post形式的发送的时候可以使用\n",
    "    * 该函数返回一个二元元组(a,b),a代表资源在本地存储的路径的名称，b表示的是响应的报头"
   ]
  },
  {
   "cell_type": "code",
   "execution_count": 10,
   "metadata": {
    "collapsed": false
   },
   "outputs": [
    {
     "name": "stdout",
     "output_type": "stream",
     "text": [
      "Something wrong!\n",
      "OK URLError\n"
     ]
    }
   ],
   "source": [
    "# 导入三个重要的库\n",
    "import urllib.request\n",
    "import urllib.error\n",
    "import urllib.parse\n",
    "\n",
    "# 异常处理\n",
    "\n",
    "try :\n",
    "    response = urllib.request.urlopen('http://python.org/fish.html')\n",
    "except urllib.error.URLError as e:\n",
    "    print('Something wrong!')\n",
    "    if hasattr(e , 'reason'):\n",
    "        print(e.reason , \"URLError\")\n",
    "    elif hasattr(e , 'code') :\n",
    "        print(e.code , 'HTTPError')"
   ]
  },
  {
   "cell_type": "code",
   "execution_count": null,
   "metadata": {
    "collapsed": false
   },
   "outputs": [],
   "source": [
    "# urlretrieve下载图片的示例\n",
    "# 代码建议放在终端跑，不要在这里运行，会卡\n",
    "\n",
    "def timecheck(blocknum , blocksize , totalsize):\n",
    "    # print(blocknum , blocksize , totalsize)\n",
    "    per = 100.0 * blocknum * blocksize / totalsize    #　计算下载量\n",
    "    if per >= 100 : per = 100\n",
    "    print('当前下载进度 %d / 100' % per )   # 回车打印进度\n",
    "    \n",
    "# filename , msg = urllib.request.urlretrieve('https://docs.python.org/2/archives/python-2.7.10-docs-pdf-a4.zip' ,'baidu' , reporthook=timecheck)\n",
    "# print(filename)\n",
    "# print(msg)"
   ]
  }
 ],
 "metadata": {
  "kernelspec": {
   "display_name": "Python 3",
   "language": "python",
   "name": "python3"
  },
  "language_info": {
   "codemirror_mode": {
    "name": "ipython",
    "version": 3
   },
   "file_extension": ".py",
   "mimetype": "text/x-python",
   "name": "python",
   "nbconvert_exporter": "python",
   "pygments_lexer": "ipython3",
   "version": "3.5.2"
  }
 },
 "nbformat": 4,
 "nbformat_minor": 2
}
