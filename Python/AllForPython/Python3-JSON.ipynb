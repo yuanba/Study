{
 "cells": [
  {
   "cell_type": "markdown",
   "metadata": {},
   "source": [
    "### JSON\n",
    "这里我们先开始记录关于抽取HTML的正文内容的JSON方法的记录，首先需要说明的是我们应该先将我们的目标网页爬下来然后利用JSON进行处理  \n",
    "\n",
    "** 什么是JSON **\n",
    "1. JSON是JS的对象表示法，常用来存储和交换信息文本，语法类同XML（但是转化比XML快，并且更容易解析）\n",
    "2. 轻量级**文本**交换格式，独立于语言，可以做我描述\n",
    "3. JSON利用了JS的语法秒数数据对象，但是独立于任何语言和平台 \n",
    "\n",
    "** JSON语法 **\n",
    "1. 数据存储在键值对中，**键只能是字符串，但是值可以是任何的JSON数据**\n",
    "2. 数据使用逗号分割\n",
    "3. 方括号保存数组，花括号保存对象  \n",
    "\n",
    "** JSON的值 **\n",
    "1. number数值\n",
    "2. 字符串\n",
    "3. 逻辑值\n",
    "4. 数组\n",
    "5. 对象\n",
    "6. null\n",
    "\n",
    "** 误区 **\n",
    "1. 数组可以单独构成JSON\n",
    "2. 按照网上的资料的说法，只要不是function，其他的数据都可以理解为是JSON"
   ]
  },
  {
   "cell_type": "markdown",
   "metadata": {
    "collapsed": false
   },
   "source": [
    "### JSON - Module\n",
    "Python3对JSON文件的操作主要分为编码和解码两类\n",
    "\n",
    "** 编码 **  \n",
    "编码的意思就是把python对象转化成JSON对象的过程\n",
    "* dumps :　转化ｐｙｔｈｏｎ对象到ＪＳＯＮ对象生成字符串\n",
    "* dump  :　转化ｐｙｔｈｏｎ对象带ＪＳＯＮ对象并写入文件中,dump就比dumps多了一个文件对象参数(第二个参数)\n",
    "* 常用参数\n",
    "    * skipkeys : 有些python的对象（键，ＪＳＯＮ的键只能是字符串）是不能转化成ＪＳＯＮ数据的，这时候我们面临的选择就是是否过滤掉这些字典的键\n",
    "    * ensure_ascii : 如果我们的数据中存在不属于ASCII的数据，会表现成\\uXXXX的错误，我们将该参数置为False就可以修改这样的错误，建议保留写入\n",
    "    * indent : 非0的话，会格式化的排版出来JSON"
   ]
  },
  {
   "cell_type": "code",
   "execution_count": 52,
   "metadata": {
    "collapsed": false
   },
   "outputs": [
    {
     "name": "stdout",
     "output_type": "stream",
     "text": [
      "1.1 {}\n",
      "2.1 {\"\\u5170\\u5929\": \"lantian\"}\n",
      "2.2 {\"兰天\": \"lantian\"}\n",
      "3.1\n",
      "[\n",
      "    \"lantian\",\n",
      "    1,\n",
      "    true,\n",
      "    {\n",
      "        \"name\": \"lantian\",\n",
      "        \"age\": 21\n",
      "    }\n",
      "]\n",
      "3.2 [\"lantian\", 1, true, {\"name\": \"lantian\", \"age\": 21}]\n",
      "4.1 1 <class 'str'>\n"
     ]
    }
   ],
   "source": [
    "import json\n",
    "\n",
    "# skipkeys : 选择过滤掉对JSON错误的键\n",
    "\n",
    "answer = tuple()\n",
    "dic = {answer : 'lantian'}\n",
    "res = json.dumps(dic , skipkeys=True)\n",
    "print('1.1 ' + res)\n",
    "\n",
    "# ensure_ascii : 修正非ASCII字符的显示\n",
    "\n",
    "dic = {'兰天':'lantian'}\n",
    "res = json.dumps(dic)\n",
    "print('2.1 ' + res)\n",
    "res1 = json.dumps(dic , ensure_ascii=False)\n",
    "print('2.2 ' + res1)\n",
    "\n",
    "# indent :　格式化排版JSON,indent表示前面的缩进次数\n",
    "\n",
    "dic = ['lantian' , 1 , True , {'name' : 'lantian' , 'age' : 21}]\n",
    "res = json.dumps(dic , indent = 4)\n",
    "print('3.1\\n'+ res)\n",
    "res = json.dumps(dic)\n",
    "print('3.2 '+ res)\n",
    "\n",
    "# dic = 1\n",
    "dic = 1\n",
    "res = json.dumps(dic)\n",
    "print('4.1 ' + res , type(res))    #　任何非function的ＪＳ数据都可以看作是JSON"
   ]
  },
  {
   "cell_type": "markdown",
   "metadata": {},
   "source": [
    "** 解码 **  \n",
    "相对的解码就是将JSON对象转变成ｐｙｈｏｎ对象的过程，常使用两个函数load , loads,其中第一个函数多了文件读写的功能  \n",
    "\n",
    "** 转化规则 **  \n",
    "1. Python -> JSON\n",
    "dict -> Object\n",
    "list/tuple -> array\n",
    "str/unicode -> string\n",
    "int/long/float -> number\n",
    "True/False -> true/false\n",
    "None -> null\n",
    "\n",
    "2.JSON -> Python\n",
    "Object -> dict\n",
    "array -> list\n",
    "string -> unicode\n",
    "number -> int/long/float\n",
    "true/false -> True/False\n",
    "numm -> None\n",
    "\n",
    "P.S. 从上面的转化关系来看，对于数组来说，ｐｙｔｈｏｎ的接受对象只有ｌｉｓｔ，ｔｕｐｌｅ已经归属到ｌｉｓｔ下了"
   ]
  },
  {
   "cell_type": "code",
   "execution_count": 58,
   "metadata": {
    "collapsed": false
   },
   "outputs": [],
   "source": [
    "# requests先爬网页\n",
    "import requests\n",
    "user_agent = 'Mozilla/4.0 (compatible; MSIE 5.5; Windows NT)'\n",
    "headers = {'User-Agetn':user_agent}\n",
    "r = requests.get(\"http://seputu.com\",headers = headers)\n",
    "#print(r.text)\n",
    "\n",
    "# bs4解析获取节点,并收集数据\n",
    "from bs4 import BeautifulSoup\n",
    "import lxml\n",
    "soup = BeautifulSoup(r.text , 'lxml' , from_encoding = \"utf8\")\n",
    "\n",
    "content = []\n",
    "\n",
    "for mulu in soup.find_all(class_ = 'mulu'):\n",
    "    h2 = mulu.find('h2')\n",
    "    if h2 == None : continue\n",
    "    h2_title = h2.string\n",
    "    list = []\n",
    "    for a in mulu.find(class_ = 'box').find_all(name = 'a'):\n",
    "        href = a.get('href')\n",
    "        box_title = a.get('title')\n",
    "        list.append({'href':href , 'box_title':box_title})\n",
    "    content.append({'title':h2_title , 'content':list})\n",
    "\n",
    "# 完全可以存储在文件里，在这里我只是为了展示效果所以采用dumps函数\n",
    "\n",
    "res = json.dumps(content , indent = 4 , ensure_ascii=False)\n",
    "# print(res)\n",
    "\n",
    "with open('daomubiji.json' , 'w' , encoding = 'utf8') as f:    # 制定ｕｔｆ８编码格式\n",
    "    f.write(res)"
   ]
  }
 ],
 "metadata": {
  "kernelspec": {
   "display_name": "Python 3",
   "language": "python",
   "name": "python3"
  },
  "language_info": {
   "codemirror_mode": {
    "name": "ipython",
    "version": 3
   },
   "file_extension": ".py",
   "mimetype": "text/x-python",
   "name": "python",
   "nbconvert_exporter": "python",
   "pygments_lexer": "ipython3",
   "version": "3.5.2"
  }
 },
 "nbformat": 4,
 "nbformat_minor": 2
}
