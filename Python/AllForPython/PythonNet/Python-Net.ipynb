{
 "cells": [
  {
   "cell_type": "markdown",
   "metadata": {},
   "source": [
    "### 浅析网络编程\n",
    "\n",
    "#### 1.socket模块\n",
    "socket模块帮助我们打开一个网络的套接字（主机+端口）并实现通讯\n",
    "\n",
    "构建服务器端：\n",
    "* socket.bind() - 参数是本主机的ip地址和相应要监听的端口的元组\n",
    "* socket.listen() - 参数是同事的最大挂起的连接的数目，5即可\n",
    "* socket.accept() - 表示建立连接，返回一个元组，元组的第一个参数是客户端的套接字，第二个参数是对应的上述的的地址元组\n",
    "* conn.send() - 返回接收的客户端的套接字向客户传送数据，要二进制转码\n",
    "* conn.close() - 关闭客户的套接字\n",
    "* gethostname() - 获取主机的ip地址\n",
    "* gethostbyname() - 根据域名获取ip地址\n",
    "\n",
    "构建客户端：\n",
    "* socket(AF_INET,SOCK_STREAM) - 构建一个标准套接字，普通标准套接字可以省略参数\n",
    "* socket.send() - 返送二进制字符信息\n",
    "* socket.recv() - 参数是接受的信息的字节数，返回一个二进制字符串，表示接收的信息\n",
    "* gethostname()\n",
    "* gethostbyname()\n",
    "* connect() - 参数是一个元组，第一个是ip地址，第二个是端口号"
   ]
  },
  {
   "cell_type": "code",
   "execution_count": 2,
   "metadata": {
    "collapsed": false
   },
   "outputs": [
    {
     "name": "stdout",
     "output_type": "stream",
     "text": [
      "HTTP/1.1 200 OK\r\n",
      "Server: Tengine\r\n",
      "Connection: keep-alive\r\n",
      "Date: Fri, 28 Apr 2017 11:25:08 GMT\r\n",
      "Content-Type: text/html;charset=UTF-8\r\n",
      "Transfer-Encoding: chunked\r\n",
      "Keep-Alive: timeout=20\r\n",
      "Vary: Accept-Encoding\r\n",
      "Set-Cookie: _user_behavior_=292a0e50-1ff6-4081-a722-fac48b406e77; Domain=.oschina.net; Expires=Sat, 28-Apr-2018 11:25:09 GMT; Path=/; HttpOnly\r\n",
      "X-NWS-LOG-UUID: c10e8999-8e2f-4838-b1b2-ed4980218e38\r\n",
      "\r\n",
      "\n"
     ]
    }
   ],
   "source": [
    "from socket import *\n",
    "s = socket()\n",
    "s.connect(('www.oschina.net' , 80))\n",
    "\n",
    "s.send('GET / HTTP/1.1\\r\\nHost:www.oschina.net\\r\\n\\r\\n'.encode())\n",
    "print(s.recv(1024).decode())"
   ]
  },
  {
   "cell_type": "markdown",
   "metadata": {},
   "source": [
    "#### urllib , urllib2模块"
   ]
  }
 ],
 "metadata": {
  "kernelspec": {
   "display_name": "Python 3",
   "language": "python",
   "name": "python3"
  },
  "language_info": {
   "codemirror_mode": {
    "name": "ipython",
    "version": 3
   },
   "file_extension": ".py",
   "mimetype": "text/x-python",
   "name": "python",
   "nbconvert_exporter": "python",
   "pygments_lexer": "ipython3",
   "version": "3.5.2"
  }
 },
 "nbformat": 4,
 "nbformat_minor": 2
}
