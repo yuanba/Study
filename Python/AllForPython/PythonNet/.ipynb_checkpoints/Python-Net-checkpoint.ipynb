{
 "cells": [
  {
   "cell_type": "markdown",
   "metadata": {},
   "source": [
    "### 浅析网络编程\n",
    "\n",
    "计算机网络是将计算机连接到一起，让网络中的计算机可以通信。实际上在网络编程中，与其说是机器之间的通信不如说是进程之间的通信　　\n",
    "提到网络编程，我们就不得不提到一个概念叫做套接字socket，socket是网络中的一个抽象概念，我们通常用打开一个套接字表示打开一个网络联机而我们想要打开对应的套接字就需要知道对应的对方的IP地址和端口号(进程的地址)\n",
    "\n",
    "Socket是网络编程的一个抽象概念。通常我们用一个Socket表示“打开了一个网络链接”，而打开一个Socket需要知道目标计算机的IP地址和端口号，再指定协议类型即可。\n",
    "\n",
    "一个Socket依赖4项：服务器地址、服务器端口、客户端地址、客户端端口来唯一确定一个Socket。\n",
    "TCP是建立可靠连接，并且通信双方都可以以流的形式发送数据。相对TCP，UDP则是面向无连接的协议。\n",
    "使用UDP协议时，不需要建立连接，只需要知道对方的**IP地址和端口号**，就可以直接发数据包。但是，能不能到达就不知道了。\n",
    "虽然用UDP传输数据不可靠，但它的优点是和TCP比，速度快，对于不要求可靠到达的数据，就可以使用UDP协议。\n",
    "我们来看看如何通过UDP协议传输数据。和TCP类似，使用UDP的通信双方也分为客户端和服务器。服务器首先需要绑定端口：\n",
    "\n",
    "127.0.0.1是一个特殊的IP地址，表示本机地址，如果绑定到这个地址，客户端必须同时在本机运行才能连接，也就是说，外部的计算机无法连接进来。\n",
    "\n",
    "#### 1.socket模块\n",
    "socket模块帮助我们打开一个网络的套接字（主机+端口）并实现通讯\n",
    "\n",
    "构建服务器端：\n",
    "* socket.bind() - 参数是本主机的ip地址和相应要监听的端口的元组\n",
    "* socket.listen() - 参数是同事的最大挂起的连接的数目，5即可\n",
    "* socket.accept() - 表示建立连接，返回一个元组，元组的第一个参数是客户端的套接字，第二个参数是对应的上述的的地址元组\n",
    "* conn.send() - 返回接收的客户端的套接字向客户传送数据，要二进制转码\n",
    "* conn.close() - 关闭客户的套接字\n",
    "* gethostname() - 获取主机的ip地址\n",
    "* gethostbyname() - 根据域名获取ip地址\n",
    "\n",
    "构建客户端：\n",
    "* socket(AF_INET,SOCK_STREAM) - 构建一个标准套接字，普通标准套接字可以省略参数\n",
    "* socket.send() - 返送二进制字符信息\n",
    "* socket.recv() - 参数是接受的信息的字节数，返回一个二进制字符串，表示接收的信息\n",
    "* gethostname()\n",
    "* gethostbyname()\n",
    "* connect() - 参数是一个元组，第一个是ip地址，第二个是端口号\n",
    "\n",
    "UDP : socket.recvfrom(size) - return addr / socket.sendto(b'data'  , addr)"
   ]
  },
  {
   "cell_type": "code",
   "execution_count": 5,
   "metadata": {
    "collapsed": false
   },
   "outputs": [],
   "source": [
    "# TCP - Client\n",
    "from socket import *\n",
    "s = socket()\n",
    "s.connect(('www.sina.com.cn' , 80))\n",
    "\n",
    "s.send(b'GET / HTTP/1.1\\r\\nHost: www.sina.com.cn\\r\\nConnection: close\\r\\n\\r\\n')\n",
    "\n",
    "buffer = []\n",
    "while True:\n",
    "    data = s.recv(1024)\n",
    "    if not data : break\n",
    "    else : buffer.append(data)\n",
    "data = b''.join(buffer)\n",
    "s.close()\n",
    "\n",
    "with open(\"/home/lantian/sina.html\" , 'wb') as f:\n",
    "    header , data = data.split(b'\\r\\n' , 1)\n",
    "    f.write(data)"
   ]
  },
  {
   "cell_type": "code",
   "execution_count": null,
   "metadata": {
    "collapsed": false
   },
   "outputs": [],
   "source": [
    "# TCP - Server\n",
    "import socket\n",
    "import threading\n",
    "import time\n",
    "def connectclient(s , addr):\n",
    "    print(\"Get a new connection from %s:%s \" % addr)\n",
    "    sock.send(b\"Hello , I am the server.\")\n",
    "    while True:\n",
    "        data = sock.recv(1024)\n",
    "        time.sleep(1)\n",
    "        if not data or data.decode('utf8') == 'exit' : break\n",
    "        print(\"%s\" % data.decode('utf8'))\n",
    "        sock.send(b\">>> 1\")\n",
    "    sock.close()\n",
    "    print(\"connection to %s:%s is closed!\" % addr)\n",
    "    \n",
    "if __name__ == \"__main__\":\n",
    "    s = socket.socket(socket.AF_INET , socket.SOCK_STREAM)\n",
    "    s.bind(('127.0.0.1' , 1234))\n",
    "    s.listen(5)\n",
    "    print(\"Waiting for the client...\")\n",
    "    while True:\n",
    "        sock , addr = s.accept()\n",
    "        t = threading.Thread(target = connectclient , name = 'subprocessing' , args = (s , addr))\n",
    "        t.start()"
   ]
  },
  {
   "cell_type": "code",
   "execution_count": null,
   "metadata": {
    "collapsed": true
   },
   "outputs": [],
   "source": [
    "# TCP - Client\n",
    "import socket\n",
    "\n",
    "s = socket.socket(socket.AF_INET,socket.SOCK_STREAM)\n",
    "s.connect(('127.0.0.1' , 1234))\n",
    "\n",
    "print(\"-->\" + s.recv(1024).decode('utf8'))\n",
    "s.send(b\"I am Client!\")\n",
    "print(\"-->\" + s.recv(1024).decode('utf8'))\n",
    "s.send(b'exit')\n",
    "s.close()"
   ]
  },
  {
   "cell_type": "markdown",
   "metadata": {},
   "source": [
    "#### urllib , urllib2模块"
   ]
  }
 ],
 "metadata": {
  "kernelspec": {
   "display_name": "Python 3",
   "language": "python",
   "name": "python3"
  },
  "language_info": {
   "codemirror_mode": {
    "name": "ipython",
    "version": 3
   },
   "file_extension": ".py",
   "mimetype": "text/x-python",
   "name": "python",
   "nbconvert_exporter": "python",
   "pygments_lexer": "ipython3",
   "version": "3.5.2"
  }
 },
 "nbformat": 4,
 "nbformat_minor": 2
}
