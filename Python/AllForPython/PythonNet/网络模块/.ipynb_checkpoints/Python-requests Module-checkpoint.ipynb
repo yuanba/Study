{
 "cells": [
  {
   "cell_type": "markdown",
   "metadata": {},
   "source": [
    "### requests\n",
    "requests是python相对于urllib等更加人性化和方便的HTTP请求库，封装了很多的功能   \n",
    "\n",
    "1. 请求响应模型"
   ]
  },
  {
   "cell_type": "code",
   "execution_count": 8,
   "metadata": {
    "collapsed": false
   },
   "outputs": [
    {
     "name": "stdout",
     "output_type": "stream",
     "text": [
      "<!DOCTYPE html>\r\n",
      "<!--STATUS OK--><html> <head><meta http-equiv=content-type content=text/html;charset=utf-8><meta http-equiv=X-UA-Compatible content=IE=Edge><meta content=always name=referrer><link rel=stylesheet type=text/css href=http://s1.bdstatic.com/r/www/cache/bdorz/baidu.min.css><title>百度一下，你就知道</title></head> <body link=#0000cc> <div id=wrapper> <div id=head> <div class=head_wrapper> <div class=s_form> <div class=s_form_wrapper> <div id=lg> <img hidefocus=true src=//www.baidu.com/img/bd_logo1.png width=270 height=129> </div> <form id=form name=f action=//www.baidu.com/s class=fm> <input type=hidden name=bdorz_come value=1> <input type=hidden name=ie value=utf-8> <input type=hidden name=f value=8> <input type=hidden name=rsv_bp value=1> <input type=hidden name=rsv_idx value=1> <input type=hidden name=tn value=baidu><span class=\"bg s_ipt_wr\"><input id=kw name=wd class=s_ipt value maxlength=255 autocomplete=off autofocus></span><span class=\"bg s_btn_wr\"><input type=submit id=su value=百度一下 class=\"bg s_btn\"></span> </form> </div> </div> <div id=u1> <a href=http://news.baidu.com name=tj_trnews class=mnav>新闻</a> <a href=http://www.hao123.com name=tj_trhao123 class=mnav>hao123</a> <a href=http://map.baidu.com name=tj_trmap class=mnav>地图</a> <a href=http://v.baidu.com name=tj_trvideo class=mnav>视频</a> <a href=http://tieba.baidu.com name=tj_trtieba class=mnav>贴吧</a> <noscript> <a href=http://www.baidu.com/bdorz/login.gif?login&amp;tpl=mn&amp;u=http%3A%2F%2Fwww.baidu.com%2f%3fbdorz_come%3d1 name=tj_login class=lb>登录</a> </noscript> <script>document.write('<a href=\"http://www.baidu.com/bdorz/login.gif?login&tpl=mn&u='+ encodeURIComponent(window.location.href+ (window.location.search === \"\" ? \"?\" : \"&\")+ \"bdorz_come=1\")+ '\" name=\"tj_login\" class=\"lb\">登录</a>');</script> <a href=//www.baidu.com/more/ name=tj_briicon class=bri style=\"display: block;\">更多产品</a> </div> </div> </div> <div id=ftCon> <div id=ftConw> <p id=lh> <a href=http://home.baidu.com>关于百度</a> <a href=http://ir.baidu.com>About Baidu</a> </p> <p id=cp>&copy;2017&nbsp;Baidu&nbsp;<a href=http://www.baidu.com/duty/>使用百度前必读</a>&nbsp; <a href=http://jianyi.baidu.com/ class=cp-feedback>意见反馈</a>&nbsp;京ICP证030173号&nbsp; <img src=//www.baidu.com/img/gs.gif> </p> </div> </div> </div> </body> </html>\r\n",
      "\n"
     ]
    }
   ],
   "source": [
    "import requests\n",
    "import chardet    # chardet模块的detect()可以对二进制数据检测可能的编码方式，返回一个二元字典，｛‘confidence’:0.99 , 'encoding':..｝\n",
    "                  # 分别表示检测精度和检测结果\n",
    "ans = requests.get('http://www.baidu.com')\n",
    "#print(ans.content)    #　字节形式的返回结果\n",
    "#print(ans.text)       #  文本形式返回结果,如果encoding解析错误会出现乱码\n",
    "ans.encoding = chardet.detect(ans.content)['encoding']\n",
    "print(ans.text)        #　经过上述的正确解析可以显示中文"
   ]
  },
  {
   "cell_type": "markdown",
   "metadata": {},
   "source": [
    "2. 常用的请求模型\n",
    "    * r = requests.post()\n",
    "    * r = requests.get()\n",
    "    * r = requests.options()\n",
    "    * r = requests.delete()\n",
    "    * r = requests.head()\n",
    "    * r.raise_for_status():\n",
    "        4xx , 5xx抛出异常，200返回None\n",
    "3. 常用的属性\n",
    "    * r.url\n",
    "        响应的文档的url地址\n",
    "    * r.content\n",
    "        收到的响应的文档主体的二进制文件\n",
    "    * r.text\n",
    "        收到的文档的响应主体按照默认的编码猜测得到的文本形式文档\n",
    "    * r.encoding\n",
    "        因为上述的猜测可能错误，我们这里的encoding可以修改就是为了处理编码问题的，在这里我们可配合ｃｈａｒｄｅｔ模块进行网页的编码测试\n",
    "        然后将ｃｈａｒｄｅｔ返回额＝的ｅｎｃｏｄｉｎｇ参数赋值给这里的ｅｎｃｏｄｉｎｇ参数\n",
    "    * r.raw.\n",
    "        因为我们可以设置获取的方式不是一次性全部获取，我们可以将stream参数设置成True，我们这是就需要r.raw.read(size)\n",
    "        获取我们的想要的对应大小的文档了\n",
    "    * r.status_code\n",
    "        响应的状态码\n",
    "    * r.headers\n",
    "        相应的信息头\n",
    "    * r.history\n",
    "        因为允许重定向，我们在ｈiｓｔｏｒｙ信息里面可以查看我们的跳转的记录\n",
    "    * r.cookies\n",
    "        不是字典，但是集合了我们的ｃｏｏｋｉｅｓ里的数据，我们可以使用\n",
    "        r.cookies.keys() + r.cookie.get()  的方式在ｆｏｒ里迭代cookies获取相应的ｃｏｏｋｉｅｓ数据\n",
    "4. 常用的参数，这里使用get举例\n",
    "    * data = {} : data字典上传我们的post请求的上传数据\n",
    "    * params = {} : params字典包含我们的上传的网址参数\n",
    "    * stream = True / False : 这里制定我们的读取是不是流读取\n",
    "    * headers = {} : headers字典制定我们的发送的请求报头信息\n",
    "    * cookies = {} : 自定义ｃｏｏｋｉｅｓ上传\n",
    "    * allow_redirects = True / False : 是否允许重定向\n",
    "    * timeout : 设定超时的限制\n",
    "    * proxies = {} : 字典设置代理\n",
    "5. 机制  \n",
    "   我们每次上网的时候，程序大多时候都是自动的吧cookie携带上发送，在requests中引入了session的会话概念,首先我们都需要首先对目的网站进行访问，之后服务器会给我们配送一个cookie，我们在会话的时候会在下次的get,或者操作的时候自动的携带上这个cookie"
   ]
  }
 ],
 "metadata": {
  "kernelspec": {
   "display_name": "Python 3",
   "language": "python",
   "name": "python3"
  },
  "language_info": {
   "codemirror_mode": {
    "name": "ipython",
    "version": 3
   },
   "file_extension": ".py",
   "mimetype": "text/x-python",
   "name": "python",
   "nbconvert_exporter": "python",
   "pygments_lexer": "ipython3",
   "version": "3.5.2"
  }
 },
 "nbformat": 4,
 "nbformat_minor": 2
}
