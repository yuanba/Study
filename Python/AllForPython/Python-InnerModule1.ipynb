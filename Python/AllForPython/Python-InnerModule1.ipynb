{
 "cells": [
  {
   "cell_type": "markdown",
   "metadata": {},
   "source": [
    "# Python-Chart10-InnerModule\n",
    "ｐｙｔｈｏｎ强大额生命力的一个重要的体现就是我们的ｐｙｔｈｏｎ内嵌有非常强大的第三方模块  \n",
    "首先我们需要明确我们的所有的ｐｙｔｈｏｎ的ｐｙ代码都可以作为我们的第三方库进行导入，只不过我们需要的仅仅是我们的路径查找的方式罢了 "
   ]
  },
  {
   "cell_type": "markdown",
   "metadata": {},
   "source": [
    "## 1.路径动态查找 \n",
    "假设我们现在在主目录下创建了一个py文件我们需要导入这个文件，但是如果我们的该py文件不在我们的sys.path中，py解释器是没有办法查找到我们的对应的模块的，这时候我们可以利用的就是sys.path.append()动态加入的方法,因为我们的sys.path变量其实是一个列表，我们的额py解释器会在我们进行导入操作的时候自动的在这个表中进行查找  \n",
    "但是我们仍需要注意，在linux或者unix系统中我们在sys.path.append操作中必须从home开始将目录完全的补全才行  \n",
    "动态的一个缺点就是我们需要知道，我们的一次加载之后，下一次这个家在之后的路径会消失，也就是说这个路径的添加只是暂时的  \n",
    "## 2.模块可用原则：  \n",
    "我们需要知道一点，我们的模块如果是被当做主程序进行运行的时候，会给我们的程序中附加一个属性成员__name__，这个属性成员在主函数的时候值是‘__main__’字符串，在这里我们可以定义我们的一些代码只有在该模块是主入口的时候执行，将我们的代码的功能打包成函数可以轻松实现该py文件的可导入性和可执行性  \n",
    "## 3.让我们的自己的模块可用：  \n",
    "让我们的自己的模块或者我们从别人哪里的到的模块可用的方法有很多，第一种的动态的方法我们之前已经见识过了  \n",
    "### 1.放置模块：\n",
    "理论上，我们只要将我们的py模块放置在任何一个的sys.path路径下面的一个目录中就可以实现，但是我们通常都是将其添加在我们的dist-packages目录下面\n",
    "### 2.PYTHONPATH环境变量\n",
    "1..bashrc文件中我们增加一行配置名字叫做export PYTHONPATH=$PYTHONPATH:[目标目录]  \n",
    "2.pth文件"
   ]
  },
  {
   "cell_type": "markdown",
   "metadata": {},
   "source": [
    "## 4.包：\n"
   ]
  },
  {
   "cell_type": "markdown",
   "metadata": {},
   "source": [
    "我们可以将包理解为是一种更抽象的模块，在这里我们将有相关功能的模块打包在一起从而构成一个可以实现相应功能的一个库  \n",
    "首先，我们需要知道，定义一个包的标准就是是否存在__init__.py文件，如果存在，我们认为这个目录就可以称之为是一个包  \n",
    "不仅是包，为了让我们可以快速的理解一个包的功能，我们需要去学会阅读源代码和接口  \n",
    "\n",
    "1.import module  \n",
    "2.dir罗列出该模块的所有的函数和类以及变量  \n",
    "3.__all__变量：__all__是一个列表，其中包含着我们的额模块中的公有接口，告诉了我们通过***import**可以导入的功能的内容  \n",
    "4.help  \n",
    "5.文档__doc__  \n",
    "6.模块的__file__属性存储了我们的模块的存放的位置，可以允许我们查阅源代码并修改  "
   ]
  },
  {
   "cell_type": "markdown",
   "metadata": {},
   "source": [
    "## 5.标准库"
   ]
  },
  {
   "cell_type": "markdown",
   "metadata": {},
   "source": [
    "### 1.sys\n",
    "sys模块可以帮助我们查找与python解释器有关的变量或者函数\n",
    "\n",
    "|  function         |  description                        |\n",
    "|  ---------------  |  ---------------------------------- |\n",
    "|  argv             |  命令行参数                          |\n",
    "|  exit(argv)       |  退出程序，可选参数表示返回值或者错误信息 |\n",
    "|  path             |  查找模块的搜索路径                    |\n",
    "\n",
    "以上是常用的sys模块的函数成员"
   ]
  },
  {
   "cell_type": "code",
   "execution_count": 5,
   "metadata": {
    "collapsed": false
   },
   "outputs": [
    {
     "name": "stdout",
     "output_type": "stream",
     "text": [
      "['/home/lantian/anaconda2/lib/python2.7/site-packages/ipykernel/__main__.py', '-f', '/run/user/1000/jupyter/kernel-d144c577-f059-417a-988f-2eaf8be29a1f.json']\n"
     ]
    }
   ],
   "source": [
    "import sys\n",
    "print sys.argv[:]\n",
    "#我们需要清楚，argv的第一个列表成员是执行该程序的py脚本的名称，之后的都是剩下的命令行参数"
   ]
  },
  {
   "cell_type": "code",
   "execution_count": 7,
   "metadata": {
    "collapsed": false
   },
   "outputs": [
    {
     "ename": "SystemExit",
     "evalue": "Somthing is wrong here!",
     "output_type": "error",
     "traceback": [
      "An exception has occurred, use %tb to see the full traceback.\n",
      "\u001b[0;31mSystemExit\u001b[0m\u001b[0;31m:\u001b[0m Somthing is wrong here!\n"
     ]
    }
   ],
   "source": [
    "import sys\n",
    "sys.exit(\"Somthing is wrong here!\")\n",
    "#exit函数帮助退出我们的py程序，并且允许我们为不正常的退出返还一个警告信息但是在异常处理的额时候，我们需要知道就算exit执行成功，我们还是需要等到finally自居执行完才可以退出"
   ]
  },
  {
   "cell_type": "code",
   "execution_count": 10,
   "metadata": {
    "collapsed": false
   },
   "outputs": [
    {
     "name": "stdout",
     "output_type": "stream",
     "text": [
      "0\n",
      "1\n",
      "2\n",
      "3\n",
      "4\n",
      "5\n",
      "6\n",
      "7\n",
      "8\n",
      "9\n"
     ]
    }
   ],
   "source": [
    "#检查finally自居是否在退出钱被执行\n",
    "import sys\n",
    "try:\n",
    "    sys.exit(\"Test to look the finally coding!\")\n",
    "except:\n",
    "    pass\n",
    "finally:\n",
    "    for i in range(10):\n",
    "        print i"
   ]
  },
  {
   "cell_type": "code",
   "execution_count": 12,
   "metadata": {
    "collapsed": false
   },
   "outputs": [
    {
     "name": "stdout",
     "output_type": "stream",
     "text": [
      "Lantian!"
     ]
    }
   ],
   "source": [
    "import sys\n",
    "sys.stdout.write(\"Lantian!\")\n",
    "#该stdout函数的输出相当于一个没有自动换行的print函数"
   ]
  },
  {
   "cell_type": "markdown",
   "metadata": {},
   "source": [
    "### 2.os模块\n",
    "os模块为我们提供了访问操作系统的功能  \n",
    "\n",
    "| function | 描述 |\n",
    "| -------- | ---- |\n",
    "| urandom(n) | 返回一个强加密随机数据 |\n",
    "| system(\"cmd\") | 在shell中执行操作系统的命令，类似ipython的！ |\n",
    "| environ['环境变量'] | 查找对应的环境变量 |"
   ]
  },
  {
   "cell_type": "code",
   "execution_count": 23,
   "metadata": {
    "collapsed": false
   },
   "outputs": [
    {
     "name": "stdout",
     "output_type": "stream",
     "text": [
      "0\n"
     ]
    }
   ],
   "source": [
    "import os\n",
    "print os.system(\"ls /\")\n",
    "#print os.urandom(10)   #10字节的随机加密数据\n",
    "#print os.environ\n",
    "\n",
    "#import webbrowser\n",
    "#webbrowser.open(\"http://www.baidu.com\")"
   ]
  },
  {
   "cell_type": "markdown",
   "metadata": {},
   "source": [
    "### 3.fileinput模块 - 轻量级文本读写模块\n",
    "\n",
    "| function | desctription |\n",
    "| -------- | ------------ |\n",
    "| input() | input([file1,file2....] , inplace=True) |\n",
    "| filename() | 返回正在处理的文件名 |\n",
    "| lineno() | 返回处理的行数，该行数在处理完前一个文件之后不会重置 |\n",
    "| filelineno() | 和上面一样，但是一个文件结束会重置 |\n",
    "| isfirstline() | 是首行 |\n",
    "| isstdin() | 是标准输入 |\n",
    "| nextfile() | 关闭当前文件处理下一个文件 |\n",
    "| close() | 关闭文件 |\n",
    "\n",
    "input函数：第一个参数是列表表示，我们要打开的文件的序列名(列表或者元组都可以），inplace代表原地处理，就是说，我们将标准输出的结果写会文件，默认是不写False，如果没有制定代开文件的话，表示我们代开的是当前的py脚本\n"
   ]
  },
  {
   "cell_type": "code",
   "execution_count": 27,
   "metadata": {
    "collapsed": false
   },
   "outputs": [],
   "source": [
    "    #制定的文件添加行号,这里默认是给该脚本添加行号，请赋值到文件中运行\n",
    "    import fileinput as t\n",
    "    import sys\n",
    "\n",
    "    for i in t.input(sys.argv[0],inplace=True):\n",
    "        line = i.strip()\n",
    "        num = t.filelineno()\n",
    "        line = line + ' '*10 + str(num)\n",
    "        print line\n",
    "    t.close()"
   ]
  },
  {
   "cell_type": "markdown",
   "metadata": {},
   "source": [
    "### 3.集合，堆，双端队列\n",
    "\n",
    "1.集合:  \n",
    "* set顺序随意,相同元素值保留一份,生成集合  \n",
    "* | - 与  \n",
    "* & - 交  \n",
    "* <= / >= - 子集判断\n",
    "* -过滤（减）\n",
    "* ^ - 对称差\n",
    "* add,remove,copy,update - 方法\n",
    "* frozenset() - 因为我们的集合都是可变的，为了让我们的集合可以作为一个字典的键，并且因为集合只能包含不可变元素但是我们的集合的集合很常见，为了避免这样的问题，引入frozenset()表示不可变集合，该函数可以创建一个集合的不可变副本或者直接生成不可变集合"
   ]
  },
  {
   "cell_type": "code",
   "execution_count": 39,
   "metadata": {
    "collapsed": false
   },
   "outputs": [
    {
     "name": "stdout",
     "output_type": "stream",
     "text": [
      "set([0, 1, 2, 3, 4, 5, 6, 7, 8, 9]) set([5, 6, 7, 8, 9, 10, 11, 12, 13, 14])\n",
      "set([0, 1, 2, 3, 4, 5, 6, 7, 8, 9, 10, 11, 12, 13, 14])\n",
      "set([8, 9, 5, 6, 7])\n",
      "True True False\n",
      "set([10, 11, 12, 13, 14])\n",
      "set([0, 1, 2, 3, 4, 10, 11, 12, 13, 14])\n",
      "set([0, 1, 2, 3, 4, 5, 6, 7, 8, 9, 100]) set([5, 6, 7, 8, 9, 11, 12, 13, 14])\n",
      "<type 'frozenset'> frozenset([0, 1, 2, 3, 4, 5, 6, 7, 8, 9, 10, 11, 12, 13, 14, 15, 16, 17, 18, 19])\n",
      "set([0, 1, 2, 3, 4, 5, 6, 7, 8, 9, 100, frozenset([0, 1, 2, 3, 4, 5, 6, 7, 8, 9, 10, 11, 12, 13, 14, 15, 16, 17, 18, 19])])\n",
      "set([0, 1, 2, 3, 4, 5, 6, 7, 8, 9, 100, frozenset([0, 1, 2, 3, 4, 5, 6, 7, 8, 9, 10, 11, 12, 13, 14, 15, 16, 17, 18, 19])])\n"
     ]
    }
   ],
   "source": [
    "a = set(range(10))\n",
    "b = set(range(5,15))\n",
    "print a,b\n",
    "c = a | b\n",
    "print c\n",
    "c = a & b\n",
    "print c\n",
    "print c <= a , c <= b , c >= a\n",
    "print b - a\n",
    "print b ^ a\n",
    "a.add(100) , b.remove(10)\n",
    "print a,b\n",
    "c = frozenset(range(20))\n",
    "print type(c) , c\n",
    "a.add(c)\n",
    "print a\n",
    "c = a.copy()\n",
    "print c\n",
    "#a.add(set([1]))"
   ]
  },
  {
   "cell_type": "markdown",
   "metadata": {},
   "source": [
    "2.堆  \n",
    "优先队列的一种实现方式，建堆的时间复杂度是O(n),堆调整的时间复杂度是O（nlogn）  \n",
    "* heappush(heap,x)将x入堆，此方法建堆我们需要注意要从空序列开始，否则我们需要用heapify将对初始化  \n",
    "* heappop(heap)将堆顶弹出  \n",
    "* heapify(heap)将序列堆化  \n",
    "* heapreplace(heap,x)将序列的堆顶弹出并将x入堆  \n",
    "\n",
    "很有用的求Top-K问题的解决思路，列表返回  \n",
    "* nlargest(n,iter)返回序列中前n大元素  \n",
    "* nsmallest(n,iter)返回序列中前n小元素  "
   ]
  },
  {
   "cell_type": "code",
   "execution_count": 51,
   "metadata": {
    "collapsed": false
   },
   "outputs": [
    {
     "name": "stdout",
     "output_type": "stream",
     "text": [
      "[2, 3, 21, 4, 4342, 3534, 435, 6, 5]\n",
      "[-1, 2, 21, 4, 3, 3534, 435, 6, 5, 4342]\n",
      "-1 [2, 3, 21, 4, 4342, 3534, 435, 6, 5]\n",
      "[-1, 3, 21, 4, 4342, 3534, 435, 6, 5]\n",
      "[4342, 3534, 435] [-1, 3, 4]\n",
      "[9, 8, 7] [0, 1, 2]\n"
     ]
    }
   ],
   "source": [
    "from heapq import *\n",
    "k = [5,2,435,6,4342,3534,21,3,4]\n",
    "heapify(k)\n",
    "print k\n",
    "heappush(k,-1)\n",
    "print k\n",
    "w = heappop(k)\n",
    "print w,k\n",
    "heapreplace(k,-1)\n",
    "print k\n",
    "print nlargest(3,k) , nsmallest(3,k)\n",
    "from random import *\n",
    "print nlargest(3,p),nsmallest(3,p)"
   ]
  },
  {
   "cell_type": "markdown",
   "metadata": {},
   "source": [
    "3.双端队列  \n",
    "* deque:生成双端队列  \n",
    "* append：右插  \n",
    "* appendleft：左插  \n",
    "* pop：右弹  \n",
    "* popleft：左弹  \n",
    "* rotate：置换，整体置换，正数有右移，负数左移  \n",
    "* reverse：翻转  \n",
    "* count：双端队列中的元素计数  \n",
    "* index：下标访问,deque支持[]访问下表，这两个是一个意思  \n",
    "* extend：用列表右扩展  \n",
    "* extendleft：用列表左扩展，反向扩展，一中间为原点  "
   ]
  },
  {
   "cell_type": "code",
   "execution_count": 69,
   "metadata": {
    "collapsed": false
   },
   "outputs": [
    {
     "name": "stdout",
     "output_type": "stream",
     "text": [
      "deque([0, 1, 2, 3, 4, 5, 6, 7, 8, 9])\n",
      "deque([0, 1, 2, 3, 4, 5, 6, 7, 8, 9, -1])\n",
      "deque([-1, 0, 1, 2, 3, 4, 5, 6, 7, 8, 9, -1])\n",
      "-1\n",
      "-1\n",
      "deque([0, 1, 2, 3, 4, 5, 6, 7, 8, 9])\n",
      "deque([8, 9, 0, 1, 2, 3, 4, 5, 6, 7])\n",
      "deque([9, 0, 1, 2, 3, 4, 5, 6, 7, 8])\n",
      "deque([8, 7, 6, 5, 4, 3, 2, 1, 0, 9])\n",
      "0\n",
      "6\n",
      "deque([0, 1, 2, 3, 4, 5, 6, 7, 8, 9, 10, 11, 12])\n",
      "deque([-3, -2, -1, 0, 1, 2, 3, 4, 5, 6, 7, 8, 9, 10, 11, 12])\n"
     ]
    }
   ],
   "source": [
    "from collections import deque\n",
    "a = deque(range(10))\n",
    "print a\n",
    "a.append(-1)\n",
    "print a\n",
    "a.appendleft(-1)\n",
    "print a\n",
    "print a.pop()\n",
    "print a.popleft()\n",
    "print a\n",
    "a.rotate(2)\n",
    "print a\n",
    "a.rotate(-1)\n",
    "print a\n",
    "a.reverse()\n",
    "print a\n",
    "print a.count(-1)\n",
    "print a[2]#python3支持index函数，a.index(2)\n",
    "a.reverse()\n",
    "a.rotate(-1)\n",
    "a.extend(range(10,13))\n",
    "print a\n",
    "a.extendleft([-i for i in range(1,4)])\n",
    "print a"
   ]
  },
  {
   "cell_type": "markdown",
   "metadata": {},
   "source": [
    "### 4.time\n"
   ]
  }
 ],
 "metadata": {
  "kernelspec": {
   "display_name": "Python 2",
   "language": "python",
   "name": "python2"
  },
  "language_info": {
   "codemirror_mode": {
    "name": "ipython",
    "version": 2
   },
   "file_extension": ".py",
   "mimetype": "text/x-python",
   "name": "python",
   "nbconvert_exporter": "python",
   "pygments_lexer": "ipython2",
   "version": "2.7.13"
  }
 },
 "nbformat": 4,
 "nbformat_minor": 2
}
