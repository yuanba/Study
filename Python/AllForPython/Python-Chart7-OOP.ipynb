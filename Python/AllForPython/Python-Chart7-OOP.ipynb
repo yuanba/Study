{
 "cells": [
  {
   "cell_type": "markdown",
   "metadata": {},
   "source": [
    "Python 第七章复习　－　OOP\n",
    "在面向对象的程序设计中，我们的术语对象其实基本上可以看作是我们的数据和一系列可以存取和操作这些数据的方法构成的集合\n",
    "面向对象的三个基本的特征：\n",
    "１．多态\n",
    "２．继承\n",
    "３．封装"
   ]
  },
  {
   "cell_type": "code",
   "execution_count": 2,
   "metadata": {
    "collapsed": false
   },
   "outputs": [
    {
     "name": "stdout",
     "output_type": "stream",
     "text": [
      "2\n"
     ]
    }
   ],
   "source": [
    "'摘记'\n",
    "from random import choice\n",
    "print choice(range(10))"
   ]
  },
  {
   "cell_type": "markdown",
   "metadata": {},
   "source": [
    "类的概述：  \n",
    "我们可以大致的将类理解为是**一种**对象  \n",
    "在python中,我们在对类体中的函数或者数据成员进行声明的时候，往往都会加入以self参数进行生声明  \n",
    "这个self其实只带的是我们的具体的对象本身，当我们利用对象调用相应的函数的时候，我们这个self参数就对我们的对象进行绑定  \n",
    "从而具体的确定了我们的操作的对象\n",
    "\n",
    "私有化：在具体的成员前加上我们的双下划线从而显示的表明这是一个私有成员  \n",
    "但是其实我们完全可以通过通过参数名之前加上了单下划线和类名的形式来对私有成员进行访问，但是我们至少需要知道，我们的双下滑的形式是对我们的私有的成员的具体的定义，对使用者来说就是一个非常重要的信号\n",
    "\n",
    "并且在作为模块进行导入的时候，我们的前面有下划线的成员是不会被\n",
    "```\n",
    "from module import *\n",
    "```\n",
    "导入的,单下划线和双下划线都会被导入，但是我们如果直接导入模块,可以通过模块名进行引用　　\n",
    "```\n",
    "import module\n",
    "module._something()\n",
    "module.__something()\n",
    "'All the code is OK!'\n",
    "```"
   ]
  },
  {
   "cell_type": "code",
   "execution_count": 6,
   "metadata": {
    "collapsed": false
   },
   "outputs": [
    {
     "name": "stdout",
     "output_type": "stream",
     "text": [
      "1\n",
      "1\n"
     ]
    }
   ],
   "source": [
    "class a:\n",
    "    def __init__(self):\n",
    "        self.name = 1\n",
    "    def __print_name(self):\n",
    "        print self.name\n",
    "    def print_name(self):\n",
    "        print self.name\n",
    "\n",
    "p = a()\n",
    "#p.__print_name()\n",
    "p.print_name()\n",
    "p._a__print_name()"
   ]
  },
  {
   "cell_type": "markdown",
   "metadata": {},
   "source": [
    "类的命名空间：  \n",
    "类的命名空间和对应的属性　－　类属性，对象属性  \n",
    "首先我们需要了解到我们的python中的属性是采用分层管理机制的  \n",
    "类属性：  \n",
    "我们的类全局公有的属性，在熟悉感搜索中存在与最高层次，勒种全局访问，所有都是一致的\n",
    "对象属性；  \n",
    "对象属性是每个对象单独存在的，虽然我们的所有的对象都有这中属性但是具体的对象的该属性的值是不一样的  \n",
    "属性分层管理机制:  \n",
    "在python的类中，我们的属性都是采用分层管理的  \n",
    "类属性在最高层次，我们的对象属性在低层次，我们的调用我们的属性的时候，是会从最底层（对象层）开始查找，知道查找到类层，如果最终都没有找到  \n",
    "会显示进行报错，对象值管理对象的属性，我们的类管理我们的类属性  \n",
    "但是我们需要注意的是，如果我们将对象的类属性进行修改的话，因为我们的对象是不存在类属性的，这时候会在对象层添加一个类属性，之后我们  \n",
    "在通过这个对象调用类属性的时候，始终都不会查找到我们的类层，所以我们之后的类层属性的修改和这个对象就已经无关了 \n",
    "并且该对象的类属性修改不会影响我们的其他独享的类属性，只有用类名的修改（直接修改最高层次）才会导致全局的类属性的修改  \n"
   ]
  },
  {
   "cell_type": "code",
   "execution_count": 8,
   "metadata": {
    "collapsed": false
   },
   "outputs": [
    {
     "name": "stdout",
     "output_type": "stream",
     "text": [
      "1 1 1\n",
      "4 1 1\n",
      "4 2 2\n"
     ]
    }
   ],
   "source": [
    "class p:\n",
    "    m = 1\n",
    "    pass\n",
    "a = p()\n",
    "b = p()\n",
    "print a.m,b.m,p.m\n",
    "a.m = 4\n",
    "print a.m,b.m,p.m\n",
    "p.m = 2\n",
    "print a.m,b.m,p.m"
   ]
  },
  {
   "cell_type": "markdown",
   "metadata": {},
   "source": [
    "子类中的父类的显示调用  \n",
    "这里就不详细的秒数py２中的细节了，在py3中，我们的使用super关键字可以调用我们的父类的所有的对象"
   ]
  },
  {
   "cell_type": "markdown",
   "metadata": {},
   "source": [
    "检查继承关系:  \n",
    "issubclass(class1,class2)检查class１是否是class2的子类  \n",
    "isinstance(对象，类)检查一个对象的引用是否是一个类的实例  \n",
    "想要查看我们的对象的具体的类的成员，可以使用__class__成员,接力成员可以使用__bases__成员    "
   ]
  },
  {
   "cell_type": "code",
   "execution_count": 13,
   "metadata": {
    "collapsed": false
   },
   "outputs": [
    {
     "name": "stdout",
     "output_type": "stream",
     "text": [
      "True\n",
      "True\n",
      "__main__.a\n",
      "(<class __main__.a at 0x7fb6887048d8>, <type 'object'>)\n"
     ]
    }
   ],
   "source": [
    "class a:\n",
    "    pass\n",
    "class b(a,object):\n",
    "    pass\n",
    "print issubclass(b,a)\n",
    "print isinstance(a(),a)\n",
    "print a().__class__\n",
    "print b.__bases__"
   ]
  },
  {
   "cell_type": "markdown",
   "metadata": {},
   "source": [
    "特殊方法实现检查类的性质:  \n",
    "1.hasattr(对象/类,'成员（函数或者数据）')　－　返回Ｔｒｕｅ，或者Ｆａｌｓｅ表示存在或者不存在，检查一个类是否是函数类（函数）检查是否有__call__成员即可，在py3中这么用  \n",
    "２.getattr(对象/类，‘成员（同上）’,默认值)　－　直接调用相应属性，函数返回一个函数的描述，没有返回默认值\n"
   ]
  }
 ],
 "metadata": {
  "kernelspec": {
   "display_name": "Python 2",
   "language": "python",
   "name": "python2"
  },
  "language_info": {
   "codemirror_mode": {
    "name": "ipython",
    "version": 2
   },
   "file_extension": ".py",
   "mimetype": "text/x-python",
   "name": "python",
   "nbconvert_exporter": "python",
   "pygments_lexer": "ipython2",
   "version": "2.7.13"
  }
 },
 "nbformat": 4,
 "nbformat_minor": 2
}
