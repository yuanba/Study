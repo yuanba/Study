{
 "cells": [
  {
   "cell_type": "markdown",
   "metadata": {},
   "source": [
    "# Python 数学模块\n",
    "## 内容：\n",
    "## 1.math\n",
    "## 2.random\n",
    "## 3.decimal\n",
    "## 4.fractions\n",
    "## 5.cmath \n",
    "## 6.bin,oct,hex,int - 进制转化"
   ]
  },
  {
   "cell_type": "markdown",
   "metadata": {},
   "source": [
    "### 1.Math模块:"
   ]
  },
  {
   "cell_type": "code",
   "execution_count": 6,
   "metadata": {
    "collapsed": false
   },
   "outputs": [
    {
     "name": "stdout",
     "output_type": "stream",
     "text": [
      "3.0\n",
      "2.0\n",
      "1.0\n",
      "24\n",
      "2.82842712475\n",
      "4.0\n",
      "1.41421356237\n",
      "1.0\n",
      "1.0\n",
      "90.0\n",
      "0.523598775598\n",
      "2.71828182846 3.14159265359\n"
     ]
    }
   ],
   "source": [
    "from math import *\n",
    "print ceil(2.4)\n",
    "print floor(2.7)\n",
    "print fabs(-1)\n",
    "print factorial(4)\n",
    "print hypot(2,2)    #sqrt(x**2+y**2)\n",
    "print pow(2,2)    #a^b%c,python中ｐｏｗ支持了快速幂取模运算\n",
    "print sqrt(2)\n",
    "print log(e)    #e对数\n",
    "print log10(10)     #１０对数\n",
    "print degrees(pi/2)     #弧度转角度\n",
    "print radians(30)     #角度转弧度\n",
    "print e,pi"
   ]
  },
  {
   "cell_type": "markdown",
   "metadata": {},
   "source": [
    "### 2.Random模块\n",
    "**简要的解析**\n",
    "* sample :\n",
    "   sample函数是一个random內建的函数，用于从我们的一个非哈希序列中随机的提取我们要的数目的数据\n",
    "   * 接口： sample(seq , n) - n是要选择的数目\n",
    "   * seq中的数据允许重复，重复的对象我们一视同人（可以说我们其实是针对我们的索引的随机）\n",
    "   * 哈希型的序列seq不可以利用该函数，eg ： \\dict字典 ， 但是set可以\n",
    "   * 大数据量的情况下，我们采用range而不是具体的一个seq实例（使用迭代器）会更快更高效\n",
    "   * 原序列不会发生任何的改变，我们发挥一个list保存我们的随机选择的数据，所有的结果都是按照顺序依次随机的保证我们的整体随机性"
   ]
  },
  {
   "cell_type": "code",
   "execution_count": 17,
   "metadata": {
    "collapsed": false
   },
   "outputs": [
    {
     "name": "stdout",
     "output_type": "stream",
     "text": [
      "0.238584075142\n",
      "0\n",
      "35.9203596289\n",
      "10\n",
      "4\n",
      "None\n",
      "[5, 1, 3]\n",
      "28\n"
     ]
    }
   ],
   "source": [
    "from random import *\n",
    "print random()    #返回（０，１］之间的随机实数\n",
    "print getrandbits(4)   #返回一个长整形L，按照ｎ位生成随机的ｎ位二进制代码并将器转化成整数\n",
    "print uniform(1,100)   #f返回[a,b)之间的随机实数\n",
    "print randrange(0,20,2)   #按照范围和步长的约定随机生成一个数\n",
    "print choice(range(10))   #从列表中随机选择\n",
    "print shuffle(range(10))    #原地打乱一个序列\n",
    "print sample(range(10),3)    #从一个序列中随机抽取ｎ个数，升级版的ｃｈｏｉｃｅ\n",
    "print randint(1,100)    #生成随机的整数"
   ]
  },
  {
   "cell_type": "markdown",
   "metadata": {},
   "source": [
    "### 3.Decimal模块"
   ]
  },
  {
   "cell_type": "code",
   "execution_count": 24,
   "metadata": {
    "collapsed": false
   },
   "outputs": [
    {
     "name": "stdout",
     "output_type": "stream",
     "text": [
      "Context(prec=28, rounding=ROUND_HALF_EVEN, Emin=-999999999, Emax=999999999, capitals=1, flags=[Inexact, Rounded], traps=[DivisionByZero, Overflow, InvalidOperation])\n",
      "0.3333333333333333333333333333\n",
      "-1342.313\n"
     ]
    }
   ],
   "source": [
    "from decimal import *\n",
    "print getcontext()    #其中ｐｒｅｃ属性可以设置全局的所有的ｄｅｃｉｍａｌ浮点数的小数点精度\n",
    "print Decimal(1)/Decimal(3)\n",
    "#最重要的是ｄｅｃｉｍａｌ可以规整我们的输入，我们的输入的形式转化成标准的十进制浮点数\n",
    "print Decimal(\"-.01342313e5\")"
   ]
  },
  {
   "cell_type": "markdown",
   "metadata": {},
   "source": [
    "### 4.fractions分数模块"
   ]
  },
  {
   "cell_type": "code",
   "execution_count": 27,
   "metadata": {
    "collapsed": false
   },
   "outputs": [
    {
     "name": "stdout",
     "output_type": "stream",
     "text": [
      "1/2\n",
      "1/4\n",
      "3/7\n",
      "-1/8\n",
      "2476979795053773/2251799813685248\n"
     ]
    }
   ],
   "source": [
    "from fractions import *\n",
    "print Fraction(5,10)\n",
    "print Fraction(0.25)\n",
    "print Fraction(\"3/7\")\n",
    "print Fraction(\"-0.125\")\n",
    "from decimal import *\n",
    "print Fraction(Decimal(1.1))\n",
    "\n",
    "# Fraction.denominator - 分母\n",
    "# Fraction.numerator - 分子"
   ]
  },
  {
   "cell_type": "markdown",
   "metadata": {},
   "source": [
    "### 5.cmath复数模块"
   ]
  },
  {
   "cell_type": "code",
   "execution_count": 31,
   "metadata": {
    "collapsed": false
   },
   "outputs": [
    {
     "name": "stdout",
     "output_type": "stream",
     "text": [
      "(1+1j)\n"
     ]
    },
    {
     "data": {
      "text/plain": [
       "1j"
      ]
     },
     "execution_count": 31,
     "metadata": {},
     "output_type": "execute_result"
    }
   ],
   "source": [
    "from cmath import *\n",
    "a = 1 + 1j\n",
    "print a\n",
    "sqrt(-1)"
   ]
  },
  {
   "cell_type": "markdown",
   "metadata": {},
   "source": [
    "### 6.进制转化內建函数"
   ]
  },
  {
   "cell_type": "code",
   "execution_count": 39,
   "metadata": {
    "collapsed": false
   },
   "outputs": [
    {
     "name": "stdout",
     "output_type": "stream",
     "text": [
      "0b1100100\n",
      "0144 <type 'str'>\n",
      "0x64\n",
      "100\n",
      "-1\n",
      "0b1010\n"
     ]
    }
   ],
   "source": [
    "print bin(100)\n",
    "print oct(100),type(oct(100))\n",
    "print hex(100)\n",
    "print int(oct(100),8)    #前面是字符串，后面是字符串对应的进制数，转化成十进制\n",
    "print int(\"-1\")\n",
    "print bin(int(oct(10),8))    #八进制转二进制，类似都可以"
   ]
  }
 ],
 "metadata": {
  "kernelspec": {
   "display_name": "Python 2",
   "language": "python",
   "name": "python2"
  },
  "language_info": {
   "codemirror_mode": {
    "name": "ipython",
    "version": 2
   },
   "file_extension": ".py",
   "mimetype": "text/x-python",
   "name": "python",
   "nbconvert_exporter": "python",
   "pygments_lexer": "ipython2",
   "version": "2.7.13"
  }
 },
 "nbformat": 4,
 "nbformat_minor": 2
}
