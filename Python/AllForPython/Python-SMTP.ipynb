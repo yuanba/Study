{
 "cells": [
  {
   "cell_type": "markdown",
   "metadata": {},
   "source": [
    "## SMTP模块\n",
    "python和其他的高级语言都支持收发邮件，在这里因为工作目的的导向性，我只学习SMTP，Email模块，不学习poplib,对于收邮件的工作，我使用客户端就可以很好的解决方案，没有必要使用python,我学习该模块的目的在于使用email模块有自爬虫节点传递必要的数据给邮箱上以便我可以快速的从邮箱上了解到现在爬虫发生的事情  \n",
    "\n",
    "### 电子邮件\n",
    "几乎所有的编程语言都支持收发email邮件，在这里我先记录一下网络上的邮件的收发规则  \n",
    "先了解几个名词:   \n",
    "* MUA  :  mail user agent,邮件用户代理，也就是我们经常使用的邮件客户端\n",
    "* MTA  :  mail transerfer agent,邮件传输代理，每个邮件公司比如163网页，新浪实际上都有自己的对用户的MTA，用来转发用户的邮件\n",
    "* MDA  :  mail delivery agent,邮件投递代理，所有的邮经转很多的MTA之后就会停在公司的某个服务器内部，简称电子邮箱，等待MUA从中读取获得邮件\n",
    "* SMTP :  simple mail transfer propotol,简单邮件传输协议，这里的传输协议包含了MUA->MTA和MTA->MTA的两种传输\n",
    "* POP  :  邮件接收协议，本篇笔记不对此涉及\n",
    "\n",
    "邮件的过程:  \n",
    "MUA -> MTA -> MTA -> ... -> MTA -> MDA -> MUA\n",
    "\n",
    "### 发送邮件\n",
    "python发送邮件涉及到的库有两个,smtplib ,email,email负责构建邮件，smtplib负责传输邮件    \n",
    "* 库导入    "
   ]
  },
  {
   "cell_type": "code",
   "execution_count": 2,
   "metadata": {
    "collapsed": true
   },
   "outputs": [],
   "source": [
    "import smtplib\n",
    "from email import encoders    # 加密编码\n",
    "from email.mime.text import MIMEText    # 正文\n",
    "from email.mime.multipart import MIMEMultipart    # 附件插入\n",
    "from email.mime.base import MIMEBase    # 可以存放我们的邮件的附件\n",
    "from email.header import Header         # 对邮件内容进行编码\n",
    "from email.utils import parseaddr , formataddr    #　前一个函数解析地址，后一个格式化重建地址，解析和重建的目的在于在中间插入编码部分"
   ]
  },
  {
   "cell_type": "markdown",
   "metadata": {},
   "source": [
    "* 正常文本     \n",
    "    msg = MIMEText('hello, send by Python...', 'plain', 'utf-8')    \n",
    "    第一个参数是正文，第二个参数是文本格式(plain , html),第三个参数是编码格式"
   ]
  },
  {
   "cell_type": "code",
   "execution_count": 4,
   "metadata": {
    "collapsed": false
   },
   "outputs": [
    {
     "name": "stdout",
     "output_type": "stream",
     "text": [
      "From: 18811371908@163.com\n",
      "Password: ltyq970106\n",
      "To: 18811371908@163.com,1753485499@qq.com\n",
      "SMTP server: smtp.163.com\n"
     ]
    },
    {
     "name": "stderr",
     "output_type": "stream",
     "text": [
      "send: 'ehlo [127.0.1.1]\\r\\n'\n",
      "reply: b'250-mail\\r\\n'\n",
      "reply: b'250-PIPELINING\\r\\n'\n",
      "reply: b'250-AUTH LOGIN PLAIN\\r\\n'\n",
      "reply: b'250-AUTH=LOGIN PLAIN\\r\\n'\n",
      "reply: b'250-coremail 1Uxr2xKj7kG0xkI17xGrU7I0s8FY2U3Uj8Cz28x1UUUUU7Ic2I0Y2UFZBNpiUCa0xDrUUUUj\\r\\n'\n",
      "reply: b'250-STARTTLS\\r\\n'\n",
      "reply: b'250 8BITMIME\\r\\n'\n",
      "reply: retcode (250); Msg: b'mail\\nPIPELINING\\nAUTH LOGIN PLAIN\\nAUTH=LOGIN PLAIN\\ncoremail 1Uxr2xKj7kG0xkI17xGrU7I0s8FY2U3Uj8Cz28x1UUUUU7Ic2I0Y2UFZBNpiUCa0xDrUUUUj\\nSTARTTLS\\n8BITMIME'\n",
      "send: 'AUTH PLAIN ADE4ODExMzcxOTA4QDE2My5jb20AbHR5cTk3MDEwNg==\\r\\n'\n",
      "reply: b'235 Authentication successful\\r\\n'\n",
      "reply: retcode (235); Msg: b'Authentication successful'\n",
      "send: 'mail FROM:<18811371908@163.com>\\r\\n'\n",
      "reply: b'250 Mail OK\\r\\n'\n",
      "reply: retcode (250); Msg: b'Mail OK'\n",
      "send: 'rcpt TO:<18811371908@163.com>\\r\\n'\n",
      "reply: b'250 Mail OK\\r\\n'\n",
      "reply: retcode (250); Msg: b'Mail OK'\n",
      "send: 'rcpt TO:<1753485499@qq.com>\\r\\n'\n",
      "reply: b'250 Mail OK\\r\\n'\n",
      "reply: retcode (250); Msg: b'Mail OK'\n",
      "send: 'data\\r\\n'\n",
      "reply: b'354 End data with <CR><LF>.<CR><LF>\\r\\n'\n",
      "reply: retcode (354); Msg: b'End data with <CR><LF>.<CR><LF>'\n",
      "data: (354, b'End data with <CR><LF>.<CR><LF>')\n",
      "send: b'Content-Type: text/plain; charset=\"utf-8\"\\r\\nMIME-Version: 1.0\\r\\nContent-Transfer-Encoding: base64\\r\\nFrom: 18811371908@163.com\\r\\nTo: 18811371908@163.com,1753485499@qq.com\\r\\nSubject: =?utf-8?b?5p2l6IeqU01UUOeahOmXruWAmeKApuKApg==?=\\r\\n\\r\\naGVsbG8sIHNlbmQgYnkgUHl0aG9uLi4u\\r\\n.\\r\\n'\n",
      "reply: b'250 Mail OK queued as smtp12,EMCowADX7W4DipZZkHeiCg--.8698S2 1503037955\\r\\n'\n",
      "reply: retcode (250); Msg: b'Mail OK queued as smtp12,EMCowADX7W4DipZZkHeiCg--.8698S2 1503037955'\n",
      "data: (250, b'Mail OK queued as smtp12,EMCowADX7W4DipZZkHeiCg--.8698S2 1503037955')\n",
      "send: 'quit\\r\\n'\n",
      "reply: b'221 Bye\\r\\n'\n",
      "reply: retcode (221); Msg: b'Bye'\n"
     ]
    },
    {
     "data": {
      "text/plain": [
       "(221, b'Bye')"
      ]
     },
     "execution_count": 4,
     "metadata": {},
     "output_type": "execute_result"
    }
   ],
   "source": [
    "# 群发邮件\n",
    "def _format_addr(s):\n",
    "    name, addr = parseaddr(s)    #　解析地址\n",
    "    return formataddr((Header(name, 'utf-8').encode(), addr))    # 格式化地址并使用header进行base64编码，不使用也可以\n",
    "\n",
    "# 输入Email地址和口令:\n",
    "from_addr = input('From: ')\n",
    "password = input('Password: ')\n",
    "# 输入收件人地址:\n",
    "to_addr = input('To: ')\n",
    "# 输入SMTP服务器地址:\n",
    "smtp_server = input('SMTP server: ')    # smtp.163.com / smtp.qq.com\n",
    "\n",
    "msg = MIMEText('hello, send by Python...', 'plain', 'utf-8')\n",
    "# msg['From'] = _format_addr('Python爱好者 <%s>' % from_addr)英文地址没有必要使用该函数\n",
    "msg['From'] = from_addr\n",
    "msg['To'] = to_addr    #　使用，分割可以正确的群发邮件的\n",
    "msg['Subject'] = Header('来自SMTP的问候……', 'utf-8').encode()    #　邮件的标题使用header进行编码传输\n",
    "\n",
    "server = smtplib.SMTP(smtp_server, 25) # SMTP协议默认端口是25\n",
    "server.set_debuglevel(1)    # 设置打印交互信息，可以ｄｅｂｕｇ\n",
    "server.login(from_addr, password)     # 登录smtp服务器\n",
    "server.sendmail(from_addr, list(to_addr.split(',')), msg.as_string())    #　发送邮件，都一个是发件人地址，第二个是收件人地址，因为可以群发所有我们使用列表参数，第二个是邮件的正文，因为只允许使用字节或者字符串的形式，所以必须要进行转化\n",
    "server.quit()"
   ]
  },
  {
   "cell_type": "markdown",
   "metadata": {
    "collapsed": true
   },
   "source": [
    "* HTML文本\n",
    "    发送HTML文本，我们只需要将HTML文本当成text输入正文，然后将plain变化成html即可"
   ]
  },
  {
   "cell_type": "markdown",
   "metadata": {
    "collapsed": true
   },
   "source": [
    "* 添加附件  \n",
    "带附件的邮件可以看做包含若干部分的邮件：文本和各个附件本身，所以，可以构造一个MIMEMultipart对象代表邮件本身，然后往里面加上一个MIMEText作为邮件正文，再继续往里面加上表示附件的MIMEBase对象即可  "
   ]
  },
  {
   "cell_type": "code",
   "execution_count": 8,
   "metadata": {
    "collapsed": false
   },
   "outputs": [
    {
     "name": "stderr",
     "output_type": "stream",
     "text": [
      "send: 'ehlo [127.0.1.1]\\r\\n'\n",
      "reply: b'250-mail\\r\\n'\n",
      "reply: b'250-PIPELINING\\r\\n'\n",
      "reply: b'250-AUTH LOGIN PLAIN\\r\\n'\n",
      "reply: b'250-AUTH=LOGIN PLAIN\\r\\n'\n",
      "reply: b'250-coremail 1Uxr2xKj7kG0xkI17xGrU7I0s8FY2U3Uj8Cz28x1UUUUU7Ic2I0Y2UrcVczuUCa0xDrUUUUj\\r\\n'\n",
      "reply: b'250-STARTTLS\\r\\n'\n",
      "reply: b'250 8BITMIME\\r\\n'\n",
      "reply: retcode (250); Msg: b'mail\\nPIPELINING\\nAUTH LOGIN PLAIN\\nAUTH=LOGIN PLAIN\\ncoremail 1Uxr2xKj7kG0xkI17xGrU7I0s8FY2U3Uj8Cz28x1UUUUU7Ic2I0Y2UrcVczuUCa0xDrUUUUj\\nSTARTTLS\\n8BITMIME'\n",
      "send: 'AUTH PLAIN ADE4ODExMzcxOTA4QDE2My5jb20AbHR5cTk3MDEwNg==\\r\\n'\n",
      "reply: b'235 Authentication successful\\r\\n'\n",
      "reply: retcode (235); Msg: b'Authentication successful'\n",
      "send: 'mail FROM:<18811371908@163.com>\\r\\n'\n",
      "reply: b'250 Mail OK\\r\\n'\n",
      "reply: retcode (250); Msg: b'Mail OK'\n",
      "send: 'rcpt TO:<18811371908@163.com>\\r\\n'\n",
      "reply: b'250 Mail OK\\r\\n'\n",
      "reply: retcode (250); Msg: b'Mail OK'\n",
      "send: 'rcpt TO:<1753485499@qq.com>\\r\\n'\n",
      "reply: b'250 Mail OK\\r\\n'\n",
      "reply: retcode (250); Msg: b'Mail OK'\n",
      "send: 'data\\r\\n'\n",
      "reply: b'354 End data with <CR><LF>.<CR><LF>\\r\\n'\n",
      "reply: retcode (354); Msg: b'End data with <CR><LF>.<CR><LF>'\n",
      "data: (354, b'End data with <CR><LF>.<CR><LF>')\n",
      "send: b'Content-Type: multipart/mixed; boundary=\"===============1759444062260648468==\"\\r\\nMIME-Version: 1.0\\r\\nFrom: 18811371908@163.com\\r\\nTo: 18811371908@163.com,1753485499@qq.com\\r\\nSubject: =?utf-8?b?5p2l6IeqU01UUOeahOmXruWAmeKApuKApg==?=\\r\\n\\r\\n--===============1759444062260648468==\\r\\nContent-Type: text/plain; charset=\"utf-8\"\\r\\nMIME-Version: 1.0\\r\\nContent-Transfer-Encoding: base64\\r\\n\\r\\nc2VuZCB3aXRoIGZpbGUuLi4=\\r\\n\\r\\n--===============1759444062260648468==\\r\\nContent-Type: text/ipynb; filename=\"SMTP.ipynb\"\\r\\nMIME-Version: 1.0\\r\\nContent-Disposition: attachment; filename=\"SMTP.ipynb\"\\r\\nContent-ID: <0>\\r\\nX-Attachment-Id: 0\\r\\nContent-Transfer-Encoding: base64\\r\\n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\\r\\nIjogNCwKICJuYmZvcm1hdF9taW5vciI6IDIKfQo=\\r\\n\\r\\n--===============1759444062260648468==--\\r\\n.\\r\\n'\n",
      "reply: b'250 Mail OK queued as smtp12,EMCowADX7W76i5ZZZCijCg--.8840S2 1503038458\\r\\n'\n",
      "reply: retcode (250); Msg: b'Mail OK queued as smtp12,EMCowADX7W76i5ZZZCijCg--.8840S2 1503038458'\n",
      "data: (250, b'Mail OK queued as smtp12,EMCowADX7W76i5ZZZCijCg--.8840S2 1503038458')\n",
      "send: 'quit\\r\\n'\n",
      "reply: b'221 Bye\\r\\n'\n",
      "reply: retcode (221); Msg: b'Bye'\n"
     ]
    },
    {
     "data": {
      "text/plain": [
       "(221, b'Bye')"
      ]
     },
     "execution_count": 8,
     "metadata": {},
     "output_type": "execute_result"
    }
   ],
   "source": [
    "# 邮件对象:\n",
    "msg = MIMEMultipart()\n",
    "msg['From'] = from_addr\n",
    "msg['To'] = to_addr\n",
    "msg['Subject'] = Header('来自SMTP的问候……').encode('utf8')\n",
    "\n",
    "# 邮件正文是MIMEText:\n",
    "msg.attach(MIMEText('send with file...', 'plain', 'utf-8'))\n",
    "\n",
    "# 添加附件就是加上一个MIMEBase，从本地读取一个图片:\n",
    "with open('/home/lantian/File/Study/Python/AllForPython/Python-SMTP.ipynb', 'rb') as f:\n",
    "    # 设置附件的MIME和文件名，这里是png类型:\n",
    "    mime = MIMEBase('text', 'ipynb', filename='SMTP.ipynb')\n",
    "    # 加上必要的头信息:\n",
    "    mime.add_header('Content-Disposition', 'attachment', filename='SMTP.ipynb')\n",
    "    mime.add_header('Content-ID', '<0>')\n",
    "    mime.add_header('X-Attachment-Id', '0')\n",
    "    # 把附件的内容读进来:\n",
    "    mime.set_payload(f.read())\n",
    "    # 用Base64编码:\n",
    "    encoders.encode_base64(mime)\n",
    "    # 添加到MIMEMultipart:\n",
    "    msg.attach(mime)\n",
    "\n",
    "server = smtplib.SMTP(smtp_server, 25) # SMTP协议默认端口是25\n",
    "server.set_debuglevel(1)    # 设置打印交互信息，可以ｄｅｂｕｇ\n",
    "server.login(from_addr, password)     # 登录smtp服务器\n",
    "server.sendmail(from_addr, list(to_addr.split(',')), msg.as_string())    #　发送邮件，都一个是发件人地址，第二个是收件人地址，因为可以群发所有我们使用列表参数，第二个是邮件的正文，因为只允许使用字节或者字符串的形式，所以必须要进行转化\n",
    "server.quit()"
   ]
  }
 ],
 "metadata": {
  "kernelspec": {
   "display_name": "Python 3",
   "language": "python",
   "name": "python3"
  },
  "language_info": {
   "codemirror_mode": {
    "name": "ipython",
    "version": 3
   },
   "file_extension": ".py",
   "mimetype": "text/x-python",
   "name": "python",
   "nbconvert_exporter": "python",
   "pygments_lexer": "ipython3",
   "version": "3.5.2"
  }
 },
 "nbformat": 4,
 "nbformat_minor": 2
}
