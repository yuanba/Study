{
 "cells": [
  {
   "cell_type": "markdown",
   "metadata": {},
   "source": [
    "#### 函数\n",
    "* sorted : 返回新的排好序的可迭代对象，原可迭代对象不改变\n",
    "* .sort : 原可迭代对象改变的排序方式,无返回值\n",
    "#### 参数\n",
    "* key : 该参数是一个函数，该函数将对每一个数据在比较前被调用，**要求该函数接受一个值作为参数并且返回一个值**\n",
    "    1. 可以用来指定结构体排序的排序单元（或者类的属性选取的排序，和结构体排序一个想法）\n",
    "    2. 可以用来对排序的元素做进一步的约束\n",
    "    3. operator模块的强化 : key参数的使用非常广泛，因此python提供了一些方便的函数来使得访问方法更加容易和快速\n",
    "* reverse :   \n",
    "    该参数用来指定是升序还是降序,默认升序  \n",
    "    True : 降序  \n",
    "    False : 升序  \n",
    "* 排序的稳定性 :   \n",
    "    同一个键值排序后，按照原来的顺序排列的排序成为是稳定的排序，python的排序保证是稳定的"
   ]
  },
  {
   "cell_type": "code",
   "execution_count": 6,
   "metadata": {
    "collapsed": false
   },
   "outputs": [
    {
     "name": "stdout",
     "output_type": "stream",
     "text": [
      "1.  ['a', 'Andrew', 'from', 'is', 'string', 'test', 'This']\n",
      "2.  [('dave', 'B', 10), ('jane', 'B', 12), ('john', 'A', 15)]\n"
     ]
    }
   ],
   "source": [
    "print('1. ' , sorted(\"This is a test string from Andrew\".split(), key=str.lower))\n",
    "\n",
    "student_tuples = [\n",
    "        ('john', 'A', 15),\n",
    "        ('jane', 'B', 12),\n",
    "        ('dave', 'B', 10),\n",
    "]\n",
    "print('2. ' , sorted(student_tuples , key = lambda x : x[2]))"
   ]
  },
  {
   "cell_type": "code",
   "execution_count": 10,
   "metadata": {
    "collapsed": false
   },
   "outputs": [
    {
     "name": "stdout",
     "output_type": "stream",
     "text": [
      "1. [('dave', 'B', 10), ('jane', 'B', 12), ('john', 'A', 15)]\n",
      "2. [('dave', 'B', 10), ('jane', 'B', 12), ('john', 'A', 15)]\n",
      "3. [('john', 'A', 15), ('dave', 'B', 10), ('jane', 'B', 12)]\n",
      "4. [('john', 'A', 15), ('dave', 'B', 10), ('jane', 'B', 12)]\n"
     ]
    }
   ],
   "source": [
    "# 上面的key参数的使用非常广泛，因此python提供了一些方便的函数来使得访问方法更加容易和快速。\n",
    "# operator模块有itemgetter，attrgetter，从2.6开始还增加了methodcaller方法。使用这些方法，上面的操作将变得更加简洁和快速：\n",
    "\n",
    "class Student:\n",
    "    def __init__(self, name, grade, age):\n",
    "        self.name = name\n",
    "        self.grade = grade\n",
    "        self.age = age\n",
    "    def __repr__(self):\n",
    "        return repr((self.name, self.grade, self.age))\n",
    "student_objects = [\n",
    "        Student('john', 'A', 15),\n",
    "        Student('jane', 'B', 12),\n",
    "        Student('dave', 'B', 10),\n",
    "]\n",
    "\n",
    "from operator import itemgetter, attrgetter\n",
    "print('1.' , sorted(student_tuples, key=itemgetter(2)))\n",
    "print('2.' , sorted(student_objects, key=attrgetter('age')))\n",
    "\n",
    "# operator模块还允许多级的排序，例如，先以grade，然后再以age来排序：\n",
    "print('3.' , sorted(student_tuples, key=itemgetter(1,2)))\n",
    "print('4.' , sorted(student_objects, key=attrgetter('grade', 'age')))"
   ]
  },
  {
   "cell_type": "code",
   "execution_count": 12,
   "metadata": {
    "collapsed": false
   },
   "outputs": [
    {
     "name": "stdout",
     "output_type": "stream",
     "text": [
      "[6, 5, 4, 3, 2, 1]\n",
      "[1, 2, 3, 4, 5, 6]\n"
     ]
    }
   ],
   "source": [
    "a = [1,2,3,4,6,5]\n",
    "print(sorted(a , reverse=True))\n",
    "print(sorted(a , reverse=False))"
   ]
  },
  {
   "cell_type": "code",
   "execution_count": 24,
   "metadata": {
    "collapsed": false
   },
   "outputs": [
    {
     "name": "stdout",
     "output_type": "stream",
     "text": [
      "[[1, 2],\n",
      " [1, 3],\n",
      " [1, 4],\n",
      " [1, 1],\n",
      " [2, 5],\n",
      " [2, 2],\n",
      " [3, 5],\n",
      " [3, 4],\n",
      " [4, 2],\n",
      " [5, 3],\n",
      " [5, 4]]\n",
      "--------------------\n",
      "[[1, 4],\n",
      " [1, 3],\n",
      " [1, 2],\n",
      " [1, 1],\n",
      " [2, 5],\n",
      " [2, 2],\n",
      " [3, 5],\n",
      " [3, 4],\n",
      " [4, 2],\n",
      " [5, 4],\n",
      " [5, 3]]\n",
      "--------------------\n",
      "[(2, '1'), (2, '3'), (2, '8'), (3, '4'), (4, '1')]\n"
     ]
    }
   ],
   "source": [
    "# 稳定性检验\n",
    "import pprint\n",
    "a = [[1 , 2],[1,3] , [1,4] , [2,5] , [3,5] , [1,1] , [2,2] , [5,3] , [5,4] , [4,2] , [3,4]]\n",
    "pprint.pprint(sorted(a , key = lambda x : x[0]))\n",
    "\n",
    "print('-' * 20)\n",
    "\n",
    "# 按照0升序，1降序\n",
    "pprint.pprint(sorted(a , key = lambda x : (x[0] , -x[1])))\n",
    "\n",
    "print('-' * 20)\n",
    "\n",
    "# 上面的情况中，如果出现无法使用-号的话，建议使用类包装一下，采用object.__lt__方法\n",
    "# 从这里面可以看出，我们的排序是调用类内部的__lt__魔法方法使用的\n",
    "class Reversinator(object):\n",
    "    def __init__(self, obj):\n",
    "        self.obj = obj\n",
    "    def __lt__(self, other):\n",
    "        return other.obj > self.obj    # (other , self)的情况下返回的是True的时候，进行交换，所以是升序，否则降序\n",
    "a = [(2,'3'),(4,'1'),(2,'8'),(2,'1'),(3,'4')]\n",
    "print(sorted(a, key=lambda x: (x[0], Reversinator(x[1]))))"
   ]
  }
 ],
 "metadata": {
  "kernelspec": {
   "display_name": "Python 3",
   "language": "python",
   "name": "python3"
  },
  "language_info": {
   "codemirror_mode": {
    "name": "ipython",
    "version": 3
   },
   "file_extension": ".py",
   "mimetype": "text/x-python",
   "name": "python",
   "nbconvert_exporter": "python",
   "pygments_lexer": "ipython3",
   "version": "3.5.2"
  }
 },
 "nbformat": 4,
 "nbformat_minor": 2
}
