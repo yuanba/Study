{
 "cells": [
  {
   "cell_type": "markdown",
   "metadata": {},
   "source": [
    "### hashlib安全哈希模块\n",
    "在python3中，我们的haslib模块为我们提供了包括基础的md5(32位16进制,128bit)和sha1(40位１６进制,160bit),sha256,sha384,sha512在内的基础的安全哈希算法   \n",
    "这里对于密码学的东西我就不再过多的赘述了，我们只需要知道安全哈希函数的特点和作用是什么了 \n",
    "\n",
    "1. 特点:  \n",
    "   hash函数可以实现将任意不定长输入转化成定长输出，并且保证不可逆(在密码学忠这里的数学定义更加复杂，主要涉及到碰撞性)我们在使用的时候只需要知道安全的哈希函数是很难的找到碰撞的(对于给你的一个哈希的结果，很难伪造出另一个字符串使得器哈希结果和给你的串的哈希结果一致)，这就是我们常说的单向性\n",
    "2. 应用：  \n",
    "   通过上面我们知道了哈希函数的基本特点，这样我们就可以利用哈希函数构造MAC或者校验码举个很常见的例子，我们在数据库中存储用户的用户名和密码需要保证这么几个因素  \n",
    "   * 数据库密文存储\n",
    "   * 数据库的管理人员不能知道用户的密码\n",
    "   * 数据库丢失的话，黑客无法利用手头的资源在多项式时间内计算出用户的密码\n",
    "   \n",
    "   所以为了保证上面的操作，我们可以这么构建我们的存储和验证方式\n",
    "   \n",
    "   * 存储:\n",
    "       用户名(盐) + 用户密码 -> hash -> save password\n",
    "       上面使用用户名加盐的目的就是为了防防止不同用户的密码相同导致哈希结果一直的情况\n",
    "   * 验证:\n",
    "       用户名(盐) + 输入的密码 -> hash -> new password -> 和save password一致 -> 验证成功\n",
    "3. hashlib模块的基本使用方法\n",
    "    * 创建哈希对象\n",
    "    * 对哈希对象update提交字节数据(b'' / str.encode('utf8')\n",
    "    * digest / hexdigest获取摘要结果"
   ]
  },
  {
   "cell_type": "code",
   "execution_count": 7,
   "metadata": {
    "collapsed": false
   },
   "outputs": [
    {
     "name": "stdout",
     "output_type": "stream",
     "text": [
      "b'\\xad\\t\\xfb\\x7f\"xPxf\\xb2\\xb2w\\xbd\\xbdl\\x04' ad09fb7f2278507866b2b277bdbd6c04 32\n",
      "b'\\xd0C\\xf8\\xa5\\xcb\\x8cP\\x05\\xaa\\xcdo{J\\x9f\\xca\"\\xe5\\x8a\\xads' d043f8a5cb8c5005aacd6f7b4a9fca22e58aad73 40\n"
     ]
    }
   ],
   "source": [
    "import hashlib\n",
    "# md5\n",
    "md5 = hashlib.md5()\n",
    "md5.update(b'i love python')\n",
    "md5.update(',forever!'.encode('utf8'))    # 可以继续填充字节流到哈希对象\n",
    "print(md5.digest() , md5.hexdigest() , len(md5.hexdigest()))     # 十进制输出，１６进制输出\n",
    "\n",
    "# sha1\n",
    "sha1 = hashlib.sha1()\n",
    "sha1.update(b'i love python')\n",
    "sha1.update(',forever!'.encode('utf8'))    # 可以继续填充字节流到哈希对象\n",
    "print(sha1.digest() , sha1.hexdigest() , len(sha1.hexdigest()))     # 十进制输出，１６进制输出\n"
   ]
  }
 ],
 "metadata": {
  "kernelspec": {
   "display_name": "Python 3",
   "language": "python",
   "name": "python3"
  },
  "language_info": {
   "codemirror_mode": {
    "name": "ipython",
    "version": 3
   },
   "file_extension": ".py",
   "mimetype": "text/x-python",
   "name": "python",
   "nbconvert_exporter": "python",
   "pygments_lexer": "ipython3",
   "version": "3.5.2"
  }
 },
 "nbformat": 4,
 "nbformat_minor": 2
}
