{
 "cells": [
  {
   "cell_type": "markdown",
   "metadata": {},
   "source": [
    "### CSV格式文件\n",
    "1. Comma-Separated Values ,又称**逗号分割值**,有时候也叫字符分割值，因为有时候使用的不仅仅是逗号作为分隔符号，是一种**文本文件**,这种文本文件使用相应的符号分割字段保存数据，是早期的数据存储方式   \n",
    "2. 因为是文本形式的，意味着我们不需要使用二进制的读取就可以轻易的读到字符序列的CSV文件  \n",
    "3. CSV文件有任意数目的记录组成，记录之间使用某种换行符号(默认是\\n)分割，每一条记录有多个字段构成，字段使用类似逗号或者其他的分隔符分割\n",
    "4. 所谓的CSV（Comma Separated Values）格式是电子表格和数据库最常见的导入和导出格式。在尝试以 RFC 4180以标准化方式描述格式之前，CSV格式已使用多年。尽管分隔符和引用字符不同，但是整体格式是足够相似的，以致于可以编写能够有效地操作这样的数据的单个模块，隐藏从编程器读取和写入数据的细节。\n",
    "5. python3-csv : csv模块的reader和writer对象读取和写入序列。程序员还可以使用DictReader和DictWriter类以字典形式读取和写入数据。\n",
    "\n",
    "### Python3 - CSV\n",
    "1. python3使用csv库来对CSV文件做读取和写入处理操作，为了实现读写我们需要实例化两种对象writer / reader对象  \n",
    "2. 写操作:"
   ]
  },
  {
   "cell_type": "code",
   "execution_count": 21,
   "metadata": {
    "collapsed": false
   },
   "outputs": [],
   "source": [
    "import csv\n",
    "\n",
    "# csv.writer(csvfile , delimiter = '')\n",
    "\n",
    "headers = ['ID' , 'UserName' ,'Password' , 'Age' ,'Country']    # 行首\n",
    "rows = [(1001 , 'lantian' , 'xxxxxxxx' , 21 , 'China'),\n",
    "        (1002 , 'wanggeyuan' , 'sfdfsfsdf' , 21 , 'China'),\n",
    "        (1003 , 'mary' , 'i love python' , 20 , 'USA')]\n",
    "'''\n",
    "with open('ready.csv' , 'w') as f:\n",
    "    f_csv = csv.writer(f , delimiter = '：')\n",
    "    f_csv.writerow(headers)\n",
    "    f_csv.writerows(rows)\n",
    "'''\n",
    "# csv.DictWriter(csvfile , delimter = '')  字典CSV读写对象\n",
    "\n",
    "headers = ['ID' , 'UserName' ,'Password' , 'Age' ,'Country']    # 行首\n",
    "rows = [{'ID':'1001' , 'UserName':'lantian', 'Password':'xxxxxxx' , 'Age':21 , 'Country':'China'},\n",
    "        {'ID':'1002' , 'UserName':'wanggeyuan', 'Password':'xxxxxxx' , 'Age':22 , 'Country':'China'}]\n",
    "\n",
    "with open('ready.csv' , 'w') as f:\n",
    "    f_csv = csv.DictWriter(f , headers)    # 将字典的识别头加入进来\n",
    "    f_csv.writeheader()    # 写入头\n",
    "    f_csv.writerows(rows)"
   ]
  },
  {
   "cell_type": "markdown",
   "metadata": {},
   "source": [
    "    1. 对与写操作，我们首先使用csv.writer将文件写对象包装成csv写对象，之后可以调用writerow/writerows写入csv数据  \n",
    "    其中比较重要的是:**f可以是任意的可写对象，并且delimiter定义我们的分隔符号**   \n",
    "    2. 对于Dictwriter写对象，我们先把header作为域加入进去，然后分别写头和写数据\n",
    "3.读操作  \n",
    "__________\n",
    "** 小要点 **：\n",
    "这里我补充一个以前没有注意过的小要点，一个next（）函数，我们对于迭代对象有个认识就是迭代对象可以使用next函数获取到下一个要迭代的值，在这里我们使用的读取的是文件对象，为了简单的操作获取我们的头信息，我们对读文件对象首先执行next操作，获取我们的csv文件的头域信息之后就很方便处理csv剩下的数据了   \n",
    "__________\n",
    "同样的，我们使用csv.reader(f)包装我们的读文件对象，使用next获取文件迭代对象的第一组头域信息，我们要注意，我们这个函数的包装结果返回一行是一个记录，一个记录的数据放在list中保存  \n",
    "\n",
    "列表的数据访问不便性\n",
    "1. 但是，我们这里可以使用collections模块的一个小技巧，因为我们获取的时候使用列表的形式存储，这样我们访问每一个记录的字段的时候会带来相当大的不便，所以我们这里采用使用collections模块的namedtuple命名元组的修饰作用\n",
    "2. 字典序列读取对象包装:"
   ]
  },
  {
   "cell_type": "code",
   "execution_count": 23,
   "metadata": {
    "collapsed": false
   },
   "outputs": [
    {
     "name": "stdout",
     "output_type": "stream",
     "text": [
      "1.\n",
      "1001 lantian\n",
      "1002 wanggeyuan\n",
      "2.\n",
      "1001 lantian <class 'dict'>\n",
      "1002 wanggeyuan <class 'dict'>\n"
     ]
    }
   ],
   "source": [
    "'''\n",
    "with open('ready.csv' , 'r') as f:\n",
    "    f_csv = csv.reader(f)\n",
    "    headers = next(f_csv)    # 获取头域\n",
    "    print(headers)\n",
    "    content = []\n",
    "    for i in f_csv:\n",
    "        content.append(i)\n",
    "    print(content)\n",
    "'''    \n",
    "# colloection.namedtuple的优化策略\n",
    "from collections import namedtuple\n",
    "\n",
    "print(\"1.\")\n",
    "with open('ready.csv' , 'r') as f:\n",
    "    f_csv = csv.reader(f)    # 包装读文件对象\n",
    "    headers = next(f_csv)    #　获取头域信息\n",
    "    Row = namedtuple('Row' , headers)    #　构造行数据**对象**\n",
    "    for i in f_csv:\n",
    "        row = Row(*i)    #　序列解包\n",
    "        print(row.ID , row.UserName)   \n",
    "\n",
    "print(\"2.\")\n",
    "with open(\"ready.csv\" , 'r') as f:\n",
    "    f_csv = csv.DictReader(f)    # 可以不用提供头域信息，自动识别\n",
    "    for i in f_csv:\n",
    "        print(i.get('ID') , i['UserName'] , type(i))"
   ]
  }
 ],
 "metadata": {
  "kernelspec": {
   "display_name": "Python 3",
   "language": "python",
   "name": "python3"
  },
  "language_info": {
   "codemirror_mode": {
    "name": "ipython",
    "version": 3
   },
   "file_extension": ".py",
   "mimetype": "text/x-python",
   "name": "python",
   "nbconvert_exporter": "python",
   "pygments_lexer": "ipython3",
   "version": "3.5.2"
  }
 },
 "nbformat": 4,
 "nbformat_minor": 2
}
