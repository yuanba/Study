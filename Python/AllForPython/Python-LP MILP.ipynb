{
 "cells": [
  {
   "cell_type": "code",
   "execution_count": 27,
   "metadata": {
    "collapsed": false
   },
   "outputs": [
    {
     "data": {
      "text/latex": [
       "$$(x_1 , x_2 , x_3 , x_4 , ...) = X$$\n",
       "$$\\sum_{j=1}^n a_{ij}x_i \\ (>=,=,<=) \\ b_j$$\n",
       "$$Minimize/Maximize\\ f(x) = \\sum_{j=1}^n c_j*x_j$$\n"
      ],
      "text/plain": [
       "<IPython.core.display.Latex object>"
      ]
     },
     "execution_count": 27,
     "metadata": {},
     "output_type": "execute_result"
    }
   ],
   "source": [
    "from IPython.display import Latex\n",
    "Latex(r'''$$(x_1 , x_2 , x_3 , x_4 , ...) = X$$\n",
    "$$\\sum_{j=1}^n a_{ij}x_i \\ (>=,=,<=) \\ b_j$$\n",
    "$$Minimize/Maximize\\ f(x) = \\sum_{j=1}^n c_j*x_j$$\n",
    "'''\n",
    ")"
   ]
  },
  {
   "cell_type": "markdown",
   "metadata": {},
   "source": [
    "对上面的X如果都属于实数的话满足上面的条件的就属于线性规划问题，如果有部分的x是整数的话，我们认为是混合整数线性规划问题"
   ]
  }
 ],
 "metadata": {
  "kernelspec": {
   "display_name": "Python 3",
   "language": "python",
   "name": "python3"
  },
  "language_info": {
   "codemirror_mode": {
    "name": "ipython",
    "version": 3
   },
   "file_extension": ".py",
   "mimetype": "text/x-python",
   "name": "python",
   "nbconvert_exporter": "python",
   "pygments_lexer": "ipython3",
   "version": "3.5.2"
  }
 },
 "nbformat": 4,
 "nbformat_minor": 2
}
