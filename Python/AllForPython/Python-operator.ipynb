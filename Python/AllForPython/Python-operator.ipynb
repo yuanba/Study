{
 "cells": [
  {
   "cell_type": "markdown",
   "metadata": {},
   "source": [
    "operator模块是一个python的标准库模块，为python提供了很多的高效函数接口，这些函数包括\n",
    "* 对象比较\n",
    "    对象比较函数可以应用所有的python对象\n",
    "    * operator.lt(a, b) : a < b \n",
    "    * operator.le(a, b) : a <= b\n",
    "    * operator.eq(a, b) : a == b\n",
    "    * operator.ne(a, b) : a != b\n",
    "    * operator.ge(a, b) : a > b\n",
    "    * operator.gt(a, b) : a >= b\n",
    "* 逻辑判断\n",
    "* 数学函数\n",
    "* 数列运算\n",
    "* operator.attrgetter('...'):  \n",
    "    返回一个函数，该函数用来对参数提取对应的属性或者方法(attr)\n",
    "    * After f = attrgetter('name'), the call f(b) returns b.name.\n",
    "    * After f = attrgetter('name', 'date'), the call f(b) returns (b.name, b.date).\n",
    "    * After f = attrgetter('name.first', 'name.last'), the call f(b) returns (b.name.first, b.name.last).\n",
    "* operator.itemgetter\n",
    "    同上，返回函数  \n",
    "    * After f = itemgetter(2), the call f(r) returns r[2].\n",
    "    * After g = itemgetter(2, 5, 3), the call g(r) returns (r[2], r[5], r[3]).\n",
    "* operator.methodcaller('...')\n",
    "    同上，返回函数\n",
    "    * After f = methodcaller('name'), the call f(b) returns b.name().\n",
    "    * After f = methodcaller('name', 'foo', bar=1), the call f(b) returns b.name('foo', bar=1)."
   ]
  }
 ],
 "metadata": {
  "kernelspec": {
   "display_name": "Python 3",
   "language": "python",
   "name": "python3"
  },
  "language_info": {
   "codemirror_mode": {
    "name": "ipython",
    "version": 3
   },
   "file_extension": ".py",
   "mimetype": "text/x-python",
   "name": "python",
   "nbconvert_exporter": "python",
   "pygments_lexer": "ipython3",
   "version": "3.5.2"
  }
 },
 "nbformat": 4,
 "nbformat_minor": 2
}
