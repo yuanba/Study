{
 "cells": [
  {
   "cell_type": "markdown",
   "metadata": {},
   "source": [
    "## queue Module\n",
    "queue模块是python的标准库模块，queue为我们提供了**线程安全(资源进程内共享所以线程安全)但是进程不安全**的队列数据结构封装\n",
    "\n",
    "１．类别：  \n",
    "* queue.Queue()：队列\n",
    "* queue.LifoQueue()：栈\n",
    "* queue.PriorityQueue()：优先队列\n",
    "* queue.deque()：双端队列,he collutions的deque是一样的，之前做过总结，这里就不赘述了\n",
    "\n",
    "2.基本操作（Queue , Lifoqueue , PriorityQueen）：\n",
    "* queue.Queue(maxsize = ?):\n",
    "    除了双端队列均有这样的构造方式，设定队列的容量，maxsize <=0 表示无限队列，否则表示有长容量maxsize的队列  \n",
    "    默认无限长,**queue存在属性maxsize**  \n",
    "* queue.empty():返回bool型变量表示是否空  \n",
    "* queue.full():返回bool型变量表示是否满  \n",
    "* queue.qsize():返回当前的容量  \n",
    "* queue.get(block = True , timeout = None):  \n",
    "    获取并删除该元素  \n",
    "    * block = True : 决定阻塞同步等待其他的线程插入queue以便我们之后可以get  \n",
    "        timeout默认的话，会一直阻塞至有元素可以get，否则会**阻塞最多timeout时长**以同步其他线程直到有空余立即get  \n",
    "        如果始终为空，阻塞结束之后胡抛出空异常  \n",
    "        阻塞是默认的  \n",
    "    * block = False : 不阻塞，如果有元素立即get否则会抛出空异常  \n",
    "* queue.put(item , block = True , timeout = None):  \n",
    "    将数据item加入队列  \n",
    "    * block = True : 决定阻塞同步等待其他的线程去除元素以便可以put  \n",
    "        timeout默认的话，会一直阻塞到有空余位置，否则会**阻塞最多timeout时长**同步其他线程然后put  \n",
    "        如果阻塞后仍然是满，阻塞后抛出满异常  \n",
    "        阻塞默认  \n",
    "    * block = False : 不阻塞，有空位立即put否则抛出满异常  \n",
    "* queue.get_nowait():不阻塞立即get  \n",
    "* queue.put_nowait():不阻塞立即put  \n",
    "* queue.join():一直阻塞知道直到的队列元素都被取出  "
   ]
  },
  {
   "cell_type": "code",
   "execution_count": 13,
   "metadata": {
    "collapsed": false
   },
   "outputs": [
    {
     "name": "stdout",
     "output_type": "stream",
     "text": [
      "0 1 2 3 4 "
     ]
    }
   ],
   "source": [
    "# Queue\n",
    "import queue\n",
    "q1 = queue.Queue(maxsize = 5)\n",
    "for i in range(5):\n",
    "    q1.put(i)\n",
    "while not q1.empty():\n",
    "    print(q1.get() , end = ' ')"
   ]
  },
  {
   "cell_type": "code",
   "execution_count": 15,
   "metadata": {
    "collapsed": false
   },
   "outputs": [
    {
     "name": "stdout",
     "output_type": "stream",
     "text": [
      "4 3 2 1 0 "
     ]
    }
   ],
   "source": [
    "# LifoQueue\n",
    "import queue\n",
    "q1 = queue.LifoQueue(maxsize = 5)\n",
    "for i in range(5):\n",
    "    q1.put(i)\n",
    "while not q1.empty():\n",
    "    print(q1.get() , end = ' ')"
   ]
  },
  {
   "cell_type": "code",
   "execution_count": 20,
   "metadata": {
    "collapsed": false
   },
   "outputs": [
    {
     "name": "stdout",
     "output_type": "stream",
     "text": [
      "(0.07294466471679217, 1)\n",
      "(0.22582331042410053, 2)\n",
      "(0.2767483774539492, 3)\n",
      "(0.43842658217985675, 0)\n",
      "(0.8741002397060965, 4)\n"
     ]
    }
   ],
   "source": [
    "# PriorityQueue\n",
    "# (a, b)作为插入的元素，ａ代表优先级，ｂ代表数据,升序排列\n",
    "import queue\n",
    "import random\n",
    "q1 = queue.PriorityQueue(maxsize = 5)\n",
    "for i in range(5):\n",
    "    q1.put((random.random() , i))    # 必须是元组的形式\n",
    "while not q1.empty():\n",
    "    print(q1.get())"
   ]
  },
  {
   "cell_type": "code",
   "execution_count": 29,
   "metadata": {
    "collapsed": false
   },
   "outputs": [
    {
     "name": "stdout",
     "output_type": "stream",
     "text": [
      "processing 11711 is recving...processing 11711 is sending...\n",
      "processing 11711 is recving 1\n",
      "\n",
      "processing 11711 is sending 1\n",
      "processing 11711 is recving 2processing 11711 is sending 2\n",
      "\n",
      "processing 11711 is recving 3processing 11711 is sending 3\n",
      "\n",
      "processing 11711 is recving 4processing 11711 is sending 4\n",
      "\n",
      "processing 11711 is recving 5processing 11711 is sending 5\n",
      "\n",
      "processing 11711 is recving 6processing 11711 is sending 6\n",
      "\n",
      "processing 11711 is recving 7processing 11711 is sending 7\n",
      "\n",
      "processing 11711 is recving 8processing 11711 is sending 8\n",
      "\n",
      "processing 11711 is recving 9processing 11711 is sending 9\n",
      "\n",
      "End\n"
     ]
    },
    {
     "name": "stderr",
     "output_type": "stream",
     "text": [
      "Exception in thread Thread-31:\n",
      "Traceback (most recent call last):\n",
      "  File \"/usr/lib/python3.5/threading.py\", line 914, in _bootstrap_inner\n",
      "    self.run()\n",
      "  File \"/usr/lib/python3.5/threading.py\", line 862, in run\n",
      "    self._target(*self._args, **self._kwargs)\n",
      "  File \"<ipython-input-29-6358f326107e>\", line 17, in recv\n",
      "    msg = q.get(block = True , timeout = 5)    # 最多阻塞５秒以同步send线程\n",
      "  File \"/usr/lib/python3.5/queue.py\", line 172, in get\n",
      "    raise Empty\n",
      "queue.Empty\n",
      "\n"
     ]
    }
   ],
   "source": [
    "# 线程安全\n",
    "import queue , os , time , random , threading\n",
    "import multiprocessing as mp\n",
    "\n",
    "q = queue.Queue()    # Infinite queue\n",
    "\n",
    "def send(q,msg):\n",
    "    print(\"processing %s is sending...\" % os.getpid())\n",
    "    for i in msg:\n",
    "        q.put(i)\n",
    "        print(\"processing %s is sending %s\" % (os.getpid() , i))\n",
    "        time.sleep(random.random())\n",
    "        \n",
    "def recv(q):\n",
    "    print(\"processing %s is recving...\" % os.getpid())\n",
    "    while True:    # 这里不可以写成not q.empty(),因为如果因为ｓｅｎｄ在睡眠的时候我们的recv线程读取为０会跳出循环\n",
    "        msg = q.get(block = True , timeout = 5)    # 最多阻塞５秒以同步send线程\n",
    "        print(\"processing %s is recving %s\" % (os.getpid() , msg))\n",
    "\n",
    "send = threading.Thread(target = send , args = (q,[1,2,3,4,5,6,7,8,9],))\n",
    "recv = threading.Thread(target = recv , args = (q,))\n",
    "send.start()\n",
    "recv.start()\n",
    "send.join()\n",
    "recv.join()\n",
    "print(\"End\")"
   ]
  },
  {
   "cell_type": "markdown",
   "metadata": {},
   "source": [
    "## threading Module\n",
    "多线程模块，我们需要注意的是，因为全局解释器锁(GIL)的限制，python始终不可以多核线程，假多线程\n",
    "１．开启多线程:\n",
    "    t = threading.Thread(target = function , name = '' , args = (,))\n",
    "    开启名为name,参数是args任务是fucntion的子线程\n",
    "2.获取当前线程：\n",
    "    t = threading.current_thread()"
   ]
  }
 ],
 "metadata": {
  "kernelspec": {
   "display_name": "Python 3",
   "language": "python",
   "name": "python3"
  }
 },
 "nbformat": 4,
 "nbformat_minor": 2
}
